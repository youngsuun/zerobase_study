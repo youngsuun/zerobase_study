{
 "cells": [
  {
   "cell_type": "markdown",
   "source": [
    "# 주제 | 프로그래밍 언어의 인기 순을 확인해보자.\r\n",
    "- 목표\r\n",
    "    - 인기도를 가늠할 수 있는 방법으로, \r\n",
    "    각 언어별 출판되는 책의 양을 확인해본다.\r\n"
   ],
   "metadata": {}
  },
  {
   "cell_type": "markdown",
   "source": [
    "```\r\n",
    "- 단계별 진행 내용\r\n",
    "    1. 프로그래밍 언어 10개 선정\r\n",
    "    2. 네이버API 로 총 10개 언어에 대한 출판 책 정보 수집 & 데이터 가공\r\n",
    "    3. 각 언어별 출판물의 양 순위 매겨 시각화\r\n",
    "    4. 컴퓨터 언어 관련 출판사 순위 확인 및 시각화\r\n",
    "    5. 기간별 데이터 비교\r\n",
    "```"
   ],
   "metadata": {}
  },
  {
   "cell_type": "markdown",
   "source": [
    "---"
   ],
   "metadata": {}
  },
  {
   "cell_type": "code",
   "execution_count": 1,
   "source": [
    "import pandas as pd\r\n",
    "import numpy as np\r\n",
    "import matplotlib.pyplot as plt\r\n",
    "import set_matplotlib_hangul\r\n",
    "import warnings\r\n",
    "\r\n",
    "warnings.filterwarnings(action='ignore')"
   ],
   "outputs": [],
   "metadata": {}
  },
  {
   "cell_type": "markdown",
   "source": [
    "---"
   ],
   "metadata": {}
  },
  {
   "cell_type": "markdown",
   "source": [
    "## 1. 프로그래밍 언어 10개 선정\r\n",
    "- 선정 기준\r\n",
    "    - TIOBE 라는 소프트웨어 코드 품질 관리하는 회사에서 발표하는 컴퓨터 언어 순위 \r\n",
    "    https://www.tiobe.com/tiobe-index/\r\n",
    "        - 1~9위 언어 \r\n",
    "        - 데이터 사이언스 과제이므로 R 언어 추가"
   ],
   "metadata": {}
  },
  {
   "cell_type": "code",
   "execution_count": 3,
   "source": [
    "# 홈페이지에서 1~9위 순위 언어 가져오기\r\n",
    "from selenium import webdriver\r\n",
    "url = 'https://www.tiobe.com/tiobe-index/'\r\n",
    "driver = webdriver.Chrome('../driver/chromedriver.exe')\r\n",
    "driver.get(url)"
   ],
   "outputs": [],
   "metadata": {}
  },
  {
   "cell_type": "code",
   "execution_count": 15,
   "source": [
    "xpath = '//*[@id=\"top20\"]/tbody'\r\n",
    "lang = driver.find_elements_by_xpath(xpath)\r\n",
    "lang = lang[0].text.split('\\n')\r\n",
    "name_list = []\r\n",
    "for i in lang:\r\n",
    "    name_list.append(i.split(' ')[2])\r\n",
    "\r\n",
    "name_list = name_list[:9]\r\n",
    "name_list\r\n",
    "\r\n"
   ],
   "outputs": [
    {
     "output_type": "execute_result",
     "data": {
      "text/plain": [
       "['Python', 'C', 'Java', 'C++', 'C#', 'Visual', 'JavaScript', 'SQL', 'PHP']"
      ]
     },
     "metadata": {},
     "execution_count": 15
    }
   ],
   "metadata": {}
  },
  {
   "cell_type": "code",
   "execution_count": 16,
   "source": [
    "# R언어 추가\r\n",
    "name_list.append('R')\r\n",
    "name_list"
   ],
   "outputs": [
    {
     "output_type": "execute_result",
     "data": {
      "text/plain": [
       "['Python', 'C', 'Java', 'C++', 'C#', 'Visual', 'JavaScript', 'SQL', 'PHP', 'R']"
      ]
     },
     "metadata": {},
     "execution_count": 16
    }
   ],
   "metadata": {}
  },
  {
   "cell_type": "code",
   "execution_count": 17,
   "source": [
    "driver.quit()"
   ],
   "outputs": [],
   "metadata": {}
  },
  {
   "cell_type": "markdown",
   "source": [
    "---"
   ],
   "metadata": {}
  },
  {
   "cell_type": "markdown",
   "source": [
    "## 2. 네이버API 로 총 10개 언어에 대한 출판 책 정보 수집 & 데이터 가공\r\n",
    "- 네이버 API로 총 10개 언어에 대한 출판 책 정보 수집\r\n",
    "- isbn unique 확인 "
   ],
   "metadata": {}
  },
  {
   "cell_type": "markdown",
   "source": [
    "### 2-1. 출판 책 정보 수집"
   ],
   "metadata": {}
  },
  {
   "cell_type": "markdown",
   "source": [
    "---"
   ],
   "metadata": {}
  },
  {
   "cell_type": "markdown",
   "source": [
    "### - R언어 출판책 수집"
   ],
   "metadata": {}
  },
  {
   "cell_type": "code",
   "execution_count": 6,
   "source": [
    "# 네이버 API - 책 에서 검색된 R언어 책 정보들\r\n",
    "\r\n",
    "import os\r\n",
    "import sys\r\n",
    "import urllib.request\r\n",
    "\r\n",
    "client_id = \"3nWMTmF4NdtMZlfadGDX\"\r\n",
    "client_secret = \"bk9r1RK4H0\"\r\n",
    "\r\n",
    "encText = urllib.parse.quote(\"R언어프로그래밍\")\r\n",
    "url = \"https://openapi.naver.com/v1/search/book?query=\" + encText \r\n",
    "request = urllib.request.Request(url)\r\n",
    "request.add_header(\"X-Naver-Client-Id\",client_id)\r\n",
    "request.add_header(\"X-Naver-Client-Secret\",client_secret)\r\n",
    "response = urllib.request.urlopen(request)\r\n",
    "rescode = response.getcode()\r\n",
    "if(rescode==200):\r\n",
    "    response_body = response.read()\r\n",
    "    print(response_body.decode('utf-8'))\r\n",
    "else:\r\n",
    "    print(\"Error Code:\" + rescode)"
   ],
   "outputs": [
    {
     "output_type": "stream",
     "name": "stdout",
     "text": [
      "{\n",
      "\"lastBuildDate\": \"Thu, 21 Oct 2021 00:35:18 +0900\",\n",
      "\"total\": 373,\n",
      "\"start\": 1,\n",
      "\"display\": 10,\n",
      "\"items\": [\n",
      "{\n",
      "\"title\": \"<b>R언어 프로그래밍</b> (컴퓨터 비정공자를 위한 빅데이터 활용의 시작)\",\n",
      "\"link\": \"http://book.naver.com/bookdb/book_detail.php?bid=20918555\",\n",
      "\"image\": \"https://bookthumb-phinf.pstatic.net/cover/209/185/20918555.jpg?type=m1&udate=20211013\",\n",
      "\"author\": \"박성호|문경희|양자영|이윤정|조미숙\",\n",
      "\"price\": \"24000\",\n",
      "\"discount\": \"22800\",\n",
      "\"publisher\": \"부산대학교출판문화원\",\n",
      "\"pubdate\": \"20210831\",\n",
      "\"isbn\": \"8973167197 9788973167197\",\n",
      "\"description\": \"4차 산업혁명의 시대에는 우리에게 주어진 문제를 <b>프로그래밍</b> <b>언어</b>를 활용하여 해결할 수 있는 역량을 요구한다. 즉, 우리 주위에서 발생하는 많은 문제 중에는 인간의 사고와 추론이 문제 해결의 핵심이 되는 경우도 있지만 빠른 계산과 데이터의 처리가 문제 해결에 핵심이 되는 경우도 많다. 그러므로 문제... \"\n",
      "\n",
      "},\n",
      "{\n",
      "\"title\": \"안드로이드 <b>프로그래밍</b> (Android Studio를 활용한,Android 11.0 (<b>R</b>) 지원, Android Studio 4.x 사용)\",\n",
      "\"link\": \"http://book.naver.com/bookdb/book_detail.php?bid=17764819\",\n",
      "\"image\": \"https://bookthumb-phinf.pstatic.net/cover/177/648/17764819.jpg?type=m1&udate=20210624\",\n",
      "\"author\": \"우재남|박길식\",\n",
      "\"price\": \"32000\",\n",
      "\"discount\": \"31360\",\n",
      "\"publisher\": \"한빛아카데미\",\n",
      "\"pubdate\": \"20210107\",\n",
      "\"isbn\": \"1156645247 9791156645245\",\n",
      "\"description\": \"Android 11.0 (<b>R</b>) 버전으로 만나는 Android Studio를 활용한 안드로이드 <b>프로그래밍</b>\\n1.\\t초보자도 쉽게 접근할 수 있도록 친절하게 설명합니다.\\n2.\\t프로그램을 단계별로 완성해가면서 코드에 대한 이해도를 높입니다.\\n3.\\t안드로이드 11.0(<b>R</b>) 버전, Android Studio 4.1을 적용하여 실습합니다.\\n4.\\t원 클릭으로 모든 개발... \"\n",
      "\n",
      "},\n",
      "{\n",
      "\"title\": \"데이터분석을 위한 <b>R</b> <b>프로그래밍</b> (기초부터 실전 데이터분석까지)\",\n",
      "\"link\": \"http://book.naver.com/bookdb/book_detail.php?bid=20884853\",\n",
      "\"image\": \"https://bookthumb-phinf.pstatic.net/cover/208/848/20884853.jpg?type=m1&udate=20210901\",\n",
      "\"author\": \"목원대학교 스톡스대학 SW교양학부\",\n",
      "\"price\": \"14000\",\n",
      "\"discount\": \"13700\",\n",
      "\"publisher\": \"인피니티북스\",\n",
      "\"pubdate\": \"20210903\",\n",
      "\"isbn\": \"1185578854 9791185578859\",\n",
      "\"description\": \"R을 활용한 데이터분석의 기초부터 실전까지이 책은 데이터분석과 <b>R</b> <b>프로그래밍</b>을 배우고자 하는 초보 입문자들이 쉽게 따라해 보며 학습할 수 있도록 구성하였다. 각각의 챕터 내에서 많은 예제를 포함하고 있으며, 각 절마다 배운 내용을 복습해볼 수 있도록 실습문제를 배치하여 스스로 사고하고 해결해... \"\n",
      "\n",
      "},\n",
      "{\n",
      "\"title\": \"<b>R언어</b>를 활용한 기초컴퓨터<b>프로그래밍</b> (컴퓨터 비전공자를 위한)\",\n",
      "\"link\": \"http://book.naver.com/bookdb/book_detail.php?bid=12569877\",\n",
      "\"image\": \"https://bookthumb-phinf.pstatic.net/cover/125/698/12569877.jpg?type=m1&udate=20180206\",\n",
      "\"author\": \"박성호|문경희|이호창|조미숙\",\n",
      "\"price\": \"24000\",\n",
      "\"discount\": \"23500\",\n",
      "\"publisher\": \"부산대학교출판부\",\n",
      "\"pubdate\": \"20180105\",\n",
      "\"isbn\": \"8973165577 9788973165575\",\n",
      "\"description\": \"『<b>R언어</b>를 활용한 기초컴퓨터<b>프로그래밍</b>』에서는 <b>R언어</b>를 사용하여 인문학, 사회학, 경제학 등 컴퓨터를 전공하지 않는 학생들도 쉽고 간단하게 컴퓨터 <b>프로그래밍</b>을 이용하여 주어진 문제를 해결하는 방법을 기술하고 있다. 특히, <b>R언어</b>는 편리하게 자료를 처리할 수 있는 기능이 있어 자신의 전공분야와 관련된... \"\n",
      "\n",
      "},\n",
      "{\n",
      "\"title\": \"<b>R언어</b>로 짜는 금융<b>프로그래밍</b>\",\n",
      "\"link\": \"http://book.naver.com/bookdb/book_detail.php?bid=10044377\",\n",
      "\"image\": \"https://bookthumb-phinf.pstatic.net/cover/100/443/10044377.jpg?type=m1&udate=20190208\",\n",
      "\"author\": \"장기천|강병진\",\n",
      "\"price\": \"25000\",\n",
      "\"discount\": \"22500\",\n",
      "\"publisher\": \"서울경제경영\",\n",
      "\"pubdate\": \"20151230\",\n",
      "\"isbn\": \"8997937391 9788997937394\",\n",
      "\"description\": \"▶ 이 책은<b>R언어</b>로 짜는 금융<b>프로그래밍</b> 에 대해 다룬 이론서입니다. <b>R언어</b> 및 금융<b>프로그래밍</b>의 기초적이고 전반적인 내용을 학습할 수 있도록 구성했습니다.\"\n",
      "\n",
      "},\n",
      "{\n",
      "\"title\": \"빅데이터 분석 R<b>프로그래밍</b>으로 시작하기\",\n",
      "\"link\": \"http://book.naver.com/bookdb/book_detail.php?bid=17914247\",\n",
      "\"image\": \"https://bookthumb-phinf.pstatic.net/cover/179/142/17914247.jpg?type=m1&udate=20210325\",\n",
      "\"author\": \"김민지|임호진\",\n",
      "\"price\": \"22000\",\n",
      "\"discount\": \"19800\",\n",
      "\"publisher\": \"성안당\",\n",
      "\"pubdate\": \"20210122\",\n",
      "\"isbn\": \"8931556780 9788931556780\",\n",
      "\"description\": \"하지만 어디서부터 접근해야 할지 막막한 독자들을 위해 이 책에서는 R<b>프로그래밍</b>을 이용하여 누구나 빅데이터 분석을 할 수 있도록 데이터의 기본적인 개념, R의 유용한 함수와 패키지, 그리고 이를 이용한 데이터 분석 실습과 나만의 포트폴리오를 만들 수 있는 구성 방법까지 모두 담았습니다.... \"\n",
      "\n",
      "},\n",
      "{\n",
      "\"title\": \"빅데이터 분석 도구 <b>R</b> <b>프로그래밍</b> (에이콘 클라우드 컴퓨팅 시리즈 7,데이터 고급 분석과 통계 <b>프로그래밍</b>을 위한)\",\n",
      "\"link\": \"http://book.naver.com/bookdb/book_detail.php?bid=6977446\",\n",
      "\"image\": \"https://bookthumb-phinf.pstatic.net/cover/069/774/06977446.jpg?type=m1&udate=20210731\",\n",
      "\"author\": \"노만 매트로프\",\n",
      "\"price\": \"35000\",\n",
      "\"discount\": \"31500\",\n",
      "\"publisher\": \"에이콘출판\",\n",
      "\"pubdate\": \"20120823\",\n",
      "\"isbn\": \"8960773336 9788960773332\",\n",
      "\"description\": \"■ 디버깅은 어떤 <b>언어</b>로 <b>프로그래밍</b>하는 경우라도 매우 중요하다. 대다수 <b>R</b> 책에서는 이를 강조하지 않는다. 이 책에서는 ‘확장 예제’를 통해 실제 프로그램이 어떻게 디버깅되는지 전반적인 수행 과정을 모두 보여주는 형태로 모두 디버깅 기술에 1개 장을 할애했다.  ■ 오늘날은 가정에서도 멀티코어... \"\n",
      "\n",
      "},\n",
      "{\n",
      "\"title\": \"<b>프로그래밍</b> <b>언어</b>도감 (가장 인기있는 <b>프로그래밍</b> <b>언어</b> 67개 수록)\",\n",
      "\"link\": \"http://book.naver.com/bookdb/book_detail.php?bid=13786540\",\n",
      "\"image\": \"https://bookthumb-phinf.pstatic.net/cover/137/865/13786540.jpg?type=m1&udate=20180809\",\n",
      "\"author\": \"마스이 토시카츠\",\n",
      "\"price\": \"16000\",\n",
      "\"discount\": \"14400\",\n",
      "\"publisher\": \"영진닷컴\",\n",
      "\"pubdate\": \"20180801\",\n",
      "\"isbn\": \"893145810X 9788931458107\",\n",
      "\"description\": \"<b>언어</b>를 선택하는 여러 가지 기준을 제시하고 C, 자바, 파이썬, <b>R</b> 등 현재 가장 인기 있는 67개의 <b>프로그래밍</b> <b>언어</b>의 특징과 기능을 재미있는 그림과 간단한 설명을 통해 한 눈에 파악할 수 있습니다. 국방, 항공, 인공지능에 사용되는 컴퓨터 <b>언어</b>와 취미 삼아 만들어진 난해 <b>언어</b> 등 <b>언어</b>의 탄생 배경에 대한 내용을... \"\n",
      "\n",
      "},\n",
      "{\n",
      "\"title\": \"파이썬 <b>프로그래밍</b> (누구나 쉽게 배우는)\",\n",
      "\"link\": \"http://book.naver.com/bookdb/book_detail.php?bid=7272046\",\n",
      "\"image\": \"https://bookthumb-phinf.pstatic.net/cover/072/720/07272046.jpg?type=m1&udate=20180314\",\n",
      "\"author\": \"제이슨 <b>R</b>. 브리그스\",\n",
      "\"price\": \"27000\",\n",
      "\"discount\": \"24300\",\n",
      "\"publisher\": \"비제이퍼블릭\",\n",
      "\"pubdate\": \"20130808\",\n",
      "\"isbn\": \"8994774467 9788994774466\",\n",
      "\"description\": \"『누구나 쉽게 배우는 파이썬 <b>프로그래밍</b>』은 배우기 쉽고 사용하기 편한 <b>프로그래밍</b> <b>언어</b>를 소개하는 책이다. 저자는 재미있는 예제와 기본적인 것들을 배울 수 있도록 구성했고, 새로운 용어에 대한 정의, 코드에 대한 해부, 상세한 설명, 삽화를 통해 파이썬 프로그램을 설명한다. 리스트와 튜플, 맵과 같은... \"\n",
      "\n",
      "},\n",
      "{\n",
      "\"title\": \"<b>R</b> <b>프로그래밍</b>\",\n",
      "\"link\": \"http://book.naver.com/bookdb/book_detail.php?bid=11556551\",\n",
      "\"image\": \"https://bookthumb-phinf.pstatic.net/cover/115/565/11556551.jpg?type=m1&udate=20170121\",\n",
      "\"author\": \"허명회\",\n",
      "\"price\": \"20000\",\n",
      "\"discount\": \"19000\",\n",
      "\"publisher\": \"자유아카데미\",\n",
      "\"pubdate\": \"20170120\",\n",
      "\"isbn\": \"1158081227 9791158081225\",\n",
      "\"description\": \"『<b>R</b> <b>프로그래밍</b>』은 오픈소스의 데이터분석 <b>언어</b>인 R을 학습하여 통계 <b>프로그래밍</b>에 쓰고자 하는 이들을 위한 교재다. 부록은 MLB (MAJOR LEAGUE BASEBALL) 데이터 분석을 다룬 3개 장으로 구성하였다. 본문 12개 장을 뗀 단계에서 이런 정도의 실제 데이터 분석을 할 수 있음을 보이고자 했다.\"\n",
      "\n",
      "}\n",
      "]\n",
      "}\n",
      "\n"
     ]
    }
   ],
   "metadata": {}
  },
  {
   "cell_type": "code",
   "execution_count": 7,
   "source": [
    "def get_search_url(api_node, search_text, start_num, disp_num):\r\n",
    "    base = 'https://openapi.naver.com/v1/search'\r\n",
    "    node = '/' + api_node + '.json'  # 어디에다 요청할 것인지\r\n",
    "    param_query = '?query=' + urllib.parse.quote(search_text)  # 여기서 서치텍스트는 몰스킨\r\n",
    "    param_start = '&start=' + str(start_num)\r\n",
    "    param_disp = '&display=' + str(disp_num)\r\n",
    "\r\n",
    "    return base + node + param_query + param_start + param_disp"
   ],
   "outputs": [],
   "metadata": {}
  },
  {
   "cell_type": "code",
   "execution_count": 8,
   "source": [
    "import json\r\n",
    "import datetime\r\n",
    "def get_result_onepage(url):\r\n",
    "    request = urllib.request.Request(url)\r\n",
    "    request.add_header(\"X-Naver-Client-Id\",client_id)\r\n",
    "    request.add_header(\"X-Naver-Client-Secret\",client_secret)\r\n",
    "    response = urllib.request.urlopen(request)\r\n",
    "    print('[%s] url request success' % datetime.datetime.now())\r\n",
    "    return json.loads(response.read().decode('utf-8'))"
   ],
   "outputs": [],
   "metadata": {}
  },
  {
   "cell_type": "code",
   "execution_count": 9,
   "source": [
    "url = get_search_url('book', 'R언어프로그래밍', 1, 100)\r\n",
    "one_result = get_result_onepage(url)\r\n",
    "one_result['items'][0]['title']"
   ],
   "outputs": [
    {
     "output_type": "stream",
     "name": "stdout",
     "text": [
      "[2021-10-21 00:35:41.291567] url request success\n"
     ]
    },
    {
     "output_type": "execute_result",
     "data": {
      "text/plain": [
       "'<b>R언어 프로그래밍</b> (컴퓨터 비정공자를 위한 빅데이터 활용의 시작)'"
      ]
     },
     "metadata": {},
     "execution_count": 9
    }
   ],
   "metadata": {}
  },
  {
   "cell_type": "code",
   "execution_count": 10,
   "source": [
    "def delete_tag(input_str):\r\n",
    "    input_str = input_str.replace('<b>', '')\r\n",
    "    input_str = input_str.replace('</b>', '')\r\n",
    "    return input_str"
   ],
   "outputs": [],
   "metadata": {}
  },
  {
   "cell_type": "code",
   "execution_count": 11,
   "source": [
    "import pandas as pd\r\n",
    "\r\n",
    "def get_fields(json_data):\r\n",
    "    title = [delete_tag(each['title']) for each in json_data['items']]\r\n",
    "    pubdate = [each['pubdate'] for each in json_data['items']]\r\n",
    "    price = [each['price'] for each in json_data['items']]\r\n",
    "    publisher = [each['publisher'] for each in json_data['items']]\r\n",
    "    isbn = [each['isbn'] for each in json_data['items']]\r\n",
    "\r\n",
    "    result_pd = pd.DataFrame({\r\n",
    "        'title':title,\r\n",
    "        'pubdate':pubdate,\r\n",
    "        'publisher':publisher,\r\n",
    "        'isbn':isbn,\r\n",
    "        'price':price\r\n",
    "\r\n",
    "    }, columns=['title','pubdate', 'publisher','isbn','price'])\r\n",
    "    return result_pd"
   ],
   "outputs": [],
   "metadata": {}
  },
  {
   "cell_type": "code",
   "execution_count": 12,
   "source": [
    "get_fields(one_result)"
   ],
   "outputs": [
    {
     "output_type": "execute_result",
     "data": {
      "text/html": [
       "<div>\n",
       "<style scoped>\n",
       "    .dataframe tbody tr th:only-of-type {\n",
       "        vertical-align: middle;\n",
       "    }\n",
       "\n",
       "    .dataframe tbody tr th {\n",
       "        vertical-align: top;\n",
       "    }\n",
       "\n",
       "    .dataframe thead th {\n",
       "        text-align: right;\n",
       "    }\n",
       "</style>\n",
       "<table border=\"1\" class=\"dataframe\">\n",
       "  <thead>\n",
       "    <tr style=\"text-align: right;\">\n",
       "      <th></th>\n",
       "      <th>title</th>\n",
       "      <th>pubdate</th>\n",
       "      <th>publisher</th>\n",
       "      <th>isbn</th>\n",
       "      <th>price</th>\n",
       "    </tr>\n",
       "  </thead>\n",
       "  <tbody>\n",
       "    <tr>\n",
       "      <th>0</th>\n",
       "      <td>R언어 프로그래밍 (컴퓨터 비정공자를 위한 빅데이터 활용의 시작)</td>\n",
       "      <td>20210831</td>\n",
       "      <td>부산대학교출판문화원</td>\n",
       "      <td>8973167197 9788973167197</td>\n",
       "      <td>24000</td>\n",
       "    </tr>\n",
       "    <tr>\n",
       "      <th>1</th>\n",
       "      <td>안드로이드 프로그래밍 (Android Studio를 활용한,Android 11.0 ...</td>\n",
       "      <td>20210107</td>\n",
       "      <td>한빛아카데미</td>\n",
       "      <td>1156645247 9791156645245</td>\n",
       "      <td>32000</td>\n",
       "    </tr>\n",
       "    <tr>\n",
       "      <th>2</th>\n",
       "      <td>데이터분석을 위한 R 프로그래밍 (기초부터 실전 데이터분석까지)</td>\n",
       "      <td>20210903</td>\n",
       "      <td>인피니티북스</td>\n",
       "      <td>1185578854 9791185578859</td>\n",
       "      <td>14000</td>\n",
       "    </tr>\n",
       "    <tr>\n",
       "      <th>3</th>\n",
       "      <td>R언어를 활용한 기초컴퓨터프로그래밍 (컴퓨터 비전공자를 위한)</td>\n",
       "      <td>20180105</td>\n",
       "      <td>부산대학교출판부</td>\n",
       "      <td>8973165577 9788973165575</td>\n",
       "      <td>24000</td>\n",
       "    </tr>\n",
       "    <tr>\n",
       "      <th>4</th>\n",
       "      <td>R언어로 짜는 금융프로그래밍</td>\n",
       "      <td>20151230</td>\n",
       "      <td>서울경제경영</td>\n",
       "      <td>8997937391 9788997937394</td>\n",
       "      <td>25000</td>\n",
       "    </tr>\n",
       "    <tr>\n",
       "      <th>...</th>\n",
       "      <td>...</td>\n",
       "      <td>...</td>\n",
       "      <td>...</td>\n",
       "      <td>...</td>\n",
       "      <td>...</td>\n",
       "    </tr>\n",
       "    <tr>\n",
       "      <th>95</th>\n",
       "      <td>R 교과서 (RStudio로 실습하면서 배우는 R 기초와 활용, 데이터 분석 기법!)</td>\n",
       "      <td>20200417</td>\n",
       "      <td>길벗</td>\n",
       "      <td>1165211092 9791165211097</td>\n",
       "      <td>33000</td>\n",
       "    </tr>\n",
       "    <tr>\n",
       "      <th>96</th>\n",
       "      <td>처음 시작하는 R 데이터 분석 (쉽고 재밌게, 실무 예제로 끝낸다!)</td>\n",
       "      <td>20181005</td>\n",
       "      <td>한빛미디어</td>\n",
       "      <td>1162241209 9791162241202</td>\n",
       "      <td>19800</td>\n",
       "    </tr>\n",
       "    <tr>\n",
       "      <th>97</th>\n",
       "      <td>고성능을 위한 언어 C++ (이론과 C++17, 메모리 관리, 동시성, STL 알고...</td>\n",
       "      <td>20200131</td>\n",
       "      <td>에이콘출판</td>\n",
       "      <td>1161753915 9791161753911</td>\n",
       "      <td>35000</td>\n",
       "    </tr>\n",
       "    <tr>\n",
       "      <th>98</th>\n",
       "      <td>빅데이터 전문가의 하둡 관리</td>\n",
       "      <td>20181105</td>\n",
       "      <td>성안당</td>\n",
       "      <td>893155575X 9788931555752</td>\n",
       "      <td>40000</td>\n",
       "    </tr>\n",
       "    <tr>\n",
       "      <th>99</th>\n",
       "      <td>딥러닝 텐서플로 교과서 (기초부터 CNN, RNN, 시계열 분석, 성능 최적화,)</td>\n",
       "      <td>20210430</td>\n",
       "      <td>길벗</td>\n",
       "      <td>1165215470 9791165215477</td>\n",
       "      <td>28000</td>\n",
       "    </tr>\n",
       "  </tbody>\n",
       "</table>\n",
       "<p>100 rows × 5 columns</p>\n",
       "</div>"
      ],
      "text/plain": [
       "                                                title   pubdate   publisher  \\\n",
       "0                R언어 프로그래밍 (컴퓨터 비정공자를 위한 빅데이터 활용의 시작)  20210831  부산대학교출판문화원   \n",
       "1   안드로이드 프로그래밍 (Android Studio를 활용한,Android 11.0 ...  20210107      한빛아카데미   \n",
       "2                 데이터분석을 위한 R 프로그래밍 (기초부터 실전 데이터분석까지)  20210903      인피니티북스   \n",
       "3                  R언어를 활용한 기초컴퓨터프로그래밍 (컴퓨터 비전공자를 위한)  20180105    부산대학교출판부   \n",
       "4                                     R언어로 짜는 금융프로그래밍  20151230      서울경제경영   \n",
       "..                                                ...       ...         ...   \n",
       "95    R 교과서 (RStudio로 실습하면서 배우는 R 기초와 활용, 데이터 분석 기법!)  20200417          길벗   \n",
       "96             처음 시작하는 R 데이터 분석 (쉽고 재밌게, 실무 예제로 끝낸다!)  20181005       한빛미디어   \n",
       "97  고성능을 위한 언어 C++ (이론과 C++17, 메모리 관리, 동시성, STL 알고...  20200131       에이콘출판   \n",
       "98                                    빅데이터 전문가의 하둡 관리  20181105         성안당   \n",
       "99      딥러닝 텐서플로 교과서 (기초부터 CNN, RNN, 시계열 분석, 성능 최적화,)  20210430          길벗   \n",
       "\n",
       "                        isbn  price  \n",
       "0   8973167197 9788973167197  24000  \n",
       "1   1156645247 9791156645245  32000  \n",
       "2   1185578854 9791185578859  14000  \n",
       "3   8973165577 9788973165575  24000  \n",
       "4   8997937391 9788997937394  25000  \n",
       "..                       ...    ...  \n",
       "95  1165211092 9791165211097  33000  \n",
       "96  1162241209 9791162241202  19800  \n",
       "97  1161753915 9791161753911  35000  \n",
       "98  893155575X 9788931555752  40000  \n",
       "99  1165215470 9791165215477  28000  \n",
       "\n",
       "[100 rows x 5 columns]"
      ]
     },
     "metadata": {},
     "execution_count": 12
    }
   ],
   "metadata": {}
  },
  {
   "cell_type": "code",
   "execution_count": 27,
   "source": [
    "result_r = []\r\n",
    "\r\n",
    "for n in range(1, 1000, 100):\r\n",
    "    url = get_search_url('book', 'R언어프로그래밍', n, 100)\r\n",
    "    json_result = get_result_onepage(url)\r\n",
    "    pd_result = get_fields(json_result)\r\n",
    "\r\n",
    "    result_r.append(pd_result)\r\n",
    "\r\n",
    "result_r = pd.concat(result_r)\r\n"
   ],
   "outputs": [
    {
     "output_type": "stream",
     "name": "stdout",
     "text": [
      "[2021-10-21 00:53:26.745887] url request success\n",
      "[2021-10-21 00:53:27.369662] url request success\n",
      "[2021-10-21 00:53:27.925362] url request success\n",
      "[2021-10-21 00:53:28.460057] url request success\n",
      "[2021-10-21 00:53:28.926790] url request success\n",
      "[2021-10-21 00:53:29.263595] url request success\n",
      "[2021-10-21 00:53:29.562437] url request success\n",
      "[2021-10-21 00:53:29.842336] url request success\n",
      "[2021-10-21 00:53:30.148160] url request success\n",
      "[2021-10-21 00:53:30.527942] url request success\n"
     ]
    }
   ],
   "metadata": {}
  },
  {
   "cell_type": "code",
   "execution_count": 28,
   "source": [
    "result_r"
   ],
   "outputs": [
    {
     "output_type": "execute_result",
     "data": {
      "text/html": [
       "<div>\n",
       "<style scoped>\n",
       "    .dataframe tbody tr th:only-of-type {\n",
       "        vertical-align: middle;\n",
       "    }\n",
       "\n",
       "    .dataframe tbody tr th {\n",
       "        vertical-align: top;\n",
       "    }\n",
       "\n",
       "    .dataframe thead th {\n",
       "        text-align: right;\n",
       "    }\n",
       "</style>\n",
       "<table border=\"1\" class=\"dataframe\">\n",
       "  <thead>\n",
       "    <tr style=\"text-align: right;\">\n",
       "      <th></th>\n",
       "      <th>title</th>\n",
       "      <th>pubdate</th>\n",
       "      <th>publisher</th>\n",
       "      <th>isbn</th>\n",
       "      <th>price</th>\n",
       "    </tr>\n",
       "  </thead>\n",
       "  <tbody>\n",
       "    <tr>\n",
       "      <th>0</th>\n",
       "      <td>R언어 프로그래밍 (컴퓨터 비정공자를 위한 빅데이터 활용의 시작)</td>\n",
       "      <td>20210831</td>\n",
       "      <td>부산대학교출판문화원</td>\n",
       "      <td>8973167197 9788973167197</td>\n",
       "      <td>24000</td>\n",
       "    </tr>\n",
       "    <tr>\n",
       "      <th>1</th>\n",
       "      <td>안드로이드 프로그래밍 (Android Studio를 활용한,Android 11.0 ...</td>\n",
       "      <td>20210107</td>\n",
       "      <td>한빛아카데미</td>\n",
       "      <td>1156645247 9791156645245</td>\n",
       "      <td>32000</td>\n",
       "    </tr>\n",
       "    <tr>\n",
       "      <th>2</th>\n",
       "      <td>데이터분석을 위한 R 프로그래밍 (기초부터 실전 데이터분석까지)</td>\n",
       "      <td>20210903</td>\n",
       "      <td>인피니티북스</td>\n",
       "      <td>1185578854 9791185578859</td>\n",
       "      <td>14000</td>\n",
       "    </tr>\n",
       "    <tr>\n",
       "      <th>3</th>\n",
       "      <td>R언어를 활용한 기초컴퓨터프로그래밍 (컴퓨터 비전공자를 위한)</td>\n",
       "      <td>20180105</td>\n",
       "      <td>부산대학교출판부</td>\n",
       "      <td>8973165577 9788973165575</td>\n",
       "      <td>24000</td>\n",
       "    </tr>\n",
       "    <tr>\n",
       "      <th>4</th>\n",
       "      <td>R언어로 짜는 금융프로그래밍</td>\n",
       "      <td>20151230</td>\n",
       "      <td>서울경제경영</td>\n",
       "      <td>8997937391 9788997937394</td>\n",
       "      <td>25000</td>\n",
       "    </tr>\n",
       "    <tr>\n",
       "      <th>...</th>\n",
       "      <td>...</td>\n",
       "      <td>...</td>\n",
       "      <td>...</td>\n",
       "      <td>...</td>\n",
       "      <td>...</td>\n",
       "    </tr>\n",
       "    <tr>\n",
       "      <th>68</th>\n",
       "      <td>위대한 게임의 탄생 시리즈 세트 전3권 (좋은 게임을 넘어 위대한 게임으로)</td>\n",
       "      <td>20131118</td>\n",
       "      <td>지앤선</td>\n",
       "      <td>8993827729 9788993827729</td>\n",
       "      <td>79000</td>\n",
       "    </tr>\n",
       "    <tr>\n",
       "      <th>69</th>\n",
       "      <td>INTERNET &amp; WORLD WIDE WEB HOW TO PROGRAM</td>\n",
       "      <td>20020912</td>\n",
       "      <td>피어슨에듀케이션코리아</td>\n",
       "      <td>8945071229 9788945071224</td>\n",
       "      <td>42000</td>\n",
       "    </tr>\n",
       "    <tr>\n",
       "      <th>70</th>\n",
       "      <td>디지털 미디어 최신 지식</td>\n",
       "      <td>20060728</td>\n",
       "      <td>커뮤니케이션북스</td>\n",
       "      <td>8984996130 9788984996137</td>\n",
       "      <td>18000</td>\n",
       "    </tr>\n",
       "    <tr>\n",
       "      <th>71</th>\n",
       "      <td>Game Programming Gems (한국어판) 시리즈 세트(1~6 권)</td>\n",
       "      <td>20100125</td>\n",
       "      <td>정보문화사</td>\n",
       "      <td>201001250012 201001250012</td>\n",
       "      <td>189000</td>\n",
       "    </tr>\n",
       "    <tr>\n",
       "      <th>72</th>\n",
       "      <td>데이터베이스 이론 및 실습</td>\n",
       "      <td>20010825</td>\n",
       "      <td>아진(김근배)</td>\n",
       "      <td>0735000247 2010735000242</td>\n",
       "      <td>12000</td>\n",
       "    </tr>\n",
       "  </tbody>\n",
       "</table>\n",
       "<p>373 rows × 5 columns</p>\n",
       "</div>"
      ],
      "text/plain": [
       "                                                title   pubdate    publisher  \\\n",
       "0                R언어 프로그래밍 (컴퓨터 비정공자를 위한 빅데이터 활용의 시작)  20210831   부산대학교출판문화원   \n",
       "1   안드로이드 프로그래밍 (Android Studio를 활용한,Android 11.0 ...  20210107       한빛아카데미   \n",
       "2                 데이터분석을 위한 R 프로그래밍 (기초부터 실전 데이터분석까지)  20210903       인피니티북스   \n",
       "3                  R언어를 활용한 기초컴퓨터프로그래밍 (컴퓨터 비전공자를 위한)  20180105     부산대학교출판부   \n",
       "4                                     R언어로 짜는 금융프로그래밍  20151230       서울경제경영   \n",
       "..                                                ...       ...          ...   \n",
       "68         위대한 게임의 탄생 시리즈 세트 전3권 (좋은 게임을 넘어 위대한 게임으로)  20131118          지앤선   \n",
       "69           INTERNET & WORLD WIDE WEB HOW TO PROGRAM  20020912  피어슨에듀케이션코리아   \n",
       "70                                      디지털 미디어 최신 지식  20060728     커뮤니케이션북스   \n",
       "71         Game Programming Gems (한국어판) 시리즈 세트(1~6 권)  20100125        정보문화사   \n",
       "72                                     데이터베이스 이론 및 실습  20010825      아진(김근배)   \n",
       "\n",
       "                         isbn   price  \n",
       "0    8973167197 9788973167197   24000  \n",
       "1    1156645247 9791156645245   32000  \n",
       "2    1185578854 9791185578859   14000  \n",
       "3    8973165577 9788973165575   24000  \n",
       "4    8997937391 9788997937394   25000  \n",
       "..                        ...     ...  \n",
       "68   8993827729 9788993827729   79000  \n",
       "69   8945071229 9788945071224   42000  \n",
       "70   8984996130 9788984996137   18000  \n",
       "71  201001250012 201001250012  189000  \n",
       "72   0735000247 2010735000242   12000  \n",
       "\n",
       "[373 rows x 5 columns]"
      ]
     },
     "metadata": {},
     "execution_count": 28
    }
   ],
   "metadata": {}
  },
  {
   "cell_type": "code",
   "execution_count": 32,
   "source": [
    "# isbn 고유값만 가져오기\r\n",
    "result_r = result_r.drop_duplicates(subset='isbn')\r\n",
    "result_r.head()"
   ],
   "outputs": [
    {
     "output_type": "execute_result",
     "data": {
      "text/html": [
       "<div>\n",
       "<style scoped>\n",
       "    .dataframe tbody tr th:only-of-type {\n",
       "        vertical-align: middle;\n",
       "    }\n",
       "\n",
       "    .dataframe tbody tr th {\n",
       "        vertical-align: top;\n",
       "    }\n",
       "\n",
       "    .dataframe thead th {\n",
       "        text-align: right;\n",
       "    }\n",
       "</style>\n",
       "<table border=\"1\" class=\"dataframe\">\n",
       "  <thead>\n",
       "    <tr style=\"text-align: right;\">\n",
       "      <th></th>\n",
       "      <th>title</th>\n",
       "      <th>pubdate</th>\n",
       "      <th>publisher</th>\n",
       "      <th>isbn</th>\n",
       "      <th>price</th>\n",
       "    </tr>\n",
       "  </thead>\n",
       "  <tbody>\n",
       "    <tr>\n",
       "      <th>0</th>\n",
       "      <td>R언어 프로그래밍 (컴퓨터 비정공자를 위한 빅데이터 활용의 시작)</td>\n",
       "      <td>20210831</td>\n",
       "      <td>부산대학교출판문화원</td>\n",
       "      <td>8973167197 9788973167197</td>\n",
       "      <td>24000</td>\n",
       "    </tr>\n",
       "    <tr>\n",
       "      <th>1</th>\n",
       "      <td>안드로이드 프로그래밍 (Android Studio를 활용한,Android 11.0 ...</td>\n",
       "      <td>20210107</td>\n",
       "      <td>한빛아카데미</td>\n",
       "      <td>1156645247 9791156645245</td>\n",
       "      <td>32000</td>\n",
       "    </tr>\n",
       "    <tr>\n",
       "      <th>2</th>\n",
       "      <td>데이터분석을 위한 R 프로그래밍 (기초부터 실전 데이터분석까지)</td>\n",
       "      <td>20210903</td>\n",
       "      <td>인피니티북스</td>\n",
       "      <td>1185578854 9791185578859</td>\n",
       "      <td>14000</td>\n",
       "    </tr>\n",
       "    <tr>\n",
       "      <th>3</th>\n",
       "      <td>R언어를 활용한 기초컴퓨터프로그래밍 (컴퓨터 비전공자를 위한)</td>\n",
       "      <td>20180105</td>\n",
       "      <td>부산대학교출판부</td>\n",
       "      <td>8973165577 9788973165575</td>\n",
       "      <td>24000</td>\n",
       "    </tr>\n",
       "    <tr>\n",
       "      <th>4</th>\n",
       "      <td>R언어로 짜는 금융프로그래밍</td>\n",
       "      <td>20151230</td>\n",
       "      <td>서울경제경영</td>\n",
       "      <td>8997937391 9788997937394</td>\n",
       "      <td>25000</td>\n",
       "    </tr>\n",
       "  </tbody>\n",
       "</table>\n",
       "</div>"
      ],
      "text/plain": [
       "                                               title   pubdate   publisher  \\\n",
       "0               R언어 프로그래밍 (컴퓨터 비정공자를 위한 빅데이터 활용의 시작)  20210831  부산대학교출판문화원   \n",
       "1  안드로이드 프로그래밍 (Android Studio를 활용한,Android 11.0 ...  20210107      한빛아카데미   \n",
       "2                데이터분석을 위한 R 프로그래밍 (기초부터 실전 데이터분석까지)  20210903      인피니티북스   \n",
       "3                 R언어를 활용한 기초컴퓨터프로그래밍 (컴퓨터 비전공자를 위한)  20180105    부산대학교출판부   \n",
       "4                                    R언어로 짜는 금융프로그래밍  20151230      서울경제경영   \n",
       "\n",
       "                       isbn  price  \n",
       "0  8973167197 9788973167197  24000  \n",
       "1  1156645247 9791156645245  32000  \n",
       "2  1185578854 9791185578859  14000  \n",
       "3  8973165577 9788973165575  24000  \n",
       "4  8997937391 9788997937394  25000  "
      ]
     },
     "metadata": {},
     "execution_count": 32
    }
   ],
   "metadata": {}
  },
  {
   "cell_type": "markdown",
   "source": [
    "---"
   ],
   "metadata": {}
  },
  {
   "cell_type": "markdown",
   "source": [
    "### - PHP 수집"
   ],
   "metadata": {}
  },
  {
   "cell_type": "code",
   "execution_count": 34,
   "source": [
    "# 네이버 API - 책 에서 검색된 php 책 정보들\r\n",
    "\r\n",
    "import os\r\n",
    "import sys\r\n",
    "import urllib.request\r\n",
    "\r\n",
    "client_id = \"3nWMTmF4NdtMZlfadGDX\"\r\n",
    "client_secret = \"bk9r1RK4H0\"\r\n",
    "\r\n",
    "encText = urllib.parse.quote(\"php프로그래밍\")\r\n",
    "url = \"https://openapi.naver.com/v1/search/book?query=\" + encText \r\n",
    "request = urllib.request.Request(url)\r\n",
    "request.add_header(\"X-Naver-Client-Id\",client_id)\r\n",
    "request.add_header(\"X-Naver-Client-Secret\",client_secret)\r\n",
    "response = urllib.request.urlopen(request)\r\n",
    "rescode = response.getcode()\r\n",
    "if(rescode==200):\r\n",
    "    response_body = response.read()\r\n",
    "    print(response_body.decode('utf-8'))\r\n",
    "else:\r\n",
    "    print(\"Error Code:\" + rescode)"
   ],
   "outputs": [
    {
     "output_type": "stream",
     "name": "stdout",
     "text": [
      "{\n",
      "\"lastBuildDate\": \"Thu, 21 Oct 2021 00:58:21 +0900\",\n",
      "\"total\": 414,\n",
      "\"start\": 1,\n",
      "\"display\": 10,\n",
      "\"items\": [\n",
      "{\n",
      "\"title\": \"<b>PHP 프로그래밍</b> 입문 (<b>PHP</b> Web Programming)\",\n",
      "\"link\": \"http://book.naver.com/bookdb/book_detail.php?bid=14931674\",\n",
      "\"image\": \"https://bookthumb-phinf.pstatic.net/cover/149/316/14931674.jpg?type=m1&udate=20210902\",\n",
      "\"author\": \"황재호\",\n",
      "\"price\": \"25000\",\n",
      "\"discount\": \"24500\",\n",
      "\"publisher\": \"한빛아카데미\",\n",
      "\"pubdate\": \"20190520\",\n",
      "\"isbn\": \"1156644445 9791156644446\",\n",
      "\"description\": \"통해 조건문, 반복문, 배열, 함수, 폼, 쿠키, 세션 등의 <b>PHP</b> 기본 문법을 익힐 수 있다.\\n\\nMySQL 데이터베이스의 기본 개념을 이해하고 명령을 익힐 수 있으며, 실습 사이트를 직접 만들어보면서 <b>PHP</b> 웹 <b>프로그래밍</b>을 배워본다. 회원 가입, 로그인, 회원 정보 수정, 쪽지 기능, 게시판 제작 방법을 익힐 수 있다.\"\n",
      "\n",
      "},\n",
      "{\n",
      "\"title\": \"쉽게 배우는 <b>PHP프로그래밍</b>\",\n",
      "\"link\": \"http://book.naver.com/bookdb/book_detail.php?bid=15909547\",\n",
      "\"image\": \"https://bookthumb-phinf.pstatic.net/cover/159/095/15909547.jpg?type=m1&udate=20201106\",\n",
      "\"author\": \"정진용\",\n",
      "\"price\": \"22000\",\n",
      "\"discount\": \"19800\",\n",
      "\"publisher\": \"글로벌\",\n",
      "\"pubdate\": \"20191202\",\n",
      "\"isbn\": \"8955027834 9788955027839\",\n",
      "\"description\": \"\"\n",
      "\n",
      "},\n",
      "{\n",
      "\"title\": \"<b>PHP 프로그래밍</b> (WINDOWS용)\",\n",
      "\"link\": \"http://book.naver.com/bookdb/book_detail.php?bid=1881285\",\n",
      "\"image\": \"https://bookthumb-phinf.pstatic.net/cover/018/812/01881285.jpg?type=m1&udate=20091228\",\n",
      "\"author\": \"유치형\",\n",
      "\"price\": \"17000\",\n",
      "\"discount\": \"\",\n",
      "\"publisher\": \"연학사\",\n",
      "\"pubdate\": \"20050820\",\n",
      "\"isbn\": \"8970003231 9788970003238\",\n",
      "\"description\": \"윈도우 환경에서의 <b>PHP</b> 사용법을 다루는 책. 특히 데이터베이스 관리시스템과 <b>PHP</b> 프로그램 언어를 연동시켜 웹 애플리케이션을 개발하는 데 초점을 맞추어 구성되었다. 데이터베이스 관리 시스템은 MYSQL을 선택해 설명했다.\\n\"\n",
      "\n",
      "},\n",
      "{\n",
      "\"title\": \"필요한 것만 공부하는 <b>PHP프로그래밍</b>\",\n",
      "\"link\": \"http://book.naver.com/bookdb/book_detail.php?bid=7059657\",\n",
      "\"image\": \"https://bookthumb-phinf.pstatic.net/cover/070/596/07059657.jpg?type=m1&udate=20190203\",\n",
      "\"author\": \"이성욱|장종준\",\n",
      "\"price\": \"14000\",\n",
      "\"discount\": \"12600\",\n",
      "\"publisher\": \"21세기사\",\n",
      "\"pubdate\": \"20121120\",\n",
      "\"isbn\": \"8984684554 9788984684553\",\n",
      "\"description\": \"보았고 그 중 일부는 강의에 활용하기도 했지만 늘 몇 가지 아쉬운 점을 가지고 있었습니다. 한 권의 <b>PHP</b> 교재에 지나치게 많은 내용을 담고 있다는 것이었습니다. 특정 언어의 <b>프로그래밍</b>을 처음 배우는 입문서와, 두고두고 프로그램을 작성할 때 사용하는 참고서는 분리되어야 한다는 것이 필자의 생각입니다.\"\n",
      "\n",
      "},\n",
      "{\n",
      "\"title\": \"주말에 끝내는 <b>PHP 프로그래밍</b> (이틀 만에 개발 환경 구축부터 간단한 웹 애플리케이션까지)\",\n",
      "\"link\": \"http://book.naver.com/bookdb/book_detail.php?bid=10688827\",\n",
      "\"image\": \"https://bookthumb-phinf.pstatic.net/cover/106/888/10688827.jpg?type=m1&udate=20170803\",\n",
      "\"author\": \"요시타니 아이\",\n",
      "\"price\": \"20000\",\n",
      "\"discount\": \"18000\",\n",
      "\"publisher\": \"프리렉\",\n",
      "\"pubdate\": \"20160615\",\n",
      "\"isbn\": \"8965401275 9788965401278\",\n",
      "\"description\": \"『주말에 끝내는 <b>PHP 프로그래밍</b>』은 프로그래밍을 경험한 적이 없는 파견 직원 '미나'가 사내 게시판 웹 애플리케이션을 만들기 위해 친구이자 카리스마 있는 기술 강사인 '윤지'에게 프로그래밍 지도를 의뢰합니다. 이 책은 프로그래밍의 사전 준비부터 시작해서 조금씩 프로그래밍의 난도를 올려가며... \"\n",
      "\n",
      "},\n",
      "{\n",
      "\"title\": \"예제가 가득한 <b>PHP 프로그래밍</b>\",\n",
      "\"link\": \"http://book.naver.com/bookdb/book_detail.php?bid=9586858\",\n",
      "\"image\": \"https://bookthumb-phinf.pstatic.net/cover/095/868/09586858.jpg?type=m1&udate=20210101\",\n",
      "\"author\": \"Suzuki Kenji|Yamada Naoaki\",\n",
      "\"price\": \"25000\",\n",
      "\"discount\": \"\",\n",
      "\"publisher\": \"정보문화사\",\n",
      "\"pubdate\": \"20151015\",\n",
      "\"isbn\": \"8956746419 9788956746418\",\n",
      "\"description\": \"『예제가 가득한 <b>PHP 프로그래밍</b>』은 PHP에서 WEB 응용프로그램을 개발할 때 정말 필요한 지식과 테크닉을 목적별로 정리한 책이다. 기본적으로 초보자용이지만, 보안에 대해서는 구체적인 예제를 제시하는 등 한 발 더 나아가 깊이 파고들어 설명하고 있다. 그리고 예제 프로그램에 대해서도 가능한 보안에... \"\n",
      "\n",
      "},\n",
      "{\n",
      "\"title\": \"IT CookBook <b>PHP  프로그래밍</b> 입문 (:웹 사이트 완벽 실습)\",\n",
      "\"link\": \"http://book.naver.com/bookdb/book_detail.php?bid=2082300\",\n",
      "\"image\": \"https://bookthumb-phinf.pstatic.net/cover/020/823/02082300.jpg?type=m1&udate=20150604\",\n",
      "\"author\": \"황재호\",\n",
      "\"price\": \"20000\",\n",
      "\"discount\": \"\",\n",
      "\"publisher\": \"한빛미디어\",\n",
      "\"pubdate\": \"20051225\",\n",
      "\"isbn\": \"8979143745 9788979143744\",\n",
      "\"description\": \"<b>PHP</b> 프로그램 입문서. 이 책은 <b>PHP</b>의 기초문법과 함수 사용 등 기본 동작원리를 파악하고 실전 예제를 통해 로그인 처리, 방명록, 자유게시판, 공지사항 등으로 구성된 웹 사이트를 만들 수 있도록 구성했다.\"\n",
      "\n",
      "},\n",
      "{\n",
      "\"title\": \"쉽게 배우는 <b>PHP 프로그래밍</b>\",\n",
      "\"link\": \"http://book.naver.com/bookdb/book_detail.php?bid=8902726\",\n",
      "\"image\": \"https://bookthumb-phinf.pstatic.net/cover/089/027/08902726.jpg?type=m1&udate=20170215\",\n",
      "\"author\": \"정진용|정병열\",\n",
      "\"price\": \"20000\",\n",
      "\"discount\": \"18000\",\n",
      "\"publisher\": \"글로벌\",\n",
      "\"pubdate\": \"20150227\",\n",
      "\"isbn\": \"8955026951 9788955026955\",\n",
      "\"description\": \"<b>PHP</b> 언어를 처음 대하는 독자에게 문법을 쉽게 이해할 수 있도록 예제 프로그램을 통하여 설명하였으며, 주로 SQL문법이나 HTML 문서 작성 또한 알기 쉽게 습득할 수 있도록 했다. APM(Apache, <b>PHP</b>, MySQL)통합 버전의 사용에 관해서도 이해할 수 있도록 프로그램 설치부터 사용 방법 및 그 개념을... \"\n",
      "\n",
      "},\n",
      "{\n",
      "\"title\": \"뇌를 자극하는 <b>PHP 프로그래밍</b>\",\n",
      "\"link\": \"http://book.naver.com/bookdb/book_detail.php?bid=6048397\",\n",
      "\"image\": \"https://bookthumb-phinf.pstatic.net/cover/060/483/06048397.jpg?type=m1&udate=20161225\",\n",
      "\"author\": \"조명진\",\n",
      "\"price\": \"27000\",\n",
      "\"discount\": \"\",\n",
      "\"publisher\": \"한빛미디어\",\n",
      "\"pubdate\": \"20090731\",\n",
      "\"isbn\": \"8979146582 9788979146585\",\n",
      "\"description\": \"뇌를 자극하여 <b>PHP 프로그래밍</b>을 학습하다!\\n\\n프로그래머 조명진의 『뇌를 자극하는 <b>PHP 프로그래밍</b>』. 저자가 10여 년간틈틈이 PHP에 대해 인터넷에서 강의해온 내용을 엮은 것이다. 2004년 TIOBE SOFTWARE가 선정하는 올해의 프로그래밍 언어로 선정된 PHP의 매력에 푹 빠져들 수 있도록 인도한다. \\n\\n이 책은... \"\n",
      "\n",
      "},\n",
      "{\n",
      "\"title\": \"<b>PHP 프로그래밍</b> FOR BEGINNER\",\n",
      "\"link\": \"http://book.naver.com/bookdb/book_detail.php?bid=6044968\",\n",
      "\"image\": \"https://bookthumb-phinf.pstatic.net/cover/060/449/06044968.jpg?type=m1&udate=20161225\",\n",
      "\"author\": \"박대혁\",\n",
      "\"price\": \"20000\",\n",
      "\"discount\": \"\",\n",
      "\"publisher\": \"한빛미디어\",\n",
      "\"pubdate\": \"20090710\",\n",
      "\"isbn\": \"8979146310 9788979146318\",\n",
      "\"description\": \"[표지글]\\n\\n<b>PHP</b> 웹 <b>프로그래밍</b>은 아파치 →<b>PHP</b> →MYSQL로 이어지는 서버환경 구축이 전부가 아님에도 초보자는 이 부분을 힘들어 합니다. 이 책에서는 APMSETUP 6을 사용해 개발환경을 간편하게 구축합니다. 다양한 예제를 통하여 <b>PHP</b>의 기본 문법과 주요 함수의 사용법을 배우고 간단한 게시판과 자료실을... \"\n",
      "\n",
      "}\n",
      "]\n",
      "}\n",
      "\n"
     ]
    }
   ],
   "metadata": {}
  },
  {
   "cell_type": "code",
   "execution_count": 35,
   "source": [
    "result_php = []\r\n",
    "\r\n",
    "for n in range(1, 1000, 100):\r\n",
    "    url = get_search_url('book', 'php프로그래밍', n, 100)\r\n",
    "    json_result = get_result_onepage(url)\r\n",
    "    pd_result = get_fields(json_result)\r\n",
    "\r\n",
    "    result_php.append(pd_result)\r\n",
    "\r\n",
    "result_php = pd.concat(result_php)"
   ],
   "outputs": [
    {
     "output_type": "stream",
     "name": "stdout",
     "text": [
      "[2021-10-21 00:59:47.320378] url request success\n",
      "[2021-10-21 00:59:47.870570] url request success\n",
      "[2021-10-21 00:59:48.580010] url request success\n",
      "[2021-10-21 00:59:49.136263] url request success\n",
      "[2021-10-21 00:59:49.454824] url request success\n",
      "[2021-10-21 00:59:49.719673] url request success\n",
      "[2021-10-21 00:59:50.054484] url request success\n",
      "[2021-10-21 00:59:50.369311] url request success\n",
      "[2021-10-21 00:59:50.621428] url request success\n",
      "[2021-10-21 00:59:50.930491] url request success\n"
     ]
    }
   ],
   "metadata": {}
  },
  {
   "cell_type": "code",
   "execution_count": 41,
   "source": [
    "# isbn 고유값만 가져오기\r\n",
    "result_php = result_php.drop_duplicates(subset='isbn')\r\n",
    "result_php.head()"
   ],
   "outputs": [
    {
     "output_type": "execute_result",
     "data": {
      "text/html": [
       "<div>\n",
       "<style scoped>\n",
       "    .dataframe tbody tr th:only-of-type {\n",
       "        vertical-align: middle;\n",
       "    }\n",
       "\n",
       "    .dataframe tbody tr th {\n",
       "        vertical-align: top;\n",
       "    }\n",
       "\n",
       "    .dataframe thead th {\n",
       "        text-align: right;\n",
       "    }\n",
       "</style>\n",
       "<table border=\"1\" class=\"dataframe\">\n",
       "  <thead>\n",
       "    <tr style=\"text-align: right;\">\n",
       "      <th></th>\n",
       "      <th>title</th>\n",
       "      <th>pubdate</th>\n",
       "      <th>publisher</th>\n",
       "      <th>isbn</th>\n",
       "      <th>price</th>\n",
       "    </tr>\n",
       "  </thead>\n",
       "  <tbody>\n",
       "    <tr>\n",
       "      <th>0</th>\n",
       "      <td>PHP 프로그래밍 입문 (PHP Web Programming)</td>\n",
       "      <td>20190520</td>\n",
       "      <td>한빛아카데미</td>\n",
       "      <td>1156644445 9791156644446</td>\n",
       "      <td>25000</td>\n",
       "    </tr>\n",
       "    <tr>\n",
       "      <th>1</th>\n",
       "      <td>쉽게 배우는 PHP프로그래밍</td>\n",
       "      <td>20191202</td>\n",
       "      <td>글로벌</td>\n",
       "      <td>8955027834 9788955027839</td>\n",
       "      <td>22000</td>\n",
       "    </tr>\n",
       "    <tr>\n",
       "      <th>2</th>\n",
       "      <td>PHP 프로그래밍 (WINDOWS용)</td>\n",
       "      <td>20050820</td>\n",
       "      <td>연학사</td>\n",
       "      <td>8970003231 9788970003238</td>\n",
       "      <td>17000</td>\n",
       "    </tr>\n",
       "    <tr>\n",
       "      <th>3</th>\n",
       "      <td>필요한 것만 공부하는 PHP프로그래밍</td>\n",
       "      <td>20121120</td>\n",
       "      <td>21세기사</td>\n",
       "      <td>8984684554 9788984684553</td>\n",
       "      <td>14000</td>\n",
       "    </tr>\n",
       "    <tr>\n",
       "      <th>4</th>\n",
       "      <td>주말에 끝내는 PHP 프로그래밍 (이틀 만에 개발 환경 구축부터 간단한 웹 애플리케...</td>\n",
       "      <td>20160615</td>\n",
       "      <td>프리렉</td>\n",
       "      <td>8965401275 9788965401278</td>\n",
       "      <td>20000</td>\n",
       "    </tr>\n",
       "  </tbody>\n",
       "</table>\n",
       "</div>"
      ],
      "text/plain": [
       "                                               title   pubdate publisher  \\\n",
       "0                 PHP 프로그래밍 입문 (PHP Web Programming)  20190520    한빛아카데미   \n",
       "1                                    쉽게 배우는 PHP프로그래밍  20191202       글로벌   \n",
       "2                               PHP 프로그래밍 (WINDOWS용)  20050820       연학사   \n",
       "3                               필요한 것만 공부하는 PHP프로그래밍  20121120     21세기사   \n",
       "4  주말에 끝내는 PHP 프로그래밍 (이틀 만에 개발 환경 구축부터 간단한 웹 애플리케...  20160615       프리렉   \n",
       "\n",
       "                       isbn  price  \n",
       "0  1156644445 9791156644446  25000  \n",
       "1  8955027834 9788955027839  22000  \n",
       "2  8970003231 9788970003238  17000  \n",
       "3  8984684554 9788984684553  14000  \n",
       "4  8965401275 9788965401278  20000  "
      ]
     },
     "metadata": {},
     "execution_count": 41
    }
   ],
   "metadata": {}
  },
  {
   "cell_type": "markdown",
   "source": [
    "---"
   ],
   "metadata": {}
  },
  {
   "cell_type": "markdown",
   "source": [
    "### - javaScript"
   ],
   "metadata": {}
  },
  {
   "cell_type": "code",
   "execution_count": 60,
   "source": [
    "# 네이버 API - 책 에서 검색된 javaScript 책 정보들\r\n",
    "\r\n",
    "import os\r\n",
    "import sys\r\n",
    "import urllib.request\r\n",
    "\r\n",
    "client_id = \"3nWMTmF4NdtMZlfadGDX\"\r\n",
    "client_secret = \"bk9r1RK4H0\"\r\n",
    "\r\n",
    "encText = urllib.parse.quote('자바스크립트프로그래밍')\r\n",
    "url = \"https://openapi.naver.com/v1/search/book?query=\" + encText \r\n",
    "request = urllib.request.Request(url)\r\n",
    "request.add_header(\"X-Naver-Client-Id\",client_id)\r\n",
    "request.add_header(\"X-Naver-Client-Secret\",client_secret)\r\n",
    "response = urllib.request.urlopen(request)\r\n",
    "rescode = response.getcode()\r\n",
    "if(rescode==200):\r\n",
    "    response_body = response.read()\r\n",
    "    print(response_body.decode('utf-8'))\r\n",
    "else:\r\n",
    "    print(\"Error Code:\" + rescode)"
   ],
   "outputs": [
    {
     "output_type": "stream",
     "name": "stdout",
     "text": [
      "{\n",
      "\"lastBuildDate\": \"Thu, 21 Oct 2021 01:17:31 +0900\",\n",
      "\"total\": 880,\n",
      "\"start\": 1,\n",
      "\"display\": 10,\n",
      "\"items\": [\n",
      "{\n",
      "\"title\": \"Let's Get IT <b>자바스크립트 프로그래밍</b> (12가지 웹 게임으로 <b>프로그래밍</b> 사고력 기르기)\",\n",
      "\"link\": \"http://book.naver.com/bookdb/book_detail.php?bid=20642547\",\n",
      "\"image\": \"https://bookthumb-phinf.pstatic.net/cover/206/425/20642547.jpg?type=m1&udate=20210626\",\n",
      "\"author\": \"조현영\",\n",
      "\"price\": \"25000\",\n",
      "\"discount\": \"22500\",\n",
      "\"publisher\": \"길벗\",\n",
      "\"pubdate\": \"20210625\",\n",
      "\"isbn\": \"116521587X 9791165215873\",\n",
      "\"description\": \"이 책은 <b>프로그래밍</b> 입문서를 여러 권 읽어도 프로그램을 만들지 못하는 분들을 위해 만들었습니다. 기본적인 <b>자바스크립트</b> 문법뿐만 아니라 배운 문법을 활용해 실제 작동하는 프로그램을 만드는 방법을 알려주고 함께 완성해 봅니다. 문법과 <b>프로그래밍</b> 과정이 적절히 섞여 있어 지루하지 않고 순서도를 직접... \"\n",
      "\n",
      "},\n",
      "{\n",
      "\"title\": \"함수형 <b>자바스크립트 프로그래밍</b>\",\n",
      "\"link\": \"http://book.naver.com/bookdb/book_detail.php?bid=12800140\",\n",
      "\"image\": \"https://bookthumb-phinf.pstatic.net/cover/128/001/12800140.jpg?type=m1&udate=20171125\",\n",
      "\"author\": \"유인동\",\n",
      "\"price\": \"29000\",\n",
      "\"discount\": \"26100\",\n",
      "\"publisher\": \"인사이트\",\n",
      "\"pubdate\": \"20171124\",\n",
      "\"isbn\": \"8966262120 9788966262120\",\n",
      "\"description\": \"실무 밀착형, 함수형 <b>자바스크립트 프로그래밍</b> 가이드!『함수형 <b>자바스크립트 프로그래밍</b>』은 자바스크립트에서 함수형 패러다임을 통해 보다 효율적인 코드를 만들고자 하는 개발자를 위한 실무 밀착형 가이드다. 익숙한 개발 방식에서 벗어나 기존 코드를 어떻게 함수형으로 바꿀 수 있는지를... \"\n",
      "\n",
      "},\n",
      "{\n",
      "\"title\": \"<b>자바스크립트 프로그래밍</b> 입문\",\n",
      "\"link\": \"http://book.naver.com/bookdb/book_detail.php?bid=11445276\",\n",
      "\"image\": \"https://bookthumb-phinf.pstatic.net/cover/114/452/11445276.jpg?type=m1&udate=20170925\",\n",
      "\"author\": \"윤인성\",\n",
      "\"price\": \"25000\",\n",
      "\"discount\": \"24500\",\n",
      "\"publisher\": \"한빛아카데미\",\n",
      "\"pubdate\": \"20161215\",\n",
      "\"isbn\": \"1156642787 9791156642787\",\n",
      "\"description\": \"한 권으로 배우는 웹 서버/클라이언트 개발『<b>자바스크립트 프로그래밍</b> 입문』은 웹의 주요 언어인 자바스크립트를 자세히 다룬 책으로, HTML과 CSS의 기본 내용만 알고 있으면 누구든지 볼 수 있다. 자바스크립트를 처음 시작하는 독자들도 쉽게 입문할 수 있도록 언어의 기초 내용을 충실히 담고 있으며... \"\n",
      "\n",
      "},\n",
      "{\n",
      "\"title\": \"Do it! 웹 <b>프로그래밍</b>을 위한 <b>자바스크립트</b> 기본 편\",\n",
      "\"link\": \"http://book.naver.com/bookdb/book_detail.php?bid=14650274\",\n",
      "\"image\": \"https://bookthumb-phinf.pstatic.net/cover/146/502/14650274.jpg?type=m1&udate=20191221\",\n",
      "\"author\": \"고경희\",\n",
      "\"price\": \"18800\",\n",
      "\"discount\": \"16900\",\n",
      "\"publisher\": \"이지스퍼블리싱\",\n",
      "\"pubdate\": \"20190326\",\n",
      "\"isbn\": \"1163030643 9791163030645\",\n",
      "\"description\": \"웹 <b>프로그래밍</b>을 위한 <b>자바스크립트</b> 기본 편》은 <b>자바스크립트</b>를 통해 웹 <b>프로그래밍</b>에 입문하는 사람들이 가장 먼저 배워야 할 기본 문법을 웹 분야 베스트셀러 저자인 고경희 선생이 모아 엮은 책이다. 137개 예제를 통해 직접 프로그램을 만들면서 기본 문법을 흥미롭게 배운 뒤 ‘1분 복습’, ‘마무리... \"\n",
      "\n",
      "},\n",
      "{\n",
      "\"title\": \"코어 <b>자바스크립트</b> (핵심 개념과 동작 원리로 이해하는 <b>자바스크립트 프로그래밍</b>)\",\n",
      "\"link\": \"http://book.naver.com/bookdb/book_detail.php?bid=15433261\",\n",
      "\"image\": \"https://bookthumb-phinf.pstatic.net/cover/154/332/15433261.jpg?type=m1&udate=20210520\",\n",
      "\"author\": \"정재남\",\n",
      "\"price\": \"22000\",\n",
      "\"discount\": \"19800\",\n",
      "\"publisher\": \"위키북스\",\n",
      "\"pubdate\": \"20190910\",\n",
      "\"isbn\": \"1158391722 9791158391720\",\n",
      "\"description\": \"<b>자바스크립트</b>의 근간을 이루는 핵심 이론들을 정확하게 이해하는 것을 목표로 합니다!\\n최근 웹 개발 진영은 빠르게 발전하고 있으며, 그 중심에는 <b>자바스크립트</b>가 있다고 해도 결코 과언이 아닙니다. ECMAScript2015 시대인 현재에 이르러서도 ES5에서 통용되던 <b>자바스크립트</b>의 핵심 이론은 여전히 유효하며... \"\n",
      "\n",
      "},\n",
      "{\n",
      "\"title\": \"사물인터넷 <b>자바스크립트 프로그래밍</b>\",\n",
      "\"link\": \"http://book.naver.com/bookdb/book_detail.php?bid=13572690\",\n",
      "\"image\": \"https://bookthumb-phinf.pstatic.net/cover/135/726/13572690.jpg?type=m1&udate=20191010\",\n",
      "\"author\": \"루벤 올리바 라모스\",\n",
      "\"price\": \"28000\",\n",
      "\"discount\": \"25200\",\n",
      "\"publisher\": \"에이콘출판\",\n",
      "\"pubdate\": \"20180516\",\n",
      "\"isbn\": \"1161751556 9791161751559\",\n",
      "\"description\": \"사물인터넷(IOT)은 웹 개발자와 엔지니어에게 완전히 새로운 플랫폼이지만, 이 새로운 세계에서도 <b>프로그래밍</b> 언어는 일관성을 유지한다.\\n<b>자바스크립트</b>는 인터넷에서 가장 널리 사용되는 언어며, IOT가 탄력을 얻으면서 연결된 장치와 상호작용하는데 <b>자바스크립트</b>의 힘을 활용하는 방법을 배워야할 필요가... \"\n",
      "\n",
      "},\n",
      "{\n",
      "\"title\": \"혼자 공부하는 <b>자바스크립트</b> (1:1 과외하듯 배우는 <b>프로그래밍</b> 자습서)\",\n",
      "\"link\": \"http://book.naver.com/bookdb/book_detail.php?bid=17660799\",\n",
      "\"image\": \"https://bookthumb-phinf.pstatic.net/cover/176/607/17660799.jpg?type=m1&udate=20210113\",\n",
      "\"author\": \"윤인성\",\n",
      "\"price\": \"24000\",\n",
      "\"discount\": \"21600\",\n",
      "\"publisher\": \"한빛미디어\",\n",
      "\"pubdate\": \"20210104\",\n",
      "\"isbn\": \"1162243678 9791162243671\",\n",
      "\"description\": \"1:1 과외하듯 배우는 <b>자바스크립트 프로그래밍</b> 자습서 (최신 자바스크립트 표준)\\n\\n이 책은 독학으로 자바스크립트를 배우는 입문자가 ‘꼭 필요한 내용을 제대로’ 학습할 수 있도록 구성했다. ‘무엇을’ ‘어떻게’ 학습해야 할지조차 모르는 입문자의 막연한 마음을 살펴, 과외 선생님이 알려주듯 친절하게... \"\n",
      "\n",
      "},\n",
      "{\n",
      "\"title\": \"개발자와 디자이너가 함께 보는 <b>자바스크립트 프로그래밍</b>\",\n",
      "\"link\": \"http://book.naver.com/bookdb/book_detail.php?bid=9052152\",\n",
      "\"image\": \"https://bookthumb-phinf.pstatic.net/cover/090/521/09052152.jpg?type=m1&udate=20160622\",\n",
      "\"author\": \"팀 라이트\",\n",
      "\"price\": \"30000\",\n",
      "\"discount\": \"27000\",\n",
      "\"publisher\": \"에이콘출판\",\n",
      "\"pubdate\": \"20150527\",\n",
      "\"isbn\": \"8960777102 9788960777101\",\n",
      "\"description\": \"『개발자와 디자이너가 함께 보는 <b>자바스크립트 프로그래밍</b>』은 점진적 기능 향상으로 시작해 기본적인 자바스크립트 코드 작성법, 관련 웹 개발 기법 등 다양한 주제가 한데 어우러진 책이다. 책은 새 프로그램을 작성하거나 기존 코드를 효율적으로 수정하는 데 필요한 모든 자바스크립트 개념과 기술... \"\n",
      "\n",
      "},\n",
      "{\n",
      "\"title\": \"프론트엔드 개발자를 위한 <b>자바스크립트 프로그래밍</b>\",\n",
      "\"link\": \"http://book.naver.com/bookdb/book_detail.php?bid=7204207\",\n",
      "\"image\": \"https://bookthumb-phinf.pstatic.net/cover/072/042/07204207.jpg?type=m1&udate=20200424\",\n",
      "\"author\": \"니콜라스 C. 자카스\",\n",
      "\"price\": \"48000\",\n",
      "\"discount\": \"\",\n",
      "\"publisher\": \"인사이트\",\n",
      "\"pubdate\": \"20130516\",\n",
      "\"isbn\": \"8966260764 9788966260768\",\n",
      "\"description\": \"자바스크립트 웹 개발에 필요한 모든 것 『<b>자바스크립트 프로그래밍</b>』. 자바스크립트 구루이자 노련한 저자인 니콜라스 자카스는 이 책에서 자바스크립트의 기초부터 DOM, AJAX, HTML5까지를 설명한다. 상황에 따라 자바스크립트를 어떤 식으로 확장할 수 있는지, 역동적인 사용자 인터페이스는 어떻게 만들... \"\n",
      "\n",
      "},\n",
      "{\n",
      "\"title\": \"클릭하세요 DHTML <b>자바스크립트 프로그래밍</b>\",\n",
      "\"link\": \"http://book.naver.com/bookdb/book_detail.php?bid=138005\",\n",
      "\"image\": \"https://bookthumb-phinf.pstatic.net/cover/001/380/00138005.jpg?type=m1&udate=20141122\",\n",
      "\"author\": \"황기태\",\n",
      "\"price\": \"18000\",\n",
      "\"discount\": \"\",\n",
      "\"publisher\": \"대림\",\n",
      "\"pubdate\": \"20031220\",\n",
      "\"isbn\": \"8972806927 9788972806929\",\n",
      "\"description\": \"이 책은 DHTML 객체와 CSS 형태의 스타일을 이용하여 화려한 웹 페이지를 작성하고 <b>자바스크립트</b>로 이들을 제어하여 동적인 변화를 주는 내용을 담고 있다. 방대한 양의 CSS 내용 중 스타일을 만들어 내는데 필수적인 내용과 가장 많이 사용되는 CSS의 기능 만을 간추려 정리하였으며 DHTML 객체들을... \"\n",
      "\n",
      "}\n",
      "]\n",
      "}\n",
      "\n"
     ]
    }
   ],
   "metadata": {}
  },
  {
   "cell_type": "code",
   "execution_count": 62,
   "source": [
    "result_javascript = []\r\n",
    "\r\n",
    "for n in range(1, 1000, 100):\r\n",
    "    url = get_search_url('book', '자바스크립트프로그래밍', n, 100)\r\n",
    "    json_result = get_result_onepage(url)\r\n",
    "    pd_result = get_fields(json_result)\r\n",
    "\r\n",
    "    result_javascript.append(pd_result)\r\n",
    "\r\n",
    "result_javascript = pd.concat(result_javascript)"
   ],
   "outputs": [
    {
     "output_type": "stream",
     "name": "stdout",
     "text": [
      "[2021-10-21 01:18:46.070952] url request success\n",
      "[2021-10-21 01:18:46.797561] url request success\n",
      "[2021-10-21 01:18:47.437974] url request success\n",
      "[2021-10-21 01:18:48.055395] url request success\n",
      "[2021-10-21 01:18:48.669698] url request success\n",
      "[2021-10-21 01:18:49.261008] url request success\n",
      "[2021-10-21 01:18:49.913445] url request success\n",
      "[2021-10-21 01:18:50.553148] url request success\n",
      "[2021-10-21 01:18:51.057064] url request success\n",
      "[2021-10-21 01:18:51.284130] url request success\n"
     ]
    }
   ],
   "metadata": {}
  },
  {
   "cell_type": "code",
   "execution_count": 66,
   "source": [
    "# isbn 고유값만 가져오기\r\n",
    "result_javascript = result_javascript.drop_duplicates(subset='isbn')\r\n",
    "result_javascript.head()"
   ],
   "outputs": [
    {
     "output_type": "execute_result",
     "data": {
      "text/html": [
       "<div>\n",
       "<style scoped>\n",
       "    .dataframe tbody tr th:only-of-type {\n",
       "        vertical-align: middle;\n",
       "    }\n",
       "\n",
       "    .dataframe tbody tr th {\n",
       "        vertical-align: top;\n",
       "    }\n",
       "\n",
       "    .dataframe thead th {\n",
       "        text-align: right;\n",
       "    }\n",
       "</style>\n",
       "<table border=\"1\" class=\"dataframe\">\n",
       "  <thead>\n",
       "    <tr style=\"text-align: right;\">\n",
       "      <th></th>\n",
       "      <th>title</th>\n",
       "      <th>pubdate</th>\n",
       "      <th>publisher</th>\n",
       "      <th>isbn</th>\n",
       "      <th>price</th>\n",
       "    </tr>\n",
       "  </thead>\n",
       "  <tbody>\n",
       "    <tr>\n",
       "      <th>0</th>\n",
       "      <td>Let's Get IT 자바스크립트 프로그래밍 (12가지 웹 게임으로 프로그래밍 사...</td>\n",
       "      <td>20210625</td>\n",
       "      <td>길벗</td>\n",
       "      <td>116521587X 9791165215873</td>\n",
       "      <td>25000</td>\n",
       "    </tr>\n",
       "    <tr>\n",
       "      <th>1</th>\n",
       "      <td>함수형 자바스크립트 프로그래밍</td>\n",
       "      <td>20171124</td>\n",
       "      <td>인사이트</td>\n",
       "      <td>8966262120 9788966262120</td>\n",
       "      <td>29000</td>\n",
       "    </tr>\n",
       "    <tr>\n",
       "      <th>2</th>\n",
       "      <td>자바스크립트 프로그래밍 입문</td>\n",
       "      <td>20161215</td>\n",
       "      <td>한빛아카데미</td>\n",
       "      <td>1156642787 9791156642787</td>\n",
       "      <td>25000</td>\n",
       "    </tr>\n",
       "    <tr>\n",
       "      <th>3</th>\n",
       "      <td>Do it! 웹 프로그래밍을 위한 자바스크립트 기본 편</td>\n",
       "      <td>20190326</td>\n",
       "      <td>이지스퍼블리싱</td>\n",
       "      <td>1163030643 9791163030645</td>\n",
       "      <td>18800</td>\n",
       "    </tr>\n",
       "    <tr>\n",
       "      <th>4</th>\n",
       "      <td>코어 자바스크립트 (핵심 개념과 동작 원리로 이해하는 자바스크립트 프로그래밍)</td>\n",
       "      <td>20190910</td>\n",
       "      <td>위키북스</td>\n",
       "      <td>1158391722 9791158391720</td>\n",
       "      <td>22000</td>\n",
       "    </tr>\n",
       "  </tbody>\n",
       "</table>\n",
       "</div>"
      ],
      "text/plain": [
       "                                               title   pubdate publisher  \\\n",
       "0  Let's Get IT 자바스크립트 프로그래밍 (12가지 웹 게임으로 프로그래밍 사...  20210625        길벗   \n",
       "1                                   함수형 자바스크립트 프로그래밍  20171124      인사이트   \n",
       "2                                    자바스크립트 프로그래밍 입문  20161215    한빛아카데미   \n",
       "3                     Do it! 웹 프로그래밍을 위한 자바스크립트 기본 편  20190326   이지스퍼블리싱   \n",
       "4        코어 자바스크립트 (핵심 개념과 동작 원리로 이해하는 자바스크립트 프로그래밍)  20190910      위키북스   \n",
       "\n",
       "                       isbn  price  \n",
       "0  116521587X 9791165215873  25000  \n",
       "1  8966262120 9788966262120  29000  \n",
       "2  1156642787 9791156642787  25000  \n",
       "3  1163030643 9791163030645  18800  \n",
       "4  1158391722 9791158391720  22000  "
      ]
     },
     "metadata": {},
     "execution_count": 66
    }
   ],
   "metadata": {}
  },
  {
   "cell_type": "markdown",
   "source": [
    "---"
   ],
   "metadata": {}
  },
  {
   "cell_type": "code",
   "execution_count": 67,
   "source": [
    "# 네이버 API - 책 에서 검색된 visualbasic 책 정보들\r\n",
    "\r\n",
    "import os\r\n",
    "import sys\r\n",
    "import urllib.request\r\n",
    "\r\n",
    "client_id = \"3nWMTmF4NdtMZlfadGDX\"\r\n",
    "client_secret = \"bk9r1RK4H0\"\r\n",
    "\r\n",
    "encText = urllib.parse.quote('visualbasic프로그래밍')\r\n",
    "url = \"https://openapi.naver.com/v1/search/book?query=\" + encText \r\n",
    "request = urllib.request.Request(url)\r\n",
    "request.add_header(\"X-Naver-Client-Id\",client_id)\r\n",
    "request.add_header(\"X-Naver-Client-Secret\",client_secret)\r\n",
    "response = urllib.request.urlopen(request)\r\n",
    "rescode = response.getcode()\r\n",
    "if(rescode==200):\r\n",
    "    response_body = response.read()\r\n",
    "    print(response_body.decode('utf-8'))\r\n",
    "else:\r\n",
    "    print(\"Error Code:\" + rescode)"
   ],
   "outputs": [
    {
     "output_type": "stream",
     "name": "stdout",
     "text": [
      "{\n",
      "\"lastBuildDate\": \"Thu, 21 Oct 2021 01:20:34 +0900\",\n",
      "\"total\": 554,\n",
      "\"start\": 1,\n",
      "\"display\": 10,\n",
      "\"items\": [\n",
      "{\n",
      "\"title\": \"<b>VISUAL BASIC  프로그래밍</b>\",\n",
      "\"link\": \"http://book.naver.com/bookdb/book_detail.php?bid=6319649\",\n",
      "\"image\": \"https://bookthumb-phinf.pstatic.net/cover/063/196/06319649.jpg?type=m1&udate=20120112\",\n",
      "\"author\": \"박재흥|서영건|김현주|강기준\",\n",
      "\"price\": \"20000\",\n",
      "\"discount\": \"\",\n",
      "\"publisher\": \"북스홀릭\",\n",
      "\"pubdate\": \"20100712\",\n",
      "\"isbn\": \"8996378178 9788996378174\",\n",
      "\"description\": \"- 독자대상 : VISUAL BASIC 사용자\\n- 구성 : 핵심정리 + 문제\\n- 특징\\n① 연결된 10개의 프로그램을 통한 기초 문법 학습\\n② 75개의 예제 프로그램을 통한 기초 문법의 정확한 이해\\n③ 각 단원별 40개의 샘플 문제를 통한 반복 학습\\n\\n『<b>VISUAL BASIC 프로그래밍</b>』은 초보 개발자들이 흔히 겪을 수 있는 VISUAL BASIC... \"\n",
      "\n",
      "},\n",
      "{\n",
      "\"title\": \"<b>VISUAL BASIC 프로그래밍</b>\",\n",
      "\"link\": \"http://book.naver.com/bookdb/book_detail.php?bid=76556\",\n",
      "\"image\": \"https://bookthumb-phinf.pstatic.net/cover/000/765/00076556.jpg?type=m1&udate=20140410\",\n",
      "\"author\": \"이상락\",\n",
      "\"price\": \"12000\",\n",
      "\"discount\": \"\",\n",
      "\"publisher\": \"양서각\",\n",
      "\"pubdate\": \"19990727\",\n",
      "\"isbn\": \"8985643576 9788985643573\",\n",
      "\"description\": \"화면관리 명령을 살피고 콘트롤 작성 명령을 소개한  뒤 여러 형태의 이벤트-LOAD 이벤트/RESIZE 이벤트/CLICK이벤트 등을 다루었다. 아울러 원과 라인을 생성하는 여러 방법,도형의 자동 변환, MDI 폼만들기를 해설했다.\"\n",
      "\n",
      "},\n",
      "{\n",
      "\"title\": \"<b>Visual</b> <b>Basic</b> 15.x <b>프로그래밍</b> 실전 프로젝트\",\n",
      "\"link\": \"http://book.naver.com/bookdb/book_detail.php?bid=14413706\",\n",
      "\"image\": \"https://bookthumb-phinf.pstatic.net/cover/144/137/14413706.jpg?type=m1&udate=20190129\",\n",
      "\"author\": \"조호묵\",\n",
      "\"price\": \"24000\",\n",
      "\"discount\": \"21600\",\n",
      "\"publisher\": \"가메\",\n",
      "\"pubdate\": \"20190107\",\n",
      "\"isbn\": \"8980783027 9788980783021\",\n",
      "\"description\": \"▶ 이 책은 컴퓨터 <b>프로그래밍</b>언어를 다룬 이론서입니다. <b>VISUAL</b> <b>BASIC</b>의 기초적이고 전반적인 내용을 학습할 수 있습니다.\"\n",
      "\n",
      "},\n",
      "{\n",
      "\"title\": \"<b>VISUAL</b> <b>BASIC</b> 2008 <b>프로그래밍</b> (EXPRESS EDITION)\",\n",
      "\"link\": \"http://book.naver.com/bookdb/book_detail.php?bid=6348833\",\n",
      "\"image\": \"https://bookthumb-phinf.pstatic.net/cover/063/488/06348833.jpg?type=m1&udate=20140302\",\n",
      "\"author\": \"문외식|성영훈\",\n",
      "\"price\": \"32000\",\n",
      "\"discount\": \"32000\",\n",
      "\"publisher\": \"정익사\",\n",
      "\"pubdate\": \"20140226\",\n",
      "\"isbn\": \"8935304719 9788935304714\",\n",
      "\"description\": \"『<b>VISUAL</b> <b>BASIC</b> 2008 <b>프로그래밍</b>(EXPRESS EDITION)』은 <b>프로그래밍</b> 언어를 배우려는 초보자들과 컴퓨터관련 전공을 시작하는 사용자들이 <b>프로그래밍</b> 언어를 이해할 수 있도록 제공한다. 예제 중심으로 많은 설명을 첨부하여 빠른 시간 내에 <b>프로그래밍</b> 언어를 습득하고 사용할 수 있도록 하였다.\"\n",
      "\n",
      "},\n",
      "{\n",
      "\"title\": \"<b>VISUAL BASIC 프로그래밍</b> 기초\",\n",
      "\"link\": \"http://book.naver.com/bookdb/book_detail.php?bid=9509525\",\n",
      "\"image\": \"https://bookthumb-phinf.pstatic.net/cover/095/095/09509525.jpg?type=m1&udate=20190204\",\n",
      "\"author\": \"김대응\",\n",
      "\"price\": \"22000\",\n",
      "\"discount\": \"19800\",\n",
      "\"publisher\": \"교학사\",\n",
      "\"pubdate\": \"20150910\",\n",
      "\"isbn\": \"8909194405 9788909194402\",\n",
      "\"description\": \"필자가 오랫동안 컴퓨터 <b>프로그래밍</b>을 가르치면서 효율적인 학습을 위해 다양한 테스트를 하였고 이를 토대로 본 도서를 집필하게 되었다. 컴퓨터 관련 분야로 진로를 선택하면 가장 먼저 접해야 하는 과목이 바로 컴퓨터 <b>프 로그래밍</b> 분야이다. 그래서 본 도서는 컴퓨터 <b>프로그래밍</b>을 처음으로... \"\n",
      "\n",
      "},\n",
      "{\n",
      "\"title\": \"<b>Visual</b> <b>Basic</b> 6.0 <b>프로그래밍</b> 완성 (기초에서 활용까지 윈도우 <b>프로그래밍</b> 완벽 가이드)\",\n",
      "\"link\": \"http://book.naver.com/bookdb/book_detail.php?bid=7034443\",\n",
      "\"image\": \"https://bookthumb-phinf.pstatic.net/cover/070/344/07034443.jpg?type=m1&udate=20190203\",\n",
      "\"author\": \"김형수\",\n",
      "\"price\": \"18000\",\n",
      "\"discount\": \"18000\",\n",
      "\"publisher\": \"명진출판사\",\n",
      "\"pubdate\": \"20121010\",\n",
      "\"isbn\": \"8966510434 9788966510436\",\n",
      "\"description\": \"단계적 실습을 통한『<b>VISUAL</b> <b>BASIC</b> 6.0 <b>프로그래밍</b> 완성』. 기초에서 활용까지 윈도우 <b>프로그래밍</b> 이론을 다룬 가이드북이다. VB 언어 구조에 따른 상세한 명령어 처리를 다루었다. 특히 100여개 실습 예제 프로그램 수행을 통한 <b>프로그래밍</b> 기법과 각 장의 연습문제 및 실무 적용 응용 프로그램으로 배운... \"\n",
      "\n",
      "},\n",
      "{\n",
      "\"title\": \"<b>VISUAL</b> <b>BASIC</b> & JAVA 게임 <b>프로그래밍</b>\",\n",
      "\"link\": \"http://book.naver.com/bookdb/book_detail.php?bid=1475577\",\n",
      "\"image\": \"https://bookthumb-phinf.pstatic.net/cover/014/755/01475577.jpg?type=m1&udate=20180104\",\n",
      "\"author\": \"노창배\",\n",
      "\"price\": \"18000\",\n",
      "\"discount\": \"\",\n",
      "\"publisher\": \"기전연구사\",\n",
      "\"pubdate\": \"20041115\",\n",
      "\"isbn\": \"8933606750 9788933606759\",\n",
      "\"description\": \"문법과 함수 등을 가지고 있는 객체지향 <b>프로그래밍</b> 언어인 비주얼 베이직 과 자바를 통해 게임 <b>프로그래밍</b> 방법을 설명한 책. 비주얼 베이직의 기초문법 부터 애니메이션, 지뢰찾기, 테트리스, 야구, 블록 깨기등 각종 게임들을 <b>프로그래밍</b> 하는 방법을 설명하면서 그것을 통해 자연스럽게 비주얼베이직과... \"\n",
      "\n",
      "},\n",
      "{\n",
      "\"title\": \"비주얼 <b>프로그래밍</b> <b>Visual</b> <b>Basic</b> 6.0 (쉽고 알찬)\",\n",
      "\"link\": \"http://book.naver.com/bookdb/book_detail.php?bid=6255180\",\n",
      "\"image\": \"https://bookthumb-phinf.pstatic.net/cover/062/551/06255180.jpg?type=m1&udate=20161223\",\n",
      "\"author\": \"조민환\",\n",
      "\"price\": \"18000\",\n",
      "\"discount\": \"16200\",\n",
      "\"publisher\": \"글로벌\",\n",
      "\"pubdate\": \"20100308\",\n",
      "\"isbn\": \"8955025335 9788955025330\",\n",
      "\"description\": \"『비주얼 <b>프로그래밍</b>』은 비주얼 <b>프로그래밍</b>에 대한 자세한 문법 설명은 물론 실습을 위한 다양한 프로그램 예제를 다루고 있다.\"\n",
      "\n",
      "},\n",
      "{\n",
      "\"title\": \"<b>VISUAL</b> <b>BASIC</b> NET <b>프로그래밍</b>\",\n",
      "\"link\": \"http://book.naver.com/bookdb/book_detail.php?bid=1459221\",\n",
      "\"image\": \"https://bookthumb-phinf.pstatic.net/cover/014/592/01459221.jpg?type=m1&udate=20180818\",\n",
      "\"author\": \"정훈조|손창균|조정길\",\n",
      "\"price\": \"25000\",\n",
      "\"discount\": \"24500\",\n",
      "\"publisher\": \"홍릉과학출판사\",\n",
      "\"pubdate\": \"20040825\",\n",
      "\"isbn\": \"8972834157 9788972834151\",\n",
      "\"description\": \"이 책은 해당 분야 전공자들을 위한 교재 겸 전문서이다.\"\n",
      "\n",
      "},\n",
      "{\n",
      "\"title\": \"쾌도난마 VisualBasic2010 <b>프로그래밍</b> (최고수준의 프로그래머가 되기 위한)\",\n",
      "\"link\": \"http://book.naver.com/bookdb/book_detail.php?bid=7051041\",\n",
      "\"image\": \"https://bookthumb-phinf.pstatic.net/cover/070/510/07051041.jpg?type=m1&udate=20161223\",\n",
      "\"author\": \"조정길\",\n",
      "\"price\": \"28000\",\n",
      "\"discount\": \"28000\",\n",
      "\"publisher\": \"북스홀릭퍼블리싱\",\n",
      "\"pubdate\": \"20121029\",\n",
      "\"isbn\": \"8996931136 9788996931133\",\n",
      "\"description\": \"<b>Visual</b> <b>Basic</b>에 관심을 가진 사용자들이 쉽게 <b>Visual</b> <b>Basic</b>을 습득하고 <b>프로그래밍</b>할 수 있는 능력을 배양할 수 있도록 돕는 책. <b>프로그래밍</b> 경험이 없거나 조금밖에 가지고 있지 않은 사용자들이거나 혹은 추가하여 <b>Visual</b> <b>Basic</b> 언어를 익히려는 사용자들을 기준으로 저술하였다. 초보자들이 스스로... \"\n",
      "\n",
      "}\n",
      "]\n",
      "}\n",
      "\n"
     ]
    }
   ],
   "metadata": {}
  },
  {
   "cell_type": "code",
   "execution_count": 68,
   "source": [
    "result_visual = []\r\n",
    "\r\n",
    "for n in range(1, 1000, 100):\r\n",
    "    url = get_search_url('book', 'visualbasic프로그래밍', n, 100)\r\n",
    "    json_result = get_result_onepage(url)\r\n",
    "    pd_result = get_fields(json_result)\r\n",
    "\r\n",
    "    result_visual.append(pd_result)\r\n",
    "\r\n",
    "result_visual = pd.concat(result_visual)"
   ],
   "outputs": [
    {
     "output_type": "stream",
     "name": "stdout",
     "text": [
      "[2021-10-21 01:22:31.731930] url request success\n",
      "[2021-10-21 01:22:32.294232] url request success\n",
      "[2021-10-21 01:22:32.792322] url request success\n",
      "[2021-10-21 01:22:33.420259] url request success\n",
      "[2021-10-21 01:22:34.087784] url request success\n",
      "[2021-10-21 01:22:34.644571] url request success\n",
      "[2021-10-21 01:22:34.935210] url request success\n",
      "[2021-10-21 01:22:35.196067] url request success\n",
      "[2021-10-21 01:22:35.440322] url request success\n",
      "[2021-10-21 01:22:35.667027] url request success\n"
     ]
    }
   ],
   "metadata": {}
  },
  {
   "cell_type": "code",
   "execution_count": 69,
   "source": [
    "# isbn 고유값만 가져오기\r\n",
    "result_visual = result_visual.drop_duplicates(subset='isbn')\r\n",
    "result_visual.head()"
   ],
   "outputs": [
    {
     "output_type": "execute_result",
     "data": {
      "text/html": [
       "<div>\n",
       "<style scoped>\n",
       "    .dataframe tbody tr th:only-of-type {\n",
       "        vertical-align: middle;\n",
       "    }\n",
       "\n",
       "    .dataframe tbody tr th {\n",
       "        vertical-align: top;\n",
       "    }\n",
       "\n",
       "    .dataframe thead th {\n",
       "        text-align: right;\n",
       "    }\n",
       "</style>\n",
       "<table border=\"1\" class=\"dataframe\">\n",
       "  <thead>\n",
       "    <tr style=\"text-align: right;\">\n",
       "      <th></th>\n",
       "      <th>title</th>\n",
       "      <th>pubdate</th>\n",
       "      <th>publisher</th>\n",
       "      <th>isbn</th>\n",
       "      <th>price</th>\n",
       "    </tr>\n",
       "  </thead>\n",
       "  <tbody>\n",
       "    <tr>\n",
       "      <th>0</th>\n",
       "      <td>VISUAL BASIC  프로그래밍</td>\n",
       "      <td>20100712</td>\n",
       "      <td>북스홀릭</td>\n",
       "      <td>8996378178 9788996378174</td>\n",
       "      <td>20000</td>\n",
       "    </tr>\n",
       "    <tr>\n",
       "      <th>1</th>\n",
       "      <td>VISUAL BASIC 프로그래밍</td>\n",
       "      <td>19990727</td>\n",
       "      <td>양서각</td>\n",
       "      <td>8985643576 9788985643573</td>\n",
       "      <td>12000</td>\n",
       "    </tr>\n",
       "    <tr>\n",
       "      <th>2</th>\n",
       "      <td>Visual Basic 15.x 프로그래밍 실전 프로젝트</td>\n",
       "      <td>20190107</td>\n",
       "      <td>가메</td>\n",
       "      <td>8980783027 9788980783021</td>\n",
       "      <td>24000</td>\n",
       "    </tr>\n",
       "    <tr>\n",
       "      <th>3</th>\n",
       "      <td>VISUAL BASIC 2008 프로그래밍 (EXPRESS EDITION)</td>\n",
       "      <td>20140226</td>\n",
       "      <td>정익사</td>\n",
       "      <td>8935304719 9788935304714</td>\n",
       "      <td>32000</td>\n",
       "    </tr>\n",
       "    <tr>\n",
       "      <th>4</th>\n",
       "      <td>VISUAL BASIC 프로그래밍 기초</td>\n",
       "      <td>20150910</td>\n",
       "      <td>교학사</td>\n",
       "      <td>8909194405 9788909194402</td>\n",
       "      <td>22000</td>\n",
       "    </tr>\n",
       "  </tbody>\n",
       "</table>\n",
       "</div>"
      ],
      "text/plain": [
       "                                       title   pubdate publisher  \\\n",
       "0                        VISUAL BASIC  프로그래밍  20100712      북스홀릭   \n",
       "1                         VISUAL BASIC 프로그래밍  19990727       양서각   \n",
       "2            Visual Basic 15.x 프로그래밍 실전 프로젝트  20190107        가메   \n",
       "3  VISUAL BASIC 2008 프로그래밍 (EXPRESS EDITION)  20140226       정익사   \n",
       "4                      VISUAL BASIC 프로그래밍 기초  20150910       교학사   \n",
       "\n",
       "                       isbn  price  \n",
       "0  8996378178 9788996378174  20000  \n",
       "1  8985643576 9788985643573  12000  \n",
       "2  8980783027 9788980783021  24000  \n",
       "3  8935304719 9788935304714  32000  \n",
       "4  8909194405 9788909194402  22000  "
      ]
     },
     "metadata": {},
     "execution_count": 69
    }
   ],
   "metadata": {}
  },
  {
   "cell_type": "markdown",
   "source": [
    "---"
   ],
   "metadata": {}
  },
  {
   "cell_type": "markdown",
   "source": [
    "### - C#"
   ],
   "metadata": {}
  },
  {
   "cell_type": "code",
   "execution_count": 71,
   "source": [
    "# 네이버 API - 책 에서 검색된 C# 책 정보들\r\n",
    "\r\n",
    "import os\r\n",
    "import sys\r\n",
    "import urllib.request\r\n",
    "\r\n",
    "client_id = \"3nWMTmF4NdtMZlfadGDX\"\r\n",
    "client_secret = \"bk9r1RK4H0\"\r\n",
    "\r\n",
    "encText = urllib.parse.quote('C#프로그래밍')\r\n",
    "url = \"https://openapi.naver.com/v1/search/book?query=\" + encText \r\n",
    "request = urllib.request.Request(url)\r\n",
    "request.add_header(\"X-Naver-Client-Id\",client_id)\r\n",
    "request.add_header(\"X-Naver-Client-Secret\",client_secret)\r\n",
    "response = urllib.request.urlopen(request)\r\n",
    "rescode = response.getcode()\r\n",
    "if(rescode==200):\r\n",
    "    response_body = response.read()\r\n",
    "    print(response_body.decode('utf-8'))\r\n",
    "else:\r\n",
    "    print(\"Error Code:\" + rescode)"
   ],
   "outputs": [
    {
     "output_type": "stream",
     "name": "stdout",
     "text": [
      "{\n",
      "\"lastBuildDate\": \"Thu, 21 Oct 2021 01:24:07 +0900\",\n",
      "\"total\": 535,\n",
      "\"start\": 1,\n",
      "\"display\": 10,\n",
      "\"items\": [\n",
      "{\n",
      "\"title\": \"<b>C# 프로그래밍</b>(2판)(IT CookBook) (<b>프로그래밍</b> 기초부터 객체 지향 핵심까지)\",\n",
      "\"link\": \"http://book.naver.com/bookdb/book_detail.php?bid=17764840\",\n",
      "\"image\": \"https://bookthumb-phinf.pstatic.net/cover/177/648/17764840.jpg?type=m1&udate=20210624\",\n",
      "\"author\": \"윤인성\",\n",
      "\"price\": \"26000\",\n",
      "\"discount\": \"25480\",\n",
      "\"publisher\": \"한빛아카데미\",\n",
      "\"pubdate\": \"20210105\",\n",
      "\"isbn\": \"1156645239 9791156645238\",\n",
      "\"description\": \"C# 최신 버전 + Visual Studio 2019 + .NET 5.0으로 배우는 <b>C# 프로그래밍</b>\\n이 책은 객체 지향 프로그래밍 기초를 시작으로 .NET 프레임워크, 델리게이터, Linq 등 C#만의 특장점까지 학습할 수 있도록 구성되었습니다. 객체 지향 언어를 최대한 일반화해서 다루기 때문에 다른 객체 지향 언어를 공부할 때에도... \"\n",
      "\n",
      "},\n",
      "{\n",
      "\"title\": \"<b>C# 프로그래밍</b> 입문\",\n",
      "\"link\": \"http://book.naver.com/bookdb/book_detail.php?bid=11659777\",\n",
      "\"image\": \"https://bookthumb-phinf.pstatic.net/cover/116/597/11659777.jpg?type=m1&udate=20210929\",\n",
      "\"author\": \"오세만|이양선|김정숙|이창환|손윤식\",\n",
      "\"price\": \"27000\",\n",
      "\"discount\": \"27000\",\n",
      "\"publisher\": \"생능출판사\",\n",
      "\"pubdate\": \"20170314\",\n",
      "\"isbn\": \"8970509011 9788970509013\",\n",
      "\"description\": \"『<b>C# 프로그래밍</b> 입문』은  C# 언어를 처음 배우는 사람을 위한 책으로, C# 언어에 대한 체계적인 구성과 이해하기 쉬운 설명 그리고 풍부한 예제를 통해 혼자서 충분히 학습할 수 있도록 설명하였다. 크게 2부분으로 구성되어 있으며 첫 번째 부분은 C# 언어를 프로그래밍 언어론적인 관점에서 체계적으로 요약... \"\n",
      "\n",
      "},\n",
      "{\n",
      "\"title\": \"Visual Studio 2019 기반의 <b>C# 프로그래밍</b> 정석 (Visual Studio 2019 기반의)\",\n",
      "\"link\": \"http://book.naver.com/bookdb/book_detail.php?bid=16235748\",\n",
      "\"image\": \"https://bookthumb-phinf.pstatic.net/cover/162/357/16235748.jpg?type=m1&udate=20200324\",\n",
      "\"author\": \"이창현\",\n",
      "\"price\": \"23000\",\n",
      "\"discount\": \"20700\",\n",
      "\"publisher\": \"혜지원\",\n",
      "\"pubdate\": \"20200117\",\n",
      "\"isbn\": \"8983793457 9788983793454\",\n",
      "\"description\": \"또한 각 개념별 코드 작성 예시를 같이 보여 주기 때문에 단순히 따라서 암기만 하지 않고 주체적으로 <b>C# 프로그래밍</b> 학습을 해 볼 수 있습니다.\\n\\n책의 마지막에서는 간단하지만 퀄리티 있는 게임 제작까지 다룹니다. 이 책 하나면 개발/IT 프로젝트를 위해 필요한 <b>C# 프로그래밍</b> 실무 기술들을 모두 익힐 수... \"\n",
      "\n",
      "},\n",
      "{\n",
      "\"title\": \"처음 배우는 <b>C# 프로그래밍</b>(위키북스 프로그래밍 & 프랙티스 시리즈 25) (유니티로 게임을 만들며 재밌게 배우기)\",\n",
      "\"link\": \"http://book.naver.com/bookdb/book_detail.php?bid=16362690\",\n",
      "\"image\": \"https://bookthumb-phinf.pstatic.net/cover/163/626/16362690.jpg?type=m1&udate=20200521\",\n",
      "\"author\": \"백현우\",\n",
      "\"price\": \"25000\",\n",
      "\"discount\": \"22500\",\n",
      "\"publisher\": \"위키북스\",\n",
      "\"pubdate\": \"20200528\",\n",
      "\"isbn\": \"1158392117 9791158392116\",\n",
      "\"description\": \"게임을 만들며 자연스럽게 <b>C#</b> 기초 문법을 익힐 수 있습니다!<b>프로그래밍</b> 입문 과정의 상당수는 방대한 양의 이론을 시험을 준비하듯 공부하다가 실패로 돌아갑니다. 이 책에서는 입문자가 꼭 알아야 하는 내용만 엄선해서 다뤘고, 이러한 이론을 활용해 하나의 게임을 만들 수 있게 쉽고 재밌게 풀어냈습니다.... \"\n",
      "\n",
      "},\n",
      "{\n",
      "\"title\": \"<b>C# 프로그래밍</b> 기초와 실무 (스마트경영정보시스템을 위한)\",\n",
      "\"link\": \"http://book.naver.com/bookdb/book_detail.php?bid=20885332\",\n",
      "\"image\": \"https://bookthumb-phinf.pstatic.net/cover/208/853/20885332.jpg?type=m1&udate=20210908\",\n",
      "\"author\": \"박창목\",\n",
      "\"price\": \"20000\",\n",
      "\"discount\": \"19600\",\n",
      "\"publisher\": \"황소걸음아카데미\",\n",
      "\"pubdate\": \"20210726\",\n",
      "\"isbn\": \"1186821604 9791186821602\",\n",
      "\"description\": \"- <b>C#</b> 기초문법과 <b>프로그래밍</b> 도구 설명- 경영정보시스템 개발을 위한 실무 핵심내용 수록- 데이터베이스 및 윈도우 프로그램 작성법 제시- GOOGLE OR-TOOLS 사용법 및 코드 설명스마트경영정보시스템 초보 개발자에게 필요한 핵심적인 내용을 제공하고 있다. 먼저 컴퓨터<b>프로그래밍</b>을 처음 접하는 독자를... \"\n",
      "\n",
      "},\n",
      "{\n",
      "\"title\": \"<b>C# 프로그래밍</b>과 PC 기반 제어 (Advantech Digital I / O 모듈 USB-4751 사용)\",\n",
      "\"link\": \"http://book.naver.com/bookdb/book_detail.php?bid=20753976\",\n",
      "\"image\": \"https://bookthumb-phinf.pstatic.net/cover/207/539/20753976.jpg?type=m1&udate=20210714\",\n",
      "\"author\": \"박영만\",\n",
      "\"price\": \"21000\",\n",
      "\"discount\": \"18900\",\n",
      "\"publisher\": \"건기원\",\n",
      "\"pubdate\": \"20210630\",\n",
      "\"isbn\": \"1157675999 9791157675999\",\n",
      "\"description\": \"스마트 팩토리 구축을 위해 <b>C#</b> 언어로 자동화 장치 제어 <b>프로그래밍</b> \\n2. ADVANTECH사의 DIGITAL I/O 모듈(USB-4751)을 사용하여 DIGITAL I/O는 물론 펄스 발생, 외부 입력 펄스 카운트, PWM, 외부 인터럽트 기능 등을 사용\\n3. 산업 현장의 자동화 공정에 사용되는 MPS(MODULAR PRODUCTION SYSTEM)를... \"\n",
      "\n",
      "},\n",
      "{\n",
      "\"title\": \"<b>C#</b>과 파이썬을 활용한 OpenCV 4 <b>프로그래밍</b> (컴퓨터 비전 기초 이론부터 머신러닝을 활용한 영상 처리 프로젝트까지)\",\n",
      "\"link\": \"http://book.naver.com/bookdb/book_detail.php?bid=18872549\",\n",
      "\"image\": \"https://bookthumb-phinf.pstatic.net/cover/188/725/18872549.jpg?type=m1&udate=20210928\",\n",
      "\"author\": \"윤대희\",\n",
      "\"price\": \"36000\",\n",
      "\"discount\": \"32400\",\n",
      "\"publisher\": \"위키북스\",\n",
      "\"pubdate\": \"20210415\",\n",
      "\"isbn\": \"1158392559 9791158392550\",\n",
      "\"description\": \"또한 <b>C#</b>과 파이썬이라는 두 가지 <b>프로그래밍</b> 언어로 구성돼 있어 <b>C#</b>이나 파이썬 개발자분들이 손쉽게 OpenCV를 배울 수 있는 영상처리 입문서입니다.\\n이 책에서는 OpenCV를 폭넓게 활용할 수 있도록 머신러닝/딥러닝 모듈을 비롯해 Tesseract-OCR과 텐서플로(TensorFlow) 등을 활용해 영상 처리... \"\n",
      "\n",
      "},\n",
      "{\n",
      "\"title\": \"시작하세요! <b>C#</b> 9.0 <b>프로그래밍</b>: 기본 문법부터 실전 예제까지(위키북스 <b>프로그래밍</b> & 프랙티스 시리즈 28) (기본 문법부터 실전 예제까지)\",\n",
      "\"link\": \"http://book.naver.com/bookdb/book_detail.php?bid=17942167\",\n",
      "\"image\": \"https://bookthumb-phinf.pstatic.net/cover/179/421/17942167.jpg?type=m1&udate=20210228\",\n",
      "\"author\": \"정성태\",\n",
      "\"price\": \"34000\",\n",
      "\"discount\": \"30600\",\n",
      "\"publisher\": \"위키북스\",\n",
      "\"pubdate\": \"20210218\",\n",
      "\"isbn\": \"1158392478 9791158392475\",\n",
      "\"description\": \"여러분이 프로그램을 만들고자 할 때 사용하게 될 <b>C# 프로그래밍</b> 언어의 기초를 단단하게 다질 수 있게 하는 것이다. 이 책에서는 C# 언어의 최신 버전인 C# 9.0의 문법까지 설명하고 있으며, 단순히 언어의 문법을 습득하는 데 그치지 않고 실제로 프로그램을 제작할 수 있는 단계까지 학습할 수 있게 내용을... \"\n",
      "\n",
      "},\n",
      "{\n",
      "\"title\": \"<b>C# 프로그래밍</b> (<b>프로그래밍</b> 기초부터 객체 지향 핵심까지)\",\n",
      "\"link\": \"http://book.naver.com/bookdb/book_detail.php?bid=9910114\",\n",
      "\"image\": \"https://bookthumb-phinf.pstatic.net/cover/099/101/09910114.jpg?type=m1&udate=20201024\",\n",
      "\"author\": \"윤인성\",\n",
      "\"price\": \"25000\",\n",
      "\"discount\": \"\",\n",
      "\"publisher\": \"한빛아카데미\",\n",
      "\"pubdate\": \"20151201\",\n",
      "\"isbn\": \"1156642043 9791156642046\",\n",
      "\"description\": \"프로그래밍 기초부터 객체 지향 핵심까지 다루고 있는 [<b>C# 프로그래밍</b>]. 책은 C# 언어를 “실습 환경 구축 ▶ 기본예제 ▶ 응용예제/윈도 폼 ▶ 프로젝트” 순의 풍부한 예제와 함께 단계적으로 익힐 수 있도록 구성했다. 장별 이론을 윈도 폼에 적용하여 비주얼한 실행 결과를 확인할 수 있어 학습자가 흥미를 잃지... \"\n",
      "\n",
      "},\n",
      "{\n",
      "\"title\": \"유니티 3D로 배우는 <b>C# 프로그래밍</b>\",\n",
      "\"link\": \"http://book.naver.com/bookdb/book_detail.php?bid=13317307\",\n",
      "\"image\": \"https://bookthumb-phinf.pstatic.net/cover/133/173/13317307.jpg?type=m1&udate=20180823\",\n",
      "\"author\": \"알렉스 오키타\",\n",
      "\"price\": \"36000\",\n",
      "\"discount\": \"32400\",\n",
      "\"publisher\": \"e비즈북스\",\n",
      "\"pubdate\": \"20180228\",\n",
      "\"isbn\": \"115783101X 9791157831012\",\n",
      "\"description\": \"디자이너 출신 프로그래머가 쓴 C#과 유니티의 기초\\n《유니티 3D로 배우는 <b>C# 프로그래밍</b>》은 프로그래밍 언어가 친숙하지 않은 사람을 위한 책이다. 누구나 쉽게 따라할 수 있게 구성된 이 책은 유니티 3D로 게임을 개발하기 위해 어떻게 C# 언어를 사용하는지를 다룬다. 이 책을 완독하면 프로그래밍에 충분한... \"\n",
      "\n",
      "}\n",
      "]\n",
      "}\n",
      "\n"
     ]
    }
   ],
   "metadata": {}
  },
  {
   "cell_type": "code",
   "execution_count": 72,
   "source": [
    "result_cplus = []\r\n",
    "\r\n",
    "for n in range(1, 1000, 100):\r\n",
    "    url = get_search_url('book', 'C#프로그래밍', n, 100)\r\n",
    "    json_result = get_result_onepage(url)\r\n",
    "    pd_result = get_fields(json_result)\r\n",
    "\r\n",
    "    result_cplus.append(pd_result)\r\n",
    "\r\n",
    "result_cplus = pd.concat(result_cplus)"
   ],
   "outputs": [
    {
     "output_type": "stream",
     "name": "stdout",
     "text": [
      "[2021-10-21 01:25:19.733304] url request success\n",
      "[2021-10-21 01:25:20.300075] url request success\n",
      "[2021-10-21 01:25:20.904897] url request success\n",
      "[2021-10-21 01:25:21.503944] url request success\n",
      "[2021-10-21 01:25:22.190000] url request success\n",
      "[2021-10-21 01:25:22.628708] url request success\n",
      "[2021-10-21 01:25:22.893262] url request success\n",
      "[2021-10-21 01:25:23.249536] url request success\n",
      "[2021-10-21 01:25:23.471223] url request success\n",
      "[2021-10-21 01:25:23.713084] url request success\n"
     ]
    }
   ],
   "metadata": {}
  },
  {
   "cell_type": "code",
   "execution_count": 73,
   "source": [
    "# isbn 고유값만 가져오기\r\n",
    "result_cplus = result_cplus.drop_duplicates(subset='isbn')\r\n",
    "result_cplus.head()"
   ],
   "outputs": [
    {
     "output_type": "execute_result",
     "data": {
      "text/html": [
       "<div>\n",
       "<style scoped>\n",
       "    .dataframe tbody tr th:only-of-type {\n",
       "        vertical-align: middle;\n",
       "    }\n",
       "\n",
       "    .dataframe tbody tr th {\n",
       "        vertical-align: top;\n",
       "    }\n",
       "\n",
       "    .dataframe thead th {\n",
       "        text-align: right;\n",
       "    }\n",
       "</style>\n",
       "<table border=\"1\" class=\"dataframe\">\n",
       "  <thead>\n",
       "    <tr style=\"text-align: right;\">\n",
       "      <th></th>\n",
       "      <th>title</th>\n",
       "      <th>pubdate</th>\n",
       "      <th>publisher</th>\n",
       "      <th>isbn</th>\n",
       "      <th>price</th>\n",
       "    </tr>\n",
       "  </thead>\n",
       "  <tbody>\n",
       "    <tr>\n",
       "      <th>0</th>\n",
       "      <td>C# 프로그래밍(2판)(IT CookBook) (프로그래밍 기초부터 객체 지향 핵심까지)</td>\n",
       "      <td>20210105</td>\n",
       "      <td>한빛아카데미</td>\n",
       "      <td>1156645239 9791156645238</td>\n",
       "      <td>26000</td>\n",
       "    </tr>\n",
       "    <tr>\n",
       "      <th>1</th>\n",
       "      <td>C# 프로그래밍 입문</td>\n",
       "      <td>20170314</td>\n",
       "      <td>생능출판사</td>\n",
       "      <td>8970509011 9788970509013</td>\n",
       "      <td>27000</td>\n",
       "    </tr>\n",
       "    <tr>\n",
       "      <th>2</th>\n",
       "      <td>Visual Studio 2019 기반의 C# 프로그래밍 정석 (Visual Stu...</td>\n",
       "      <td>20200117</td>\n",
       "      <td>혜지원</td>\n",
       "      <td>8983793457 9788983793454</td>\n",
       "      <td>23000</td>\n",
       "    </tr>\n",
       "    <tr>\n",
       "      <th>3</th>\n",
       "      <td>처음 배우는 C# 프로그래밍(위키북스 프로그래밍 &amp; 프랙티스 시리즈 25) (유니티...</td>\n",
       "      <td>20200528</td>\n",
       "      <td>위키북스</td>\n",
       "      <td>1158392117 9791158392116</td>\n",
       "      <td>25000</td>\n",
       "    </tr>\n",
       "    <tr>\n",
       "      <th>4</th>\n",
       "      <td>C# 프로그래밍 기초와 실무 (스마트경영정보시스템을 위한)</td>\n",
       "      <td>20210726</td>\n",
       "      <td>황소걸음아카데미</td>\n",
       "      <td>1186821604 9791186821602</td>\n",
       "      <td>20000</td>\n",
       "    </tr>\n",
       "  </tbody>\n",
       "</table>\n",
       "</div>"
      ],
      "text/plain": [
       "                                               title   pubdate publisher  \\\n",
       "0  C# 프로그래밍(2판)(IT CookBook) (프로그래밍 기초부터 객체 지향 핵심까지)  20210105    한빛아카데미   \n",
       "1                                        C# 프로그래밍 입문  20170314     생능출판사   \n",
       "2  Visual Studio 2019 기반의 C# 프로그래밍 정석 (Visual Stu...  20200117       혜지원   \n",
       "3  처음 배우는 C# 프로그래밍(위키북스 프로그래밍 & 프랙티스 시리즈 25) (유니티...  20200528      위키북스   \n",
       "4                   C# 프로그래밍 기초와 실무 (스마트경영정보시스템을 위한)  20210726  황소걸음아카데미   \n",
       "\n",
       "                       isbn  price  \n",
       "0  1156645239 9791156645238  26000  \n",
       "1  8970509011 9788970509013  27000  \n",
       "2  8983793457 9788983793454  23000  \n",
       "3  1158392117 9791158392116  25000  \n",
       "4  1186821604 9791186821602  20000  "
      ]
     },
     "metadata": {},
     "execution_count": 73
    }
   ],
   "metadata": {}
  },
  {
   "cell_type": "markdown",
   "source": [
    "---"
   ],
   "metadata": {}
  },
  {
   "cell_type": "markdown",
   "source": [
    "```\r\n",
    "['Python', 'C', 'Java', 'C++' , 'SQL']\r\n",
    "=>  1000개 넘음으로 selenium으로 수집.\r\n",
    "```"
   ],
   "metadata": {}
  },
  {
   "cell_type": "markdown",
   "source": [
    "---"
   ],
   "metadata": {}
  },
  {
   "cell_type": "markdown",
   "source": [
    "### 실패[2] 네이버 책 홈페이지 -> 셀레니움\r\n",
    "``` \r\n",
    "- 해당 책을 클릭해서 링크를 들어가야만 isbn정보가 있음.\r\n",
    "- 셀레니움으로 모든 책의 링크를 들어갔다 나왔다 하기엔 시간이 너무 오래 걸림.\r\n",
    "```\r\n",
    "            "
   ],
   "metadata": {}
  },
  {
   "cell_type": "code",
   "execution_count": 76,
   "source": [
    "import time\r\n",
    "from selenium import webdriver\r\n",
    "from selenium.webdriver.common.by import By\r\n",
    "from selenium.webdriver.support.ui import WebDriverWait\r\n",
    "from selenium.webdriver.support import expected_conditions as EC\r\n",
    "url = 'https://book.naver.com/search/search.naver?publishStartDay=&publishEndDay=&categoryId=280&serviceSm=advbook.basic&ic=service.summary&title=Visual&author=&publisher=&isbn=&toc=&subject=&cate1Depth=280&cate2Depth=&cate3Depth=&cate4Depth=&publishStartYear=&publishStartMonth=&publishEndYear=&publishEndMonth=&x=18&y=7'\r\n",
    "driver = webdriver.Chrome('../driver/chromedriver.exe')\r\n",
    "driver.implicitly_wait(10)\r\n",
    "driver.get(url)"
   ],
   "outputs": [],
   "metadata": {}
  },
  {
   "cell_type": "code",
   "execution_count": 51,
   "source": [
    "driver.find_element_by_xpath('//*[@id=\"searchBiblioList\"]/li[1]/dl/dt/a').click()"
   ],
   "outputs": [],
   "metadata": {}
  },
  {
   "cell_type": "code",
   "execution_count": 24,
   "source": [
    "# 책제목\r\n",
    "driver.find_element_by_xpath('//*[@id=\"container\"]/div[4]/div[1]/h2/a').text"
   ],
   "outputs": [
    {
     "output_type": "execute_result",
     "data": {
      "text/plain": [
       "'쉽게 풀어쓴 C언어 Express Visual Studio 2017'"
      ]
     },
     "metadata": {},
     "execution_count": 24
    }
   ],
   "metadata": {}
  },
  {
   "cell_type": "code",
   "execution_count": 25,
   "source": [
    "# 출판사\r\n",
    "driver.find_element_by_xpath('//*[@id=\"container\"]/div[4]/div[1]/div[2]/div[2]/a[2]').text"
   ],
   "outputs": [
    {
     "output_type": "execute_result",
     "data": {
      "text/plain": [
       "'생능출판사'"
      ]
     },
     "metadata": {},
     "execution_count": 25
    }
   ],
   "metadata": {}
  },
  {
   "cell_type": "code",
   "execution_count": 29,
   "source": [
    "# 출판일\r\n",
    "date = driver.find_elements_by_xpath('//*[@id=\"container\"]/div[4]/div[1]/div[2]/div[2]')[0].text\r\n",
    "date = date.split('|')\r\n",
    "date = date[-1:]\r\n",
    "date"
   ],
   "outputs": [
    {
     "output_type": "execute_result",
     "data": {
      "text/plain": [
       "['2018.08.20']"
      ]
     },
     "metadata": {},
     "execution_count": 29
    }
   ],
   "metadata": {}
  },
  {
   "cell_type": "code",
   "execution_count": 43,
   "source": [
    "# 페이지 수, isbn\r\n",
    "#driver.switch_to_window(driver.window_handles[1])\r\n",
    "page = driver.find_elements_by_xpath('//*[@id=\"container\"]/div[4]/div[1]/div[2]/div[3]')[0].text\r\n",
    "page = page.split('|')\r\n",
    "page_count = page[0]\r\n",
    "page_count = page_count.split(' ')[1]\r\n",
    "isbn = page[1] \r\n",
    "isbn = isbn.split(' ')[1]\r\n",
    "page_count, isbn"
   ],
   "outputs": [
    {
     "output_type": "execute_result",
     "data": {
      "text/plain": [
       "('776', '9788970509570')"
      ]
     },
     "metadata": {},
     "execution_count": 43
    }
   ],
   "metadata": {}
  },
  {
   "cell_type": "code",
   "execution_count": 31,
   "source": [
    "# 가격\r\n",
    "driver.find_element_by_xpath('//*[@id=\"container\"]/div[4]/div[1]/div[2]/div[4]/div/span[1]').text"
   ],
   "outputs": [
    {
     "output_type": "execute_result",
     "data": {
      "text/plain": [
       "'30,000원'"
      ]
     },
     "metadata": {},
     "execution_count": 31
    }
   ],
   "metadata": {}
  },
  {
   "cell_type": "markdown",
   "source": [
    "---"
   ],
   "metadata": {}
  },
  {
   "cell_type": "markdown",
   "source": [
    "## 성공[3] 알라딘 홈페이지 -> 셀레니움\r\n",
    "\r\n",
    "```\r\n",
    "- 책 검색조건에 isbn, 국내도서 체크사항 있음.\r\n",
    "    - 따로 isbn 정보를 가져오지 않아도, 유니크하게 책을 수집할 수 있음.\r\n",
    "- 한 페이지에 모든 책 스크롤링 가능.\r\n",
    "    - 한 페이지에서 모든 정보 가져오기 가능.\r\n",
    "```"
   ],
   "metadata": {}
  },
  {
   "cell_type": "markdown",
   "source": [
    "### - python"
   ],
   "metadata": {}
  },
  {
   "cell_type": "code",
   "execution_count": 183,
   "source": [
    "import time\r\n",
    "from selenium import webdriver\r\n",
    "from selenium.webdriver.common.by import By\r\n",
    "from selenium.webdriver.support.ui import WebDriverWait\r\n",
    "from selenium.webdriver.support import expected_conditions as EC\r\n",
    "url = 'https://search.kyobobook.co.kr/web/search?vPstrKeyWord=%25ED%258C%258C%25EC%259D%25B4%25EC%258D%25AC&searchPcondition=1&searchCategory=%EA%B5%AD%EB%82%B4%EB%8F%84%EC%84%9C@KORBOOK@@%EC%BB%B4%ED%93%A8%ED%84%B0/IT@33&collName=KORBOOK&from_CollName=%EA%B5%AD%EB%82%B4%EB%8F%84%EC%84%9C@KORBOOK&searchOrder=0&vPstrTab=PRODUCT&from_coll=KORBOOK&row=60&currentPage=1&orderClick=LIZ&vPstrListMode=list'\r\n",
    "driver = webdriver.Chrome('../driver/chromedriver.exe')\r\n",
    "driver.implicitly_wait(10)\r\n",
    "driver.get(url)"
   ],
   "outputs": [],
   "metadata": {}
  },
  {
   "cell_type": "code",
   "execution_count": 138,
   "source": [
    "# 부모 태그\r\n",
    "books = driver.find_elements_by_css_selector('#search_list > tr')\r\n",
    "type(books)"
   ],
   "outputs": [
    {
     "output_type": "execute_result",
     "data": {
      "text/plain": [
       "list"
      ]
     },
     "metadata": {},
     "execution_count": 138
    }
   ],
   "metadata": {}
  },
  {
   "cell_type": "code",
   "execution_count": 118,
   "source": [
    "# 자식태그 -> 책이름\r\n",
    "books[0].find_element_by_css_selector('div.title > a > strong').text"
   ],
   "outputs": [
    {
     "output_type": "execute_result",
     "data": {
      "text/plain": [
       "'실전 카프카 개발부터 운영까지'"
      ]
     },
     "metadata": {},
     "execution_count": 118
    }
   ],
   "metadata": {}
  },
  {
   "cell_type": "code",
   "execution_count": 119,
   "source": [
    "# 자식태그 -> 출판사\r\n",
    "books[0].find_elements_by_css_selector('div.author > a')[1].text"
   ],
   "outputs": [
    {
     "output_type": "execute_result",
     "data": {
      "text/plain": [
       "'책만'"
      ]
     },
     "metadata": {},
     "execution_count": 119
    }
   ],
   "metadata": {}
  },
  {
   "cell_type": "code",
   "execution_count": 142,
   "source": [
    "# 자식태그 -> 출판일\r\n",
    "date = books[0].find_element_by_css_selector('div.author')\r\n",
    "date.text.split(' | ')[2]"
   ],
   "outputs": [
    {
     "output_type": "execute_result",
     "data": {
      "text/plain": [
       "'2021년 10월'"
      ]
     },
     "metadata": {},
     "execution_count": 142
    }
   ],
   "metadata": {}
  },
  {
   "cell_type": "code",
   "execution_count": 126,
   "source": [
    "# 자식태그 -> 가격\r\n",
    "books[0].find_element_by_css_selector('div.org_price').text\r\n"
   ],
   "outputs": [
    {
     "output_type": "execute_result",
     "data": {
      "text/plain": [
       "'33,000원'"
      ]
     },
     "metadata": {},
     "execution_count": 126
    }
   ],
   "metadata": {}
  },
  {
   "cell_type": "code",
   "execution_count": 130,
   "source": [
    "driver.find_elements_by_css_selector('#paging > li')[9].click()"
   ],
   "outputs": [],
   "metadata": {}
  },
  {
   "cell_type": "code",
   "execution_count": 184,
   "source": [
    "# 전체 데이터 크롤링_파이썬\r\n",
    "import time\r\n",
    "from tqdm import tqdm_notebook\r\n",
    "import pandas as pd\r\n",
    "datas = []\r\n",
    "result_python = []\r\n",
    "\r\n",
    "for i in range(10):\r\n",
    "    driver.find_elements_by_css_selector('#paging > li')[i].click()\r\n",
    "    time.sleep(5)\r\n",
    "    books = driver.find_elements_by_css_selector('#search_list > tr')\r\n",
    "    for book in tqdm_notebook(books):\r\n",
    "        title = book.find_element_by_css_selector('div.title > a > strong').text\r\n",
    "        publisher = book.find_elements_by_css_selector('div.author > a')[1].text\r\n",
    "        date = books[0].find_element_by_css_selector('div.author')\r\n",
    "        pubdate = date.text.split(' | ')[2]\r\n",
    "        #pubdate = book.find_elements_by_css_selector('div.author').text.split(' | ')[2]\r\n",
    "        price = book.find_element_by_css_selector('div.org_price').text\r\n",
    "    \r\n",
    "        datas.append({\r\n",
    "        'title' : title,\r\n",
    "        'publisher' : publisher,\r\n",
    "        'pubdate' : pubdate,\r\n",
    "        'price' :  price\r\n",
    "        })\r\n",
    "\r\n",
    "    df = pd.DataFrame(datas)\r\n",
    "    result_python.append(df)\r\n",
    "result_python = pd.concat(result_python)"
   ],
   "outputs": [
    {
     "output_type": "display_data",
     "data": {
      "application/vnd.jupyter.widget-view+json": {
       "version_major": 2,
       "version_minor": 0,
       "model_id": "d712ae3511974107961148b1d198ea8a"
      },
      "text/plain": [
       "  0%|          | 0/60 [00:00<?, ?it/s]"
      ]
     },
     "metadata": {}
    },
    {
     "output_type": "display_data",
     "data": {
      "application/vnd.jupyter.widget-view+json": {
       "version_major": 2,
       "version_minor": 0,
       "model_id": "064d25c74704419eba7537664a4656fc"
      },
      "text/plain": [
       "  0%|          | 0/60 [00:00<?, ?it/s]"
      ]
     },
     "metadata": {}
    },
    {
     "output_type": "display_data",
     "data": {
      "application/vnd.jupyter.widget-view+json": {
       "version_major": 2,
       "version_minor": 0,
       "model_id": "e70113e28e1d4707ab88967e03174270"
      },
      "text/plain": [
       "  0%|          | 0/60 [00:00<?, ?it/s]"
      ]
     },
     "metadata": {}
    },
    {
     "output_type": "display_data",
     "data": {
      "application/vnd.jupyter.widget-view+json": {
       "version_major": 2,
       "version_minor": 0,
       "model_id": "799748e534464c4bb5ca8e3f4dfb9fa0"
      },
      "text/plain": [
       "  0%|          | 0/60 [00:02<?, ?it/s]"
      ]
     },
     "metadata": {}
    },
    {
     "output_type": "display_data",
     "data": {
      "application/vnd.jupyter.widget-view+json": {
       "version_major": 2,
       "version_minor": 0,
       "model_id": "177a765cba92466486a59ae7823d12be"
      },
      "text/plain": [
       "  0%|          | 0/60 [00:00<?, ?it/s]"
      ]
     },
     "metadata": {}
    },
    {
     "output_type": "display_data",
     "data": {
      "application/vnd.jupyter.widget-view+json": {
       "version_major": 2,
       "version_minor": 0,
       "model_id": "8d6ced600297472d930560cb5a2b1f7e"
      },
      "text/plain": [
       "  0%|          | 0/60 [00:00<?, ?it/s]"
      ]
     },
     "metadata": {}
    },
    {
     "output_type": "display_data",
     "data": {
      "application/vnd.jupyter.widget-view+json": {
       "version_major": 2,
       "version_minor": 0,
       "model_id": "e97104d9c6fb48d98c099c60ec5fa3e6"
      },
      "text/plain": [
       "  0%|          | 0/60 [00:00<?, ?it/s]"
      ]
     },
     "metadata": {}
    },
    {
     "output_type": "display_data",
     "data": {
      "application/vnd.jupyter.widget-view+json": {
       "version_major": 2,
       "version_minor": 0,
       "model_id": "8a7cdcf250e04a83b532f33e1f6e5293"
      },
      "text/plain": [
       "  0%|          | 0/60 [00:00<?, ?it/s]"
      ]
     },
     "metadata": {}
    },
    {
     "output_type": "display_data",
     "data": {
      "application/vnd.jupyter.widget-view+json": {
       "version_major": 2,
       "version_minor": 0,
       "model_id": "eb251ee262814c7592e2c480a4a62287"
      },
      "text/plain": [
       "  0%|          | 0/60 [00:00<?, ?it/s]"
      ]
     },
     "metadata": {}
    },
    {
     "output_type": "display_data",
     "data": {
      "application/vnd.jupyter.widget-view+json": {
       "version_major": 2,
       "version_minor": 0,
       "model_id": "426f6db81ada46f6937872fee55aa6ed"
      },
      "text/plain": [
       "  0%|          | 0/60 [00:00<?, ?it/s]"
      ]
     },
     "metadata": {}
    }
   ],
   "metadata": {}
  },
  {
   "cell_type": "code",
   "execution_count": 171,
   "source": [
    "len(result_python['title'].unique())"
   ],
   "outputs": [
    {
     "output_type": "execute_result",
     "data": {
      "text/plain": [
       "532"
      ]
     },
     "metadata": {},
     "execution_count": 171
    }
   ],
   "metadata": {}
  },
  {
   "cell_type": "code",
   "execution_count": 175,
   "source": [
    "result_python = result_python.reset_index()\r\n",
    "result_python.set_index('index', inplace=True)\r\n",
    "result_python\r\n"
   ],
   "outputs": [
    {
     "output_type": "execute_result",
     "data": {
      "text/html": [
       "<div>\n",
       "<style scoped>\n",
       "    .dataframe tbody tr th:only-of-type {\n",
       "        vertical-align: middle;\n",
       "    }\n",
       "\n",
       "    .dataframe tbody tr th {\n",
       "        vertical-align: top;\n",
       "    }\n",
       "\n",
       "    .dataframe thead th {\n",
       "        text-align: right;\n",
       "    }\n",
       "</style>\n",
       "<table border=\"1\" class=\"dataframe\">\n",
       "  <thead>\n",
       "    <tr style=\"text-align: right;\">\n",
       "      <th></th>\n",
       "      <th>title</th>\n",
       "      <th>publisher</th>\n",
       "      <th>pubdate</th>\n",
       "      <th>price</th>\n",
       "    </tr>\n",
       "    <tr>\n",
       "      <th>index</th>\n",
       "      <th></th>\n",
       "      <th></th>\n",
       "      <th></th>\n",
       "      <th></th>\n",
       "    </tr>\n",
       "  </thead>\n",
       "  <tbody>\n",
       "    <tr>\n",
       "      <th>0</th>\n",
       "      <td>실전 카프카 개발부터 운영까지</td>\n",
       "      <td>책만</td>\n",
       "      <td>2021년 10월</td>\n",
       "      <td>33,000원</td>\n",
       "    </tr>\n",
       "    <tr>\n",
       "      <th>1</th>\n",
       "      <td>혼자 공부하는 파이썬</td>\n",
       "      <td>한빛미디어</td>\n",
       "      <td>2021년 10월</td>\n",
       "      <td>18,000원</td>\n",
       "    </tr>\n",
       "    <tr>\n",
       "      <th>2</th>\n",
       "      <td>Do it! 점프 투 파이썬</td>\n",
       "      <td>이지스퍼블리싱</td>\n",
       "      <td>2021년 10월</td>\n",
       "      <td>18,800원</td>\n",
       "    </tr>\n",
       "    <tr>\n",
       "      <th>3</th>\n",
       "      <td>비전공자를 위한 이해할 수 있는 IT 지식</td>\n",
       "      <td>티더블유아이지</td>\n",
       "      <td>2021년 10월</td>\n",
       "      <td>16,800원</td>\n",
       "    </tr>\n",
       "    <tr>\n",
       "      <th>4</th>\n",
       "      <td>파이썬 알고리즘 인터뷰</td>\n",
       "      <td>정진호</td>\n",
       "      <td>2021년 10월</td>\n",
       "      <td>38,000원</td>\n",
       "    </tr>\n",
       "    <tr>\n",
       "      <th>...</th>\n",
       "      <td>...</td>\n",
       "      <td>...</td>\n",
       "      <td>...</td>\n",
       "      <td>...</td>\n",
       "    </tr>\n",
       "    <tr>\n",
       "      <th>595</th>\n",
       "      <td>클라우드X 보안 실무 가이드</td>\n",
       "      <td>양지언</td>\n",
       "      <td>에이콘출판</td>\n",
       "      <td>25,000원</td>\n",
       "    </tr>\n",
       "    <tr>\n",
       "      <th>596</th>\n",
       "      <td>하둡과 스파크를 활용한 실용 데이터 과학</td>\n",
       "      <td>케이시 스텔라</td>\n",
       "      <td>에이콘출판</td>\n",
       "      <td>28,000원</td>\n",
       "    </tr>\n",
       "    <tr>\n",
       "      <th>597</th>\n",
       "      <td>빅데이터 &amp; 인공지능 with 생물정보학</td>\n",
       "      <td>아이콕스</td>\n",
       "      <td>에이콘출판</td>\n",
       "      <td>22,000원</td>\n",
       "    </tr>\n",
       "    <tr>\n",
       "      <th>598</th>\n",
       "      <td>밑바닥부터 시작하는 비트코인</td>\n",
       "      <td>류정필</td>\n",
       "      <td>에이콘출판</td>\n",
       "      <td>33,000원</td>\n",
       "    </tr>\n",
       "    <tr>\n",
       "      <th>599</th>\n",
       "      <td>사이버 보안을 위한 머신러닝 쿡북</td>\n",
       "      <td>장기식</td>\n",
       "      <td>에이콘출판</td>\n",
       "      <td>35,000원</td>\n",
       "    </tr>\n",
       "  </tbody>\n",
       "</table>\n",
       "<p>3300 rows × 4 columns</p>\n",
       "</div>"
      ],
      "text/plain": [
       "                         title publisher    pubdate    price\n",
       "index                                                       \n",
       "0             실전 카프카 개발부터 운영까지        책만  2021년 10월  33,000원\n",
       "1                  혼자 공부하는 파이썬     한빛미디어  2021년 10월  18,000원\n",
       "2              Do it! 점프 투 파이썬   이지스퍼블리싱  2021년 10월  18,800원\n",
       "3      비전공자를 위한 이해할 수 있는 IT 지식   티더블유아이지  2021년 10월  16,800원\n",
       "4                 파이썬 알고리즘 인터뷰       정진호  2021년 10월  38,000원\n",
       "...                        ...       ...        ...      ...\n",
       "595            클라우드X 보안 실무 가이드       양지언      에이콘출판  25,000원\n",
       "596     하둡과 스파크를 활용한 실용 데이터 과학   케이시 스텔라      에이콘출판  28,000원\n",
       "597     빅데이터 & 인공지능 with 생물정보학      아이콕스      에이콘출판  22,000원\n",
       "598            밑바닥부터 시작하는 비트코인       류정필      에이콘출판  33,000원\n",
       "599         사이버 보안을 위한 머신러닝 쿡북       장기식      에이콘출판  35,000원\n",
       "\n",
       "[3300 rows x 4 columns]"
      ]
     },
     "metadata": {},
     "execution_count": 175
    }
   ],
   "metadata": {}
  },
  {
   "cell_type": "code",
   "execution_count": 211,
   "source": [
    "result_python = result_python.reset_index()\r\n",
    "result_python.set_index('index', inplace=True)\r\n",
    "result_python = result_python.drop_duplicates(subset='title')\r\n",
    "result_python = result_python.reset_index()\r\n",
    "result_python.info()"
   ],
   "outputs": [
    {
     "output_type": "stream",
     "name": "stdout",
     "text": [
      "<class 'pandas.core.frame.DataFrame'>\n",
      "RangeIndex: 591 entries, 0 to 590\n",
      "Data columns (total 5 columns):\n",
      " #   Column     Non-Null Count  Dtype \n",
      "---  ------     --------------  ----- \n",
      " 0   index      591 non-null    int64 \n",
      " 1   title      591 non-null    object\n",
      " 2   publisher  591 non-null    object\n",
      " 3   pubdate    591 non-null    object\n",
      " 4   price      591 non-null    object\n",
      "dtypes: int64(1), object(4)\n",
      "memory usage: 23.2+ KB\n"
     ]
    }
   ],
   "metadata": {}
  },
  {
   "cell_type": "code",
   "execution_count": 185,
   "source": [
    "import time\r\n",
    "from selenium import webdriver\r\n",
    "from selenium.webdriver.common.by import By\r\n",
    "from selenium.webdriver.support.ui import WebDriverWait\r\n",
    "from selenium.webdriver.support import expected_conditions as EC\r\n",
    "url = 'https://search.kyobobook.co.kr/web/search?vPstrKeyWord=%25ED%258C%258C%25EC%259D%25B4%25EC%258D%25AC&searchPcondition=1&searchCategory=%EA%B5%AD%EB%82%B4%EB%8F%84%EC%84%9C@KORBOOK@@%EC%BB%B4%ED%93%A8%ED%84%B0/IT@33&collName=KORBOOK&from_CollName=%EA%B5%AD%EB%82%B4%EB%8F%84%EC%84%9C@KORBOOK&searchOrder=0&vPstrTab=PRODUCT&from_coll=KORBOOK&row=60&vPstrListMode=list&currentPage=11&orderClick=LIZ#container'\r\n",
    "driver = webdriver.Chrome('../driver/chromedriver.exe')\r\n",
    "driver.implicitly_wait(10)\r\n",
    "driver.get(url)"
   ],
   "outputs": [],
   "metadata": {}
  },
  {
   "cell_type": "code",
   "execution_count": 186,
   "source": [
    "# 전체 데이터 크롤링_파이썬\r\n",
    "import time\r\n",
    "from tqdm import tqdm_notebook\r\n",
    "import pandas as pd\r\n",
    "datas = []\r\n",
    "result_python_two = []\r\n",
    "\r\n",
    "for i in range(8):\r\n",
    "    driver.find_elements_by_css_selector('#paging > li')[i].click()\r\n",
    "    time.sleep(5)\r\n",
    "    books = driver.find_elements_by_css_selector('#search_list > tr')\r\n",
    "    for book in tqdm_notebook(books):\r\n",
    "        title = book.find_element_by_css_selector('div.title > a > strong').text\r\n",
    "        publisher = book.find_elements_by_css_selector('div.author > a')[1].text\r\n",
    "        date = books[0].find_element_by_css_selector('div.author')\r\n",
    "        pubdate = date.text.split(' | ')[2]\r\n",
    "        #pubdate = book.find_elements_by_css_selector('div.author').text.split(' | ')[2]\r\n",
    "        price = book.find_element_by_css_selector('div.org_price').text\r\n",
    "    \r\n",
    "        datas.append({\r\n",
    "        'title' : title,\r\n",
    "        'publisher' : publisher,\r\n",
    "        'pubdate' : pubdate,\r\n",
    "        'price' :  price\r\n",
    "        })\r\n",
    "\r\n",
    "    df = pd.DataFrame(datas)\r\n",
    "    result_python_two.append(df)\r\n",
    "result_python_two = pd.concat(result_python_two)"
   ],
   "outputs": [
    {
     "output_type": "display_data",
     "data": {
      "application/vnd.jupyter.widget-view+json": {
       "version_major": 2,
       "version_minor": 0,
       "model_id": "efaea69c10cb4e2381ce07bd57388a92"
      },
      "text/plain": [
       "  0%|          | 0/60 [00:00<?, ?it/s]"
      ]
     },
     "metadata": {}
    },
    {
     "output_type": "display_data",
     "data": {
      "application/vnd.jupyter.widget-view+json": {
       "version_major": 2,
       "version_minor": 0,
       "model_id": "885b71dfa78b4b3b8568980680a49c1a"
      },
      "text/plain": [
       "  0%|          | 0/60 [00:00<?, ?it/s]"
      ]
     },
     "metadata": {}
    },
    {
     "output_type": "display_data",
     "data": {
      "application/vnd.jupyter.widget-view+json": {
       "version_major": 2,
       "version_minor": 0,
       "model_id": "2666358cc80146ec8e97f7e796dc6e4a"
      },
      "text/plain": [
       "  0%|          | 0/60 [00:00<?, ?it/s]"
      ]
     },
     "metadata": {}
    },
    {
     "output_type": "display_data",
     "data": {
      "application/vnd.jupyter.widget-view+json": {
       "version_major": 2,
       "version_minor": 0,
       "model_id": "7974f50af029407ab1f4d94c7fdc4161"
      },
      "text/plain": [
       "  0%|          | 0/60 [00:00<?, ?it/s]"
      ]
     },
     "metadata": {}
    },
    {
     "output_type": "display_data",
     "data": {
      "application/vnd.jupyter.widget-view+json": {
       "version_major": 2,
       "version_minor": 0,
       "model_id": "e977da20c3944987bdb496006ce4fa99"
      },
      "text/plain": [
       "  0%|          | 0/60 [00:00<?, ?it/s]"
      ]
     },
     "metadata": {}
    },
    {
     "output_type": "display_data",
     "data": {
      "application/vnd.jupyter.widget-view+json": {
       "version_major": 2,
       "version_minor": 0,
       "model_id": "03b4e1e4068147bb948150546d692245"
      },
      "text/plain": [
       "  0%|          | 0/60 [00:00<?, ?it/s]"
      ]
     },
     "metadata": {}
    },
    {
     "output_type": "display_data",
     "data": {
      "application/vnd.jupyter.widget-view+json": {
       "version_major": 2,
       "version_minor": 0,
       "model_id": "e132da8e9e0a4bf1966cce62547593d3"
      },
      "text/plain": [
       "  0%|          | 0/60 [00:00<?, ?it/s]"
      ]
     },
     "metadata": {}
    },
    {
     "output_type": "display_data",
     "data": {
      "application/vnd.jupyter.widget-view+json": {
       "version_major": 2,
       "version_minor": 0,
       "model_id": "e68b743aa1254922b76ed2dd09740b39"
      },
      "text/plain": [
       "  0%|          | 0/59 [00:00<?, ?it/s]"
      ]
     },
     "metadata": {}
    }
   ],
   "metadata": {}
  },
  {
   "cell_type": "code",
   "execution_count": 212,
   "source": [
    "result_python_two = result_python_two.drop_duplicates(subset='title')\r\n",
    "result_python_two = result_python_two.reset_index()\r\n",
    "result_python_two.info()"
   ],
   "outputs": [
    {
     "output_type": "stream",
     "name": "stdout",
     "text": [
      "<class 'pandas.core.frame.DataFrame'>\n",
      "RangeIndex: 469 entries, 0 to 468\n",
      "Data columns (total 5 columns):\n",
      " #   Column     Non-Null Count  Dtype \n",
      "---  ------     --------------  ----- \n",
      " 0   index      469 non-null    int64 \n",
      " 1   title      469 non-null    object\n",
      " 2   publisher  469 non-null    object\n",
      " 3   pubdate    469 non-null    object\n",
      " 4   price      469 non-null    object\n",
      "dtypes: int64(1), object(4)\n",
      "memory usage: 18.4+ KB\n"
     ]
    }
   ],
   "metadata": {}
  },
  {
   "cell_type": "code",
   "execution_count": 217,
   "source": [
    "a = pd.concat([result_python,result_python_two])\r\n",
    "a = a.reset_index()\r\n",
    "del a['level_0']\r\n",
    "del a['index']"
   ],
   "outputs": [],
   "metadata": {}
  },
  {
   "cell_type": "code",
   "execution_count": 220,
   "source": [
    "python_result = a\r\n",
    "python_result"
   ],
   "outputs": [
    {
     "output_type": "execute_result",
     "data": {
      "text/html": [
       "<div>\n",
       "<style scoped>\n",
       "    .dataframe tbody tr th:only-of-type {\n",
       "        vertical-align: middle;\n",
       "    }\n",
       "\n",
       "    .dataframe tbody tr th {\n",
       "        vertical-align: top;\n",
       "    }\n",
       "\n",
       "    .dataframe thead th {\n",
       "        text-align: right;\n",
       "    }\n",
       "</style>\n",
       "<table border=\"1\" class=\"dataframe\">\n",
       "  <thead>\n",
       "    <tr style=\"text-align: right;\">\n",
       "      <th></th>\n",
       "      <th>title</th>\n",
       "      <th>publisher</th>\n",
       "      <th>pubdate</th>\n",
       "      <th>price</th>\n",
       "    </tr>\n",
       "  </thead>\n",
       "  <tbody>\n",
       "    <tr>\n",
       "      <th>0</th>\n",
       "      <td>실전 카프카 개발부터 운영까지</td>\n",
       "      <td>책만</td>\n",
       "      <td>2021년 10월</td>\n",
       "      <td>33,000원</td>\n",
       "    </tr>\n",
       "    <tr>\n",
       "      <th>1</th>\n",
       "      <td>혼자 공부하는 파이썬</td>\n",
       "      <td>한빛미디어</td>\n",
       "      <td>2021년 10월</td>\n",
       "      <td>18,000원</td>\n",
       "    </tr>\n",
       "    <tr>\n",
       "      <th>2</th>\n",
       "      <td>Do it! 점프 투 파이썬</td>\n",
       "      <td>이지스퍼블리싱</td>\n",
       "      <td>2021년 10월</td>\n",
       "      <td>18,800원</td>\n",
       "    </tr>\n",
       "    <tr>\n",
       "      <th>3</th>\n",
       "      <td>비전공자를 위한 이해할 수 있는 IT 지식</td>\n",
       "      <td>티더블유아이지</td>\n",
       "      <td>2021년 10월</td>\n",
       "      <td>16,800원</td>\n",
       "    </tr>\n",
       "    <tr>\n",
       "      <th>4</th>\n",
       "      <td>파이썬 알고리즘 인터뷰</td>\n",
       "      <td>정진호</td>\n",
       "      <td>2021년 10월</td>\n",
       "      <td>38,000원</td>\n",
       "    </tr>\n",
       "    <tr>\n",
       "      <th>...</th>\n",
       "      <td>...</td>\n",
       "      <td>...</td>\n",
       "      <td>...</td>\n",
       "      <td>...</td>\n",
       "    </tr>\n",
       "    <tr>\n",
       "      <th>1055</th>\n",
       "      <td>DELPHI(예제로배우는)</td>\n",
       "      <td>KMK정보산업연구원</td>\n",
       "      <td>1996년 09월</td>\n",
       "      <td>15,000원</td>\n",
       "    </tr>\n",
       "    <tr>\n",
       "      <th>1056</th>\n",
       "      <td>델파이 3(초보자를위한 14일완성)(S/W포함)</td>\n",
       "      <td>윤석헌</td>\n",
       "      <td>1996년 09월</td>\n",
       "      <td>16,000원</td>\n",
       "    </tr>\n",
       "    <tr>\n",
       "      <th>1057</th>\n",
       "      <td>DELPHI APPLICATION</td>\n",
       "      <td>영진닷컴</td>\n",
       "      <td>1996년 09월</td>\n",
       "      <td>22,000원</td>\n",
       "    </tr>\n",
       "    <tr>\n",
       "      <th>1058</th>\n",
       "      <td>DELPHI 4 BIBLE(S/W포함)</td>\n",
       "      <td>황성원 외</td>\n",
       "      <td>1996년 09월</td>\n",
       "      <td>32,000원</td>\n",
       "    </tr>\n",
       "    <tr>\n",
       "      <th>1059</th>\n",
       "      <td>델파이 프로그래밍연습</td>\n",
       "      <td>상조사</td>\n",
       "      <td>1996년 09월</td>\n",
       "      <td>18,000원</td>\n",
       "    </tr>\n",
       "  </tbody>\n",
       "</table>\n",
       "<p>1060 rows × 4 columns</p>\n",
       "</div>"
      ],
      "text/plain": [
       "                           title   publisher    pubdate    price\n",
       "0               실전 카프카 개발부터 운영까지          책만  2021년 10월  33,000원\n",
       "1                    혼자 공부하는 파이썬       한빛미디어  2021년 10월  18,000원\n",
       "2                Do it! 점프 투 파이썬     이지스퍼블리싱  2021년 10월  18,800원\n",
       "3        비전공자를 위한 이해할 수 있는 IT 지식     티더블유아이지  2021년 10월  16,800원\n",
       "4                   파이썬 알고리즘 인터뷰         정진호  2021년 10월  38,000원\n",
       "...                          ...         ...        ...      ...\n",
       "1055              DELPHI(예제로배우는)  KMK정보산업연구원  1996년 09월  15,000원\n",
       "1056  델파이 3(초보자를위한 14일완성)(S/W포함)         윤석헌  1996년 09월  16,000원\n",
       "1057          DELPHI APPLICATION        영진닷컴  1996년 09월  22,000원\n",
       "1058       DELPHI 4 BIBLE(S/W포함)       황성원 외  1996년 09월  32,000원\n",
       "1059                 델파이 프로그래밍연습         상조사  1996년 09월  18,000원\n",
       "\n",
       "[1060 rows x 4 columns]"
      ]
     },
     "metadata": {},
     "execution_count": 220
    }
   ],
   "metadata": {}
  },
  {
   "cell_type": "markdown",
   "source": [
    "---"
   ],
   "metadata": {}
  },
  {
   "cell_type": "markdown",
   "source": [
    "### - C"
   ],
   "metadata": {}
  },
  {
   "cell_type": "code",
   "execution_count": 221,
   "source": [
    "import time\r\n",
    "from selenium import webdriver\r\n",
    "from selenium.webdriver.common.by import By\r\n",
    "from selenium.webdriver.support.ui import WebDriverWait\r\n",
    "from selenium.webdriver.support import expected_conditions as EC\r\n",
    "url = 'https://search.kyobobook.co.kr/web/search?vPstrKeyWord=C%25EC%2596%25B8%25EC%2596%25B4&searchPcondition=1&searchCategory=%EA%B5%AD%EB%82%B4%EB%8F%84%EC%84%9C@KORBOOK@@%EC%BB%B4%ED%93%A8%ED%84%B0/IT@33&collName=KORBOOK&from_CollName=%EA%B5%AD%EB%82%B4%EB%8F%84%EC%84%9C@KORBOOK&searchOrder=0&vPstrTab=PRODUCT&from_coll=KORBOOK&row=60&currentPage=1&orderClick=LIZ'\r\n",
    "driver = webdriver.Chrome('../driver/chromedriver.exe')\r\n",
    "driver.implicitly_wait(10)\r\n",
    "driver.get(url)"
   ],
   "outputs": [],
   "metadata": {}
  },
  {
   "cell_type": "code",
   "execution_count": 222,
   "source": [
    "# 부모 태그\r\n",
    "books = driver.find_elements_by_css_selector('#search_list > tr')\r\n",
    "books[0].text"
   ],
   "outputs": [
    {
     "output_type": "execute_result",
     "data": {
      "text/plain": [
       "'국내도서\\n새창보기 | 미리보기\\n[컴퓨터/IT] 혼자 공부하는 C 언어 : (혼자 공부하는 시리즈)\\n서현우 지음 | 한빛미디어 | 2019년 06월\\n#컴파일 #연산자 #파일 입출력\\n[배송일정] 지금 주문하면 내일(22일, 금) 도착 예정 안내\\n사은품 2022 캘린더 수록한 IT독자를 위한 readIT 노트 사은품 | 5건\\n9.6 / 10\\n리뷰 7\\neBook 19,200원\\n24,000원\\n21,600원 [10%↓]\\n1,200원P\\n수량\\n수량 더하기\\n수량 빼기\\n바로드림\\n장바구니 담기\\n바로구매\\n보관함 담기\\n스펙비교'"
      ]
     },
     "metadata": {},
     "execution_count": 222
    }
   ],
   "metadata": {}
  },
  {
   "cell_type": "code",
   "execution_count": 223,
   "source": [
    "# 전체 데이터 크롤링_C\r\n",
    "import time\r\n",
    "from tqdm import tqdm_notebook\r\n",
    "import pandas as pd\r\n",
    "datas = []\r\n",
    "result_c = []\r\n",
    "\r\n",
    "for i in range(10):\r\n",
    "    driver.find_elements_by_css_selector('#paging > li')[i].click()\r\n",
    "    time.sleep(5)\r\n",
    "    books = driver.find_elements_by_css_selector('#search_list > tr')\r\n",
    "    for book in tqdm_notebook(books):\r\n",
    "        title = book.find_element_by_css_selector('div.title > a > strong').text\r\n",
    "        publisher = book.find_elements_by_css_selector('div.author > a')[1].text\r\n",
    "        date = books[0].find_element_by_css_selector('div.author')\r\n",
    "        pubdate = date.text.split(' | ')[2]\r\n",
    "        #pubdate = book.find_elements_by_css_selector('div.author').text.split(' | ')[2]\r\n",
    "        price = book.find_element_by_css_selector('div.org_price').text\r\n",
    "    \r\n",
    "        datas.append({\r\n",
    "        'title' : title,\r\n",
    "        'publisher' : publisher,\r\n",
    "        'pubdate' : pubdate,\r\n",
    "        'price' :  price\r\n",
    "        })\r\n",
    "\r\n",
    "    df = pd.DataFrame(datas)\r\n",
    "    result_c.append(df)\r\n",
    "result_c = pd.concat(result_c)"
   ],
   "outputs": [
    {
     "output_type": "display_data",
     "data": {
      "application/vnd.jupyter.widget-view+json": {
       "version_major": 2,
       "version_minor": 0,
       "model_id": "ffa222e5aec24ddba2283eecc784e660"
      },
      "text/plain": [
       "  0%|          | 0/60 [00:01<?, ?it/s]"
      ]
     },
     "metadata": {}
    },
    {
     "output_type": "display_data",
     "data": {
      "application/vnd.jupyter.widget-view+json": {
       "version_major": 2,
       "version_minor": 0,
       "model_id": "c1c27746babc4fffa41063a150ea0ad6"
      },
      "text/plain": [
       "  0%|          | 0/60 [00:00<?, ?it/s]"
      ]
     },
     "metadata": {}
    },
    {
     "output_type": "display_data",
     "data": {
      "application/vnd.jupyter.widget-view+json": {
       "version_major": 2,
       "version_minor": 0,
       "model_id": "77b4cf8973dc41809040ae3d32b27aaa"
      },
      "text/plain": [
       "  0%|          | 0/60 [00:00<?, ?it/s]"
      ]
     },
     "metadata": {}
    },
    {
     "output_type": "display_data",
     "data": {
      "application/vnd.jupyter.widget-view+json": {
       "version_major": 2,
       "version_minor": 0,
       "model_id": "4ff4adaca2524222874eb6699cb9beed"
      },
      "text/plain": [
       "  0%|          | 0/60 [00:00<?, ?it/s]"
      ]
     },
     "metadata": {}
    },
    {
     "output_type": "display_data",
     "data": {
      "application/vnd.jupyter.widget-view+json": {
       "version_major": 2,
       "version_minor": 0,
       "model_id": "80b08ba76f864ca6a7a94ee1ccb2a16a"
      },
      "text/plain": [
       "  0%|          | 0/60 [00:00<?, ?it/s]"
      ]
     },
     "metadata": {}
    },
    {
     "output_type": "display_data",
     "data": {
      "application/vnd.jupyter.widget-view+json": {
       "version_major": 2,
       "version_minor": 0,
       "model_id": "1be36ddd36e94c1ab4d9420054a04fb0"
      },
      "text/plain": [
       "  0%|          | 0/60 [00:00<?, ?it/s]"
      ]
     },
     "metadata": {}
    },
    {
     "output_type": "display_data",
     "data": {
      "application/vnd.jupyter.widget-view+json": {
       "version_major": 2,
       "version_minor": 0,
       "model_id": "7a36c5a500ce489a9024bceb54049f50"
      },
      "text/plain": [
       "  0%|          | 0/60 [00:00<?, ?it/s]"
      ]
     },
     "metadata": {}
    },
    {
     "output_type": "display_data",
     "data": {
      "application/vnd.jupyter.widget-view+json": {
       "version_major": 2,
       "version_minor": 0,
       "model_id": "61892f0f6db84954957e05ffd03e53bb"
      },
      "text/plain": [
       "  0%|          | 0/60 [00:00<?, ?it/s]"
      ]
     },
     "metadata": {}
    },
    {
     "output_type": "display_data",
     "data": {
      "application/vnd.jupyter.widget-view+json": {
       "version_major": 2,
       "version_minor": 0,
       "model_id": "b4a697700f05473dbc7a32fec3ed3fb4"
      },
      "text/plain": [
       "  0%|          | 0/60 [00:00<?, ?it/s]"
      ]
     },
     "metadata": {}
    },
    {
     "output_type": "display_data",
     "data": {
      "application/vnd.jupyter.widget-view+json": {
       "version_major": 2,
       "version_minor": 0,
       "model_id": "abd565b737af4edb9dd8e7afd522f870"
      },
      "text/plain": [
       "  0%|          | 0/60 [00:00<?, ?it/s]"
      ]
     },
     "metadata": {}
    }
   ],
   "metadata": {}
  },
  {
   "cell_type": "code",
   "execution_count": 224,
   "source": [
    "result_c = result_c.reset_index()\r\n",
    "result_c.set_index('index', inplace=True)\r\n",
    "result_c = result_c.drop_duplicates(subset='title')\r\n",
    "result_c = result_c.reset_index()\r\n",
    "result_c.info()"
   ],
   "outputs": [
    {
     "output_type": "stream",
     "name": "stdout",
     "text": [
      "<class 'pandas.core.frame.DataFrame'>\n",
      "RangeIndex: 517 entries, 0 to 516\n",
      "Data columns (total 5 columns):\n",
      " #   Column     Non-Null Count  Dtype \n",
      "---  ------     --------------  ----- \n",
      " 0   index      517 non-null    int64 \n",
      " 1   title      517 non-null    object\n",
      " 2   publisher  517 non-null    object\n",
      " 3   pubdate    517 non-null    object\n",
      " 4   price      517 non-null    object\n",
      "dtypes: int64(1), object(4)\n",
      "memory usage: 20.3+ KB\n"
     ]
    }
   ],
   "metadata": {}
  },
  {
   "cell_type": "code",
   "execution_count": 225,
   "source": [
    "import time\r\n",
    "from selenium import webdriver\r\n",
    "from selenium.webdriver.common.by import By\r\n",
    "from selenium.webdriver.support.ui import WebDriverWait\r\n",
    "from selenium.webdriver.support import expected_conditions as EC\r\n",
    "url = 'https://search.kyobobook.co.kr/web/search?vPstrKeyWord=C%25EC%2596%25B8%25EC%2596%25B4&searchPcondition=1&searchCategory=%EA%B5%AD%EB%82%B4%EB%8F%84%EC%84%9C@KORBOOK@@%EC%BB%B4%ED%93%A8%ED%84%B0/IT@33&collName=KORBOOK&from_CollName=%EA%B5%AD%EB%82%B4%EB%8F%84%EC%84%9C@KORBOOK&searchOrder=0&vPstrTab=PRODUCT&from_coll=KORBOOK&row=60&currentPage=11&orderClick=LIZ#container'\r\n",
    "driver = webdriver.Chrome('../driver/chromedriver.exe')\r\n",
    "driver.implicitly_wait(10)\r\n",
    "driver.get(url)"
   ],
   "outputs": [],
   "metadata": {}
  },
  {
   "cell_type": "code",
   "execution_count": 226,
   "source": [
    "# 전체 데이터 크롤링_C\r\n",
    "import time\r\n",
    "from tqdm import tqdm_notebook\r\n",
    "import pandas as pd\r\n",
    "datas = []\r\n",
    "result_c_two = []\r\n",
    "\r\n",
    "for i in range(3):\r\n",
    "    driver.find_elements_by_css_selector('#paging > li')[i].click()\r\n",
    "    time.sleep(5)\r\n",
    "    books = driver.find_elements_by_css_selector('#search_list > tr')\r\n",
    "    for book in tqdm_notebook(books):\r\n",
    "        title = book.find_element_by_css_selector('div.title > a > strong').text\r\n",
    "        publisher = book.find_elements_by_css_selector('div.author > a')[1].text\r\n",
    "        date = books[0].find_element_by_css_selector('div.author')\r\n",
    "        pubdate = date.text.split(' | ')[2]\r\n",
    "        #pubdate = book.find_elements_by_css_selector('div.author').text.split(' | ')[2]\r\n",
    "        price = book.find_element_by_css_selector('div.org_price').text\r\n",
    "    \r\n",
    "        datas.append({\r\n",
    "        'title' : title,\r\n",
    "        'publisher' : publisher,\r\n",
    "        'pubdate' : pubdate,\r\n",
    "        'price' :  price\r\n",
    "        })\r\n",
    "\r\n",
    "    df = pd.DataFrame(datas)\r\n",
    "    result_c_two.append(df)\r\n",
    "result_c_two = pd.concat(result_c_two)"
   ],
   "outputs": [
    {
     "output_type": "display_data",
     "data": {
      "application/vnd.jupyter.widget-view+json": {
       "version_major": 2,
       "version_minor": 0,
       "model_id": "e2adb22405464ddea745d50bcdeb1dca"
      },
      "text/plain": [
       "  0%|          | 0/60 [00:00<?, ?it/s]"
      ]
     },
     "metadata": {}
    },
    {
     "output_type": "display_data",
     "data": {
      "application/vnd.jupyter.widget-view+json": {
       "version_major": 2,
       "version_minor": 0,
       "model_id": "25dad5f5d5e6409ba761522f7ea4a2b7"
      },
      "text/plain": [
       "  0%|          | 0/60 [00:00<?, ?it/s]"
      ]
     },
     "metadata": {}
    },
    {
     "output_type": "display_data",
     "data": {
      "application/vnd.jupyter.widget-view+json": {
       "version_major": 2,
       "version_minor": 0,
       "model_id": "fe6b239f2c3d4acc8b4fa0f76e9261e6"
      },
      "text/plain": [
       "  0%|          | 0/27 [00:00<?, ?it/s]"
      ]
     },
     "metadata": {}
    }
   ],
   "metadata": {}
  },
  {
   "cell_type": "code",
   "execution_count": 227,
   "source": [
    "result_c_two = result_c_two.reset_index()\r\n",
    "result_c_two.set_index('index', inplace=True)\r\n",
    "result_c_two = result_c_two.drop_duplicates(subset='title')\r\n",
    "result_c_two = result_c_two.reset_index()\r\n",
    "result_c_two.info()"
   ],
   "outputs": [
    {
     "output_type": "stream",
     "name": "stdout",
     "text": [
      "<class 'pandas.core.frame.DataFrame'>\n",
      "RangeIndex: 138 entries, 0 to 137\n",
      "Data columns (total 5 columns):\n",
      " #   Column     Non-Null Count  Dtype \n",
      "---  ------     --------------  ----- \n",
      " 0   index      138 non-null    int64 \n",
      " 1   title      138 non-null    object\n",
      " 2   publisher  138 non-null    object\n",
      " 3   pubdate    138 non-null    object\n",
      " 4   price      138 non-null    object\n",
      "dtypes: int64(1), object(4)\n",
      "memory usage: 5.5+ KB\n"
     ]
    }
   ],
   "metadata": {}
  },
  {
   "cell_type": "code",
   "execution_count": 228,
   "source": [
    "a = pd.concat([result_c,result_c_two])\r\n",
    "a = a.reset_index()\r\n",
    "del a['level_0']\r\n",
    "del a['index']"
   ],
   "outputs": [],
   "metadata": {}
  },
  {
   "cell_type": "code",
   "execution_count": 237,
   "source": [
    "result_c = a\r\n",
    "result_c.info()"
   ],
   "outputs": [
    {
     "output_type": "stream",
     "name": "stdout",
     "text": [
      "<class 'pandas.core.frame.DataFrame'>\n",
      "RangeIndex: 655 entries, 0 to 654\n",
      "Data columns (total 4 columns):\n",
      " #   Column     Non-Null Count  Dtype \n",
      "---  ------     --------------  ----- \n",
      " 0   title      655 non-null    object\n",
      " 1   publisher  655 non-null    object\n",
      " 2   pubdate    655 non-null    object\n",
      " 3   price      655 non-null    object\n",
      "dtypes: object(4)\n",
      "memory usage: 20.6+ KB\n"
     ]
    }
   ],
   "metadata": {}
  },
  {
   "cell_type": "markdown",
   "source": [
    "---"
   ],
   "metadata": {}
  },
  {
   "cell_type": "markdown",
   "source": [
    "### - C++"
   ],
   "metadata": {}
  },
  {
   "cell_type": "code",
   "execution_count": 231,
   "source": [
    "import time\r\n",
    "from selenium import webdriver\r\n",
    "\r\n",
    "url = 'https://search.kyobobook.co.kr/web/search?vPstrKeyWord=C%25252B%25252B&searchPcondition=1&searchCategory=%EA%B5%AD%EB%82%B4%EB%8F%84%EC%84%9C@KORBOOK@@%EC%BB%B4%ED%93%A8%ED%84%B0/IT@33@@%ED%94%84%EB%A1%9C%EA%B7%B8%EB%9E%98%EB%B0%8D%20%EC%96%B8%EC%96%B4@3315&collName=KORBOOK&from_CollName=%EA%B5%AD%EB%82%B4%EB%8F%84%EC%84%9C@KORBOOK&searchOrder=0&vPstrTab=PRODUCT&from_coll=KORBOOK&row=60&currentPage=1&orderClick=LIZ&vPstrListMode=list'\r\n",
    "driver = webdriver.Chrome('../driver/chromedriver.exe')\r\n",
    "driver.implicitly_wait(10)\r\n",
    "driver.get(url)"
   ],
   "outputs": [],
   "metadata": {}
  },
  {
   "cell_type": "code",
   "execution_count": 232,
   "source": [
    "# 부모 태그\r\n",
    "books = driver.find_elements_by_css_selector('#search_list > tr')\r\n",
    "books[0].text"
   ],
   "outputs": [
    {
     "output_type": "execute_result",
     "data": {
      "text/plain": [
       "'국내도서\\n새창보기 | 미리보기\\n[컴퓨터/IT] 윤성우의 열혈 C++ 프로그래밍 : [개정판 2판]\\n윤성우 지음 | 오렌지미디어 | 2010년 05월\\n#객체 지향 프로그래밍 #대입 연산자 #객체 지향\\n[배송일정] 지금 주문하면 내일(22일, 금) 도착 예정 안내\\n사은품 컴퓨터/IT분야 2만원 이상 구매 시 개발자 매거진 선택 가능 | 2건\\n9.5 / 10\\n리뷰 3\\n27,000원\\n24,300원 [10%↓]\\n1,350원P\\n수량\\n수량 더하기\\n수량 빼기\\n바로드림\\n장바구니 담기\\n바로구매\\n보관함 담기\\n스펙비교'"
      ]
     },
     "metadata": {},
     "execution_count": 232
    }
   ],
   "metadata": {}
  },
  {
   "cell_type": "code",
   "execution_count": 233,
   "source": [
    "# 전체 데이터 크롤링_C++\r\n",
    "import time\r\n",
    "from tqdm import tqdm_notebook\r\n",
    "import pandas as pd\r\n",
    "datas = []\r\n",
    "result_cplus = []\r\n",
    "\r\n",
    "for i in range(10):\r\n",
    "    driver.find_elements_by_css_selector('#paging > li')[i].click()\r\n",
    "    time.sleep(5)\r\n",
    "    books = driver.find_elements_by_css_selector('#search_list > tr')\r\n",
    "    for book in tqdm_notebook(books):\r\n",
    "        title = book.find_element_by_css_selector('div.title > a > strong').text\r\n",
    "        publisher = book.find_elements_by_css_selector('div.author > a')[1].text\r\n",
    "        date = books[0].find_element_by_css_selector('div.author')\r\n",
    "        pubdate = date.text.split(' | ')[2]\r\n",
    "        #pubdate = book.find_elements_by_css_selector('div.author').text.split(' | ')[2]\r\n",
    "        price = book.find_element_by_css_selector('div.org_price').text\r\n",
    "    \r\n",
    "        datas.append({\r\n",
    "        'title' : title,\r\n",
    "        'publisher' : publisher,\r\n",
    "        'pubdate' : pubdate,\r\n",
    "        'price' :  price\r\n",
    "        })\r\n",
    "\r\n",
    "    df = pd.DataFrame(datas)\r\n",
    "    result_cplus.append(df)\r\n",
    "result_cplus = pd.concat(result_cplus)"
   ],
   "outputs": [
    {
     "output_type": "display_data",
     "data": {
      "application/vnd.jupyter.widget-view+json": {
       "version_major": 2,
       "version_minor": 0,
       "model_id": "8d619cfe7e5b43dcaccbf84e1c859b44"
      },
      "text/plain": [
       "  0%|          | 0/60 [00:00<?, ?it/s]"
      ]
     },
     "metadata": {}
    },
    {
     "output_type": "display_data",
     "data": {
      "application/vnd.jupyter.widget-view+json": {
       "version_major": 2,
       "version_minor": 0,
       "model_id": "8c63b90864dc4906a45df9da6718f01f"
      },
      "text/plain": [
       "  0%|          | 0/60 [00:00<?, ?it/s]"
      ]
     },
     "metadata": {}
    },
    {
     "output_type": "display_data",
     "data": {
      "application/vnd.jupyter.widget-view+json": {
       "version_major": 2,
       "version_minor": 0,
       "model_id": "e7a6cdde89e94c5183e3145c6f0f1752"
      },
      "text/plain": [
       "  0%|          | 0/60 [00:00<?, ?it/s]"
      ]
     },
     "metadata": {}
    },
    {
     "output_type": "display_data",
     "data": {
      "application/vnd.jupyter.widget-view+json": {
       "version_major": 2,
       "version_minor": 0,
       "model_id": "8a493b6054b645bcb0183ee80b749097"
      },
      "text/plain": [
       "  0%|          | 0/60 [00:00<?, ?it/s]"
      ]
     },
     "metadata": {}
    },
    {
     "output_type": "display_data",
     "data": {
      "application/vnd.jupyter.widget-view+json": {
       "version_major": 2,
       "version_minor": 0,
       "model_id": "cc14441bb40941db8d2b57f05fc8689c"
      },
      "text/plain": [
       "  0%|          | 0/60 [00:00<?, ?it/s]"
      ]
     },
     "metadata": {}
    },
    {
     "output_type": "display_data",
     "data": {
      "application/vnd.jupyter.widget-view+json": {
       "version_major": 2,
       "version_minor": 0,
       "model_id": "c63769c629da4fe6b0dd32631acdaa85"
      },
      "text/plain": [
       "  0%|          | 0/60 [00:00<?, ?it/s]"
      ]
     },
     "metadata": {}
    },
    {
     "output_type": "display_data",
     "data": {
      "application/vnd.jupyter.widget-view+json": {
       "version_major": 2,
       "version_minor": 0,
       "model_id": "aa38800c55af4ac3adefca9b89bb04c4"
      },
      "text/plain": [
       "  0%|          | 0/60 [00:00<?, ?it/s]"
      ]
     },
     "metadata": {}
    },
    {
     "output_type": "display_data",
     "data": {
      "application/vnd.jupyter.widget-view+json": {
       "version_major": 2,
       "version_minor": 0,
       "model_id": "bba58794be53497a830182fd1fbf8a4c"
      },
      "text/plain": [
       "  0%|          | 0/60 [00:00<?, ?it/s]"
      ]
     },
     "metadata": {}
    },
    {
     "output_type": "display_data",
     "data": {
      "application/vnd.jupyter.widget-view+json": {
       "version_major": 2,
       "version_minor": 0,
       "model_id": "6aa3673e9a974495975a54530fcfc79b"
      },
      "text/plain": [
       "  0%|          | 0/60 [00:00<?, ?it/s]"
      ]
     },
     "metadata": {}
    },
    {
     "output_type": "display_data",
     "data": {
      "application/vnd.jupyter.widget-view+json": {
       "version_major": 2,
       "version_minor": 0,
       "model_id": "9109813d27fd4e4b88f470c32e6ccf09"
      },
      "text/plain": [
       "  0%|          | 0/60 [00:00<?, ?it/s]"
      ]
     },
     "metadata": {}
    }
   ],
   "metadata": {}
  },
  {
   "cell_type": "code",
   "execution_count": 234,
   "source": [
    "result_cplus = result_cplus.reset_index()\r\n",
    "result_cplus.set_index('index', inplace=True)\r\n",
    "result_cplus = result_cplus.drop_duplicates(subset='title')\r\n",
    "result_cplus = result_cplus.reset_index()\r\n",
    "result_cplus.info()"
   ],
   "outputs": [
    {
     "output_type": "stream",
     "name": "stdout",
     "text": [
      "<class 'pandas.core.frame.DataFrame'>\n",
      "RangeIndex: 552 entries, 0 to 551\n",
      "Data columns (total 5 columns):\n",
      " #   Column     Non-Null Count  Dtype \n",
      "---  ------     --------------  ----- \n",
      " 0   index      552 non-null    int64 \n",
      " 1   title      552 non-null    object\n",
      " 2   publisher  552 non-null    object\n",
      " 3   pubdate    552 non-null    object\n",
      " 4   price      552 non-null    object\n",
      "dtypes: int64(1), object(4)\n",
      "memory usage: 21.7+ KB\n"
     ]
    }
   ],
   "metadata": {}
  },
  {
   "cell_type": "code",
   "execution_count": 235,
   "source": [
    "url = 'https://search.kyobobook.co.kr/web/search?vPstrKeyWord=C%25252B%25252B&searchPcondition=1&searchCategory=%EA%B5%AD%EB%82%B4%EB%8F%84%EC%84%9C@KORBOOK@@%EC%BB%B4%ED%93%A8%ED%84%B0/IT@33@@%ED%94%84%EB%A1%9C%EA%B7%B8%EB%9E%98%EB%B0%8D%20%EC%96%B8%EC%96%B4@3315&collName=KORBOOK&from_CollName=%EA%B5%AD%EB%82%B4%EB%8F%84%EC%84%9C@KORBOOK&searchOrder=0&vPstrTab=PRODUCT&from_coll=KORBOOK&row=60&vPstrListMode=list&currentPage=11&orderClick=LIZ#container'\r\n",
    "\r\n",
    "driver = webdriver.Chrome('../driver/chromedriver.exe')\r\n",
    "driver.implicitly_wait(10)\r\n",
    "driver.get(url)"
   ],
   "outputs": [],
   "metadata": {}
  },
  {
   "cell_type": "code",
   "execution_count": 238,
   "source": [
    "# 전체 데이터 크롤링_C++\r\n",
    "import time\r\n",
    "from tqdm import tqdm_notebook\r\n",
    "import pandas as pd\r\n",
    "datas = []\r\n",
    "result_cplus_two = []\r\n",
    "\r\n",
    "for i in range(9):\r\n",
    "    driver.find_elements_by_css_selector('#paging > li')[i].click()\r\n",
    "    time.sleep(5)\r\n",
    "    books = driver.find_elements_by_css_selector('#search_list > tr')\r\n",
    "    for book in tqdm_notebook(books):\r\n",
    "        title = book.find_element_by_css_selector('div.title > a > strong').text\r\n",
    "        publisher = book.find_elements_by_css_selector('div.author > a')[1].text\r\n",
    "        date = books[0].find_element_by_css_selector('div.author')\r\n",
    "        pubdate = date.text.split(' | ')[2]\r\n",
    "        #pubdate = book.find_elements_by_css_selector('div.author').text.split(' | ')[2]\r\n",
    "        price = book.find_element_by_css_selector('div.org_price').text\r\n",
    "    \r\n",
    "        datas.append({\r\n",
    "        'title' : title,\r\n",
    "        'publisher' : publisher,\r\n",
    "        'pubdate' : pubdate,\r\n",
    "        'price' :  price\r\n",
    "        })\r\n",
    "\r\n",
    "    df = pd.DataFrame(datas)\r\n",
    "    result_cplus_two.append(df)\r\n",
    "result_cplus_two = pd.concat(result_cplus_two)"
   ],
   "outputs": [
    {
     "output_type": "display_data",
     "data": {
      "application/vnd.jupyter.widget-view+json": {
       "version_major": 2,
       "version_minor": 0,
       "model_id": "4120c272a268498aa91783a48c04f144"
      },
      "text/plain": [
       "  0%|          | 0/60 [00:00<?, ?it/s]"
      ]
     },
     "metadata": {}
    },
    {
     "output_type": "display_data",
     "data": {
      "application/vnd.jupyter.widget-view+json": {
       "version_major": 2,
       "version_minor": 0,
       "model_id": "564f139d66db4d92bd0499dfe6cf6a8c"
      },
      "text/plain": [
       "  0%|          | 0/60 [00:00<?, ?it/s]"
      ]
     },
     "metadata": {}
    },
    {
     "output_type": "display_data",
     "data": {
      "application/vnd.jupyter.widget-view+json": {
       "version_major": 2,
       "version_minor": 0,
       "model_id": "098c707518ca45448ce2e93149d54324"
      },
      "text/plain": [
       "  0%|          | 0/60 [00:00<?, ?it/s]"
      ]
     },
     "metadata": {}
    },
    {
     "output_type": "display_data",
     "data": {
      "application/vnd.jupyter.widget-view+json": {
       "version_major": 2,
       "version_minor": 0,
       "model_id": "99e24b1995a04edc9f4594043436eb5d"
      },
      "text/plain": [
       "  0%|          | 0/60 [00:00<?, ?it/s]"
      ]
     },
     "metadata": {}
    },
    {
     "output_type": "display_data",
     "data": {
      "application/vnd.jupyter.widget-view+json": {
       "version_major": 2,
       "version_minor": 0,
       "model_id": "70e72245bd04429a8f200b0895f18f5a"
      },
      "text/plain": [
       "  0%|          | 0/60 [00:00<?, ?it/s]"
      ]
     },
     "metadata": {}
    },
    {
     "output_type": "display_data",
     "data": {
      "application/vnd.jupyter.widget-view+json": {
       "version_major": 2,
       "version_minor": 0,
       "model_id": "72eae9dffce1453895a8fe886f980d61"
      },
      "text/plain": [
       "  0%|          | 0/60 [00:00<?, ?it/s]"
      ]
     },
     "metadata": {}
    },
    {
     "output_type": "display_data",
     "data": {
      "application/vnd.jupyter.widget-view+json": {
       "version_major": 2,
       "version_minor": 0,
       "model_id": "2e006e70b65a4338afde2fa87bcf5792"
      },
      "text/plain": [
       "  0%|          | 0/60 [00:00<?, ?it/s]"
      ]
     },
     "metadata": {}
    },
    {
     "output_type": "display_data",
     "data": {
      "application/vnd.jupyter.widget-view+json": {
       "version_major": 2,
       "version_minor": 0,
       "model_id": "cf299d5086d741c7bc5ac7f912b4b3af"
      },
      "text/plain": [
       "  0%|          | 0/60 [00:00<?, ?it/s]"
      ]
     },
     "metadata": {}
    },
    {
     "output_type": "display_data",
     "data": {
      "application/vnd.jupyter.widget-view+json": {
       "version_major": 2,
       "version_minor": 0,
       "model_id": "7d1e3ccb5498438dacea52bb6bac85b2"
      },
      "text/plain": [
       "  0%|          | 0/9 [00:00<?, ?it/s]"
      ]
     },
     "metadata": {}
    }
   ],
   "metadata": {}
  },
  {
   "cell_type": "code",
   "execution_count": 239,
   "source": [
    "result_cplus_two = result_cplus_two.reset_index()\r\n",
    "result_cplus_two.set_index('index', inplace=True)\r\n",
    "result_cplus_two = result_cplus_two.drop_duplicates(subset='title')\r\n",
    "result_cplus_two = result_cplus_two.reset_index()\r\n",
    "result_cplus_two.info()"
   ],
   "outputs": [
    {
     "output_type": "stream",
     "name": "stdout",
     "text": [
      "<class 'pandas.core.frame.DataFrame'>\n",
      "RangeIndex: 465 entries, 0 to 464\n",
      "Data columns (total 5 columns):\n",
      " #   Column     Non-Null Count  Dtype \n",
      "---  ------     --------------  ----- \n",
      " 0   index      465 non-null    int64 \n",
      " 1   title      465 non-null    object\n",
      " 2   publisher  465 non-null    object\n",
      " 3   pubdate    465 non-null    object\n",
      " 4   price      465 non-null    object\n",
      "dtypes: int64(1), object(4)\n",
      "memory usage: 18.3+ KB\n"
     ]
    }
   ],
   "metadata": {}
  },
  {
   "cell_type": "code",
   "execution_count": 240,
   "source": [
    "a = pd.concat([result_cplus,result_cplus_two])\r\n",
    "a = a.reset_index()\r\n",
    "del a['level_0']\r\n",
    "del a['index']"
   ],
   "outputs": [],
   "metadata": {}
  },
  {
   "cell_type": "code",
   "execution_count": 241,
   "source": [
    "result_cplus = a  \r\n",
    "result_cplus.info()"
   ],
   "outputs": [
    {
     "output_type": "stream",
     "name": "stdout",
     "text": [
      "<class 'pandas.core.frame.DataFrame'>\n",
      "RangeIndex: 1017 entries, 0 to 1016\n",
      "Data columns (total 4 columns):\n",
      " #   Column     Non-Null Count  Dtype \n",
      "---  ------     --------------  ----- \n",
      " 0   title      1017 non-null   object\n",
      " 1   publisher  1017 non-null   object\n",
      " 2   pubdate    1017 non-null   object\n",
      " 3   price      1017 non-null   object\n",
      "dtypes: object(4)\n",
      "memory usage: 31.9+ KB\n"
     ]
    }
   ],
   "metadata": {}
  },
  {
   "cell_type": "markdown",
   "source": [
    "---"
   ],
   "metadata": {}
  },
  {
   "cell_type": "markdown",
   "source": [
    "### - C#"
   ],
   "metadata": {}
  },
  {
   "cell_type": "code",
   "execution_count": 242,
   "source": [
    "url = 'https://search.kyobobook.co.kr/web/search?vPstrKeyWord=C%2523&searchPcondition=1&searchCategory=%EA%B5%AD%EB%82%B4%EB%8F%84%EC%84%9C@KORBOOK&collName=KORBOOK&from_CollName=%EA%B5%AD%EB%82%B4%EB%8F%84%EC%84%9C@KORBOOK&searchOrder=0&vPstrTab=PRODUCT&from_coll=KORBOOK&row=60&currentPage=1&orderClick=LAH'\r\n",
    "\r\n",
    "driver = webdriver.Chrome('../driver/chromedriver.exe')\r\n",
    "driver.implicitly_wait(10)\r\n",
    "driver.get(url)"
   ],
   "outputs": [],
   "metadata": {}
  },
  {
   "cell_type": "code",
   "execution_count": 243,
   "source": [
    "# 부모 태그\r\n",
    "books = driver.find_elements_by_css_selector('#search_list > tr')\r\n",
    "books[0].text"
   ],
   "outputs": [
    {
     "output_type": "execute_result",
     "data": {
      "text/plain": [
       "'국내도서\\n새창보기 | 미리보기\\n[컴퓨터/IT] 이것이 C# 이다 : 입문자에게 가장 탄탄한 기본기를 다져줄 C# 입문서\\n박상현 지음 | 한빛미디어 | 2021년 01월\\n#스레드 #추상 클래스 #산술 연산자\\n[배송일정] 지금 주문하면 내일(22일, 금) 도착 예정 안내\\n사은품 2022 캘린더 수록한 IT독자를 위한 readIT 노트 사은품 | 4건\\n9.7 / 10\\n리뷰 5\\neBook 27,200원\\n34,000원\\n30,600원 [10%↓]\\n1,700원P\\n수량\\n수량 더하기\\n수량 빼기\\n바로드림\\n장바구니 담기\\n바로구매\\n보관함 담기\\n스펙비교'"
      ]
     },
     "metadata": {},
     "execution_count": 243
    }
   ],
   "metadata": {}
  },
  {
   "cell_type": "code",
   "execution_count": 244,
   "source": [
    "# 전체 데이터 크롤링_C#\r\n",
    "import time\r\n",
    "from tqdm import tqdm_notebook\r\n",
    "import pandas as pd\r\n",
    "datas = []\r\n",
    "result_cc = []\r\n",
    "\r\n",
    "for i in range(7):\r\n",
    "    driver.find_elements_by_css_selector('#paging > li')[i].click()\r\n",
    "    time.sleep(5)\r\n",
    "    books = driver.find_elements_by_css_selector('#search_list > tr')\r\n",
    "    for book in tqdm_notebook(books):\r\n",
    "        title = book.find_element_by_css_selector('div.title > a > strong').text\r\n",
    "        publisher = book.find_elements_by_css_selector('div.author > a')[1].text\r\n",
    "        date = books[0].find_element_by_css_selector('div.author')\r\n",
    "        pubdate = date.text.split(' | ')[2]\r\n",
    "        #pubdate = book.find_elements_by_css_selector('div.author').text.split(' | ')[2]\r\n",
    "        price = book.find_element_by_css_selector('div.org_price').text\r\n",
    "    \r\n",
    "        datas.append({\r\n",
    "        'title' : title,\r\n",
    "        'publisher' : publisher,\r\n",
    "        'pubdate' : pubdate,\r\n",
    "        'price' :  price\r\n",
    "        })\r\n",
    "\r\n",
    "    df = pd.DataFrame(datas)\r\n",
    "    result_cc.append(df)\r\n",
    "result_cc = pd.concat(result_cc)"
   ],
   "outputs": [
    {
     "output_type": "display_data",
     "data": {
      "application/vnd.jupyter.widget-view+json": {
       "version_major": 2,
       "version_minor": 0,
       "model_id": "fff25b41c071406da302f4eb6370fbf7"
      },
      "text/plain": [
       "  0%|          | 0/60 [00:00<?, ?it/s]"
      ]
     },
     "metadata": {}
    },
    {
     "output_type": "display_data",
     "data": {
      "application/vnd.jupyter.widget-view+json": {
       "version_major": 2,
       "version_minor": 0,
       "model_id": "48088ce8e8824794b3d9fc7282541b6f"
      },
      "text/plain": [
       "  0%|          | 0/60 [00:00<?, ?it/s]"
      ]
     },
     "metadata": {}
    },
    {
     "output_type": "display_data",
     "data": {
      "application/vnd.jupyter.widget-view+json": {
       "version_major": 2,
       "version_minor": 0,
       "model_id": "20ef8abbc4984903a7d754387f156461"
      },
      "text/plain": [
       "  0%|          | 0/60 [00:00<?, ?it/s]"
      ]
     },
     "metadata": {}
    },
    {
     "output_type": "display_data",
     "data": {
      "application/vnd.jupyter.widget-view+json": {
       "version_major": 2,
       "version_minor": 0,
       "model_id": "ad62b72f1aff4a29a0544fd0d40b009c"
      },
      "text/plain": [
       "  0%|          | 0/60 [00:00<?, ?it/s]"
      ]
     },
     "metadata": {}
    },
    {
     "output_type": "display_data",
     "data": {
      "application/vnd.jupyter.widget-view+json": {
       "version_major": 2,
       "version_minor": 0,
       "model_id": "7c3d79fed86940dab1903b7af12ca9f7"
      },
      "text/plain": [
       "  0%|          | 0/60 [00:00<?, ?it/s]"
      ]
     },
     "metadata": {}
    },
    {
     "output_type": "display_data",
     "data": {
      "application/vnd.jupyter.widget-view+json": {
       "version_major": 2,
       "version_minor": 0,
       "model_id": "a83dac80360340ba88115f8eb25991d2"
      },
      "text/plain": [
       "  0%|          | 0/60 [00:00<?, ?it/s]"
      ]
     },
     "metadata": {}
    },
    {
     "output_type": "display_data",
     "data": {
      "application/vnd.jupyter.widget-view+json": {
       "version_major": 2,
       "version_minor": 0,
       "model_id": "fde094ae57e141a18763257acb4a9e6e"
      },
      "text/plain": [
       "  0%|          | 0/41 [00:00<?, ?it/s]"
      ]
     },
     "metadata": {}
    }
   ],
   "metadata": {}
  },
  {
   "cell_type": "code",
   "execution_count": 245,
   "source": [
    "result_cc = result_cc.reset_index()\r\n",
    "result_cc.set_index('index', inplace=True)\r\n",
    "result_cc = result_cc.drop_duplicates(subset='title')\r\n",
    "result_cc = result_cc.reset_index()\r\n",
    "result_cc.info()"
   ],
   "outputs": [
    {
     "output_type": "stream",
     "name": "stdout",
     "text": [
      "<class 'pandas.core.frame.DataFrame'>\n",
      "RangeIndex: 383 entries, 0 to 382\n",
      "Data columns (total 5 columns):\n",
      " #   Column     Non-Null Count  Dtype \n",
      "---  ------     --------------  ----- \n",
      " 0   index      383 non-null    int64 \n",
      " 1   title      383 non-null    object\n",
      " 2   publisher  383 non-null    object\n",
      " 3   pubdate    383 non-null    object\n",
      " 4   price      383 non-null    object\n",
      "dtypes: int64(1), object(4)\n",
      "memory usage: 15.1+ KB\n"
     ]
    }
   ],
   "metadata": {}
  },
  {
   "cell_type": "markdown",
   "source": [
    "---"
   ],
   "metadata": {}
  },
  {
   "cell_type": "markdown",
   "source": [
    "### -java"
   ],
   "metadata": {}
  },
  {
   "cell_type": "code",
   "execution_count": 246,
   "source": [
    "url = 'https://search.kyobobook.co.kr/web/search?vPstrKeyWord=java%25ED%2594%2584%25EB%25A1%259C%25EA%25B7%25B8%25EB%259E%2598%25EB%25B0%258D&searchPcondition=1&searchCategory=%EA%B5%AD%EB%82%B4%EB%8F%84%EC%84%9C@KORBOOK&collName=KORBOOK&from_CollName=%EA%B5%AD%EB%82%B4%EB%8F%84%EC%84%9C@KORBOOK&searchOrder=0&vPstrTab=PRODUCT&from_coll=KORBOOK&row=60&currentPage=1&orderClick=LAH'\r\n",
    "\r\n",
    "driver = webdriver.Chrome('../driver/chromedriver.exe')\r\n",
    "driver.implicitly_wait(10)\r\n",
    "driver.get(url)"
   ],
   "outputs": [],
   "metadata": {}
  },
  {
   "cell_type": "code",
   "execution_count": 247,
   "source": [
    "# 부모 태그\r\n",
    "books = driver.find_elements_by_css_selector('#search_list > tr')\r\n",
    "books[0].text"
   ],
   "outputs": [
    {
     "output_type": "execute_result",
     "data": {
      "text/plain": [
       "'국내도서\\n새창보기 | 미리보기\\n[컴퓨터/IT] Clean Code(클린 코드) : 애자일 소프트웨어 장인 정신\\n원서/번역서\\n: Clean Code (Paperback) | 총서: 프로그램 프로그래밍 프로그래머\\n로버트 C. 마틴 지음 | 박재호 옮김 | 인사이트 | 2013년 12월\\n#프로그래밍 #개발\\n[배송일정] 지금 주문하면 내일(22일, 금) 도착 예정 안내\\n사은품 2022 캘린더 수록한 IT독자를 위한 readIT 노트 사은품 | 5건\\n9.8 / 10\\n리뷰 1\\neBook 26,400원\\n33,000원\\n29,700원 [10%↓]\\n1,650원P\\n수량\\n수량 더하기\\n수량 빼기\\n바로드림\\n장바구니 담기\\n바로구매\\n보관함 담기\\n스펙비교'"
      ]
     },
     "metadata": {},
     "execution_count": 247
    }
   ],
   "metadata": {}
  },
  {
   "cell_type": "code",
   "execution_count": 248,
   "source": [
    "# 전체 데이터 크롤링_java\r\n",
    "import time\r\n",
    "from tqdm import tqdm_notebook\r\n",
    "import pandas as pd\r\n",
    "datas = []\r\n",
    "result_java = []\r\n",
    "\r\n",
    "for i in range(9):\r\n",
    "    driver.find_elements_by_css_selector('#paging > li')[i].click()\r\n",
    "    time.sleep(5)\r\n",
    "    books = driver.find_elements_by_css_selector('#search_list > tr')\r\n",
    "    for book in tqdm_notebook(books):\r\n",
    "        title = book.find_element_by_css_selector('div.title > a > strong').text\r\n",
    "        publisher = book.find_elements_by_css_selector('div.author > a')[1].text\r\n",
    "        date = books[0].find_element_by_css_selector('div.author')\r\n",
    "        pubdate = date.text.split(' | ')[2]\r\n",
    "        #pubdate = book.find_elements_by_css_selector('div.author').text.split(' | ')[2]\r\n",
    "        price = book.find_element_by_css_selector('div.org_price').text\r\n",
    "    \r\n",
    "        datas.append({\r\n",
    "        'title' : title,\r\n",
    "        'publisher' : publisher,\r\n",
    "        'pubdate' : pubdate,\r\n",
    "        'price' :  price\r\n",
    "        })\r\n",
    "\r\n",
    "    df = pd.DataFrame(datas)\r\n",
    "    result_java.append(df)\r\n",
    "result_java = pd.concat(result_java)"
   ],
   "outputs": [
    {
     "output_type": "display_data",
     "data": {
      "application/vnd.jupyter.widget-view+json": {
       "version_major": 2,
       "version_minor": 0,
       "model_id": "922fb308ea4b49ff87008dc6bc5a9869"
      },
      "text/plain": [
       "  0%|          | 0/60 [00:00<?, ?it/s]"
      ]
     },
     "metadata": {}
    },
    {
     "output_type": "display_data",
     "data": {
      "application/vnd.jupyter.widget-view+json": {
       "version_major": 2,
       "version_minor": 0,
       "model_id": "963b95f4850944a09fc01c5677cff212"
      },
      "text/plain": [
       "  0%|          | 0/60 [00:00<?, ?it/s]"
      ]
     },
     "metadata": {}
    },
    {
     "output_type": "display_data",
     "data": {
      "application/vnd.jupyter.widget-view+json": {
       "version_major": 2,
       "version_minor": 0,
       "model_id": "4cfa2184edcb422bb972ab1cd69733eb"
      },
      "text/plain": [
       "  0%|          | 0/60 [00:00<?, ?it/s]"
      ]
     },
     "metadata": {}
    },
    {
     "output_type": "display_data",
     "data": {
      "application/vnd.jupyter.widget-view+json": {
       "version_major": 2,
       "version_minor": 0,
       "model_id": "867a105a49f24af4b1252ab5e144091c"
      },
      "text/plain": [
       "  0%|          | 0/60 [00:00<?, ?it/s]"
      ]
     },
     "metadata": {}
    },
    {
     "output_type": "display_data",
     "data": {
      "application/vnd.jupyter.widget-view+json": {
       "version_major": 2,
       "version_minor": 0,
       "model_id": "16315495553b4e389bd95517eb8ec39e"
      },
      "text/plain": [
       "  0%|          | 0/60 [00:00<?, ?it/s]"
      ]
     },
     "metadata": {}
    },
    {
     "output_type": "display_data",
     "data": {
      "application/vnd.jupyter.widget-view+json": {
       "version_major": 2,
       "version_minor": 0,
       "model_id": "630d657516494fcca16fa9a4bb82b396"
      },
      "text/plain": [
       "  0%|          | 0/60 [00:00<?, ?it/s]"
      ]
     },
     "metadata": {}
    },
    {
     "output_type": "display_data",
     "data": {
      "application/vnd.jupyter.widget-view+json": {
       "version_major": 2,
       "version_minor": 0,
       "model_id": "223b3a76e54d459c9e63b4ef3d0be994"
      },
      "text/plain": [
       "  0%|          | 0/60 [00:00<?, ?it/s]"
      ]
     },
     "metadata": {}
    },
    {
     "output_type": "display_data",
     "data": {
      "application/vnd.jupyter.widget-view+json": {
       "version_major": 2,
       "version_minor": 0,
       "model_id": "2ff4e647926444e9bd95c4cc169790bf"
      },
      "text/plain": [
       "  0%|          | 0/60 [00:00<?, ?it/s]"
      ]
     },
     "metadata": {}
    },
    {
     "output_type": "display_data",
     "data": {
      "application/vnd.jupyter.widget-view+json": {
       "version_major": 2,
       "version_minor": 0,
       "model_id": "1d2d9b1708654ccf8c4ec79f45ffae65"
      },
      "text/plain": [
       "  0%|          | 0/57 [00:00<?, ?it/s]"
      ]
     },
     "metadata": {}
    }
   ],
   "metadata": {}
  },
  {
   "cell_type": "code",
   "execution_count": 249,
   "source": [
    "result_java = result_java.reset_index()\r\n",
    "result_java.set_index('index', inplace=True)\r\n",
    "result_java = result_java.drop_duplicates(subset='title')\r\n",
    "result_java = result_java.reset_index()\r\n",
    "result_java.info()"
   ],
   "outputs": [
    {
     "output_type": "stream",
     "name": "stdout",
     "text": [
      "<class 'pandas.core.frame.DataFrame'>\n",
      "RangeIndex: 499 entries, 0 to 498\n",
      "Data columns (total 5 columns):\n",
      " #   Column     Non-Null Count  Dtype \n",
      "---  ------     --------------  ----- \n",
      " 0   index      499 non-null    int64 \n",
      " 1   title      499 non-null    object\n",
      " 2   publisher  499 non-null    object\n",
      " 3   pubdate    499 non-null    object\n",
      " 4   price      499 non-null    object\n",
      "dtypes: int64(1), object(4)\n",
      "memory usage: 19.6+ KB\n"
     ]
    }
   ],
   "metadata": {}
  },
  {
   "cell_type": "markdown",
   "source": [
    "---"
   ],
   "metadata": {}
  },
  {
   "cell_type": "markdown",
   "source": [
    "### - SQL"
   ],
   "metadata": {}
  },
  {
   "cell_type": "code",
   "execution_count": 250,
   "source": [
    "url = 'https://search.kyobobook.co.kr/web/search?vPstrKeyWord=sql&searchPcondition=1&searchCategory=%EA%B5%AD%EB%82%B4%EB%8F%84%EC%84%9C@KORBOOK&collName=KORBOOK&from_CollName=%EA%B5%AD%EB%82%B4%EB%8F%84%EC%84%9C@KORBOOK&searchOrder=0&vPstrTab=PRODUCT&from_coll=KORBOOK&row=60&currentPage=1&orderClick=LAH'\r\n",
    "\r\n",
    "driver = webdriver.Chrome('../driver/chromedriver.exe')\r\n",
    "driver.implicitly_wait(10)\r\n",
    "driver.get(url)"
   ],
   "outputs": [],
   "metadata": {}
  },
  {
   "cell_type": "code",
   "execution_count": 251,
   "source": [
    "# 부모 태그\r\n",
    "books = driver.find_elements_by_css_selector('#search_list > tr')\r\n",
    "books[0].text"
   ],
   "outputs": [
    {
     "output_type": "execute_result",
     "data": {
      "text/plain": [
       "'국내도서\\n새창보기\\n[컴퓨터/IT] SQL 자격검정 실전문제 : 국가공인 SQL전문가 국가공인 SQL개발자\\n한국데이터진흥원 지음 | 한국데이터진흥원 | 2020년 05월\\n#데이터 모델링 #데이터 모델 #고급 활용\\n[배송일정] 지금 주문하면 내일(22일, 금) 도착 예정 안내\\n이벤트 자격시험 일정과 지금 이시간 베스트 교재를 함께 확인해보세요!\\n9.5 / 10\\n리뷰 0\\n18,000원\\n16,200원 [10%↓]\\n180원P\\n수량\\n수량 더하기\\n수량 빼기\\n바로드림\\n장바구니 담기\\n바로구매\\n보관함 담기\\n스펙비교'"
      ]
     },
     "metadata": {},
     "execution_count": 251
    }
   ],
   "metadata": {}
  },
  {
   "cell_type": "code",
   "execution_count": 252,
   "source": [
    "# 전체 데이터 크롤링_java\r\n",
    "import time\r\n",
    "from tqdm import tqdm_notebook\r\n",
    "import pandas as pd\r\n",
    "datas = []\r\n",
    "result_sql = []\r\n",
    "\r\n",
    "for i in range(7):\r\n",
    "    driver.find_elements_by_css_selector('#paging > li')[i].click()\r\n",
    "    time.sleep(5)\r\n",
    "    books = driver.find_elements_by_css_selector('#search_list > tr')\r\n",
    "    for book in tqdm_notebook(books):\r\n",
    "        title = book.find_element_by_css_selector('div.title > a > strong').text\r\n",
    "        publisher = book.find_elements_by_css_selector('div.author > a')[1].text\r\n",
    "        date = books[0].find_element_by_css_selector('div.author')\r\n",
    "        pubdate = date.text.split(' | ')[2]\r\n",
    "        #pubdate = book.find_elements_by_css_selector('div.author').text.split(' | ')[2]\r\n",
    "        price = book.find_element_by_css_selector('div.org_price').text\r\n",
    "    \r\n",
    "        datas.append({\r\n",
    "        'title' : title,\r\n",
    "        'publisher' : publisher,\r\n",
    "        'pubdate' : pubdate,\r\n",
    "        'price' :  price\r\n",
    "        })\r\n",
    "\r\n",
    "    df = pd.DataFrame(datas)\r\n",
    "    result_sql.append(df)\r\n",
    "result_sql = pd.concat(result_sql)"
   ],
   "outputs": [
    {
     "output_type": "display_data",
     "data": {
      "application/vnd.jupyter.widget-view+json": {
       "version_major": 2,
       "version_minor": 0,
       "model_id": "af672f2b41da49a69adba0c79e956b7b"
      },
      "text/plain": [
       "  0%|          | 0/60 [00:00<?, ?it/s]"
      ]
     },
     "metadata": {}
    },
    {
     "output_type": "display_data",
     "data": {
      "application/vnd.jupyter.widget-view+json": {
       "version_major": 2,
       "version_minor": 0,
       "model_id": "d5c9f44b0603464abb2b917c3e4e5f69"
      },
      "text/plain": [
       "  0%|          | 0/60 [00:00<?, ?it/s]"
      ]
     },
     "metadata": {}
    },
    {
     "output_type": "display_data",
     "data": {
      "application/vnd.jupyter.widget-view+json": {
       "version_major": 2,
       "version_minor": 0,
       "model_id": "851e1934c2694a7ab884129e9db689d8"
      },
      "text/plain": [
       "  0%|          | 0/60 [00:00<?, ?it/s]"
      ]
     },
     "metadata": {}
    },
    {
     "output_type": "display_data",
     "data": {
      "application/vnd.jupyter.widget-view+json": {
       "version_major": 2,
       "version_minor": 0,
       "model_id": "a46dcd8e594a4a97ac9ede49dcdd202f"
      },
      "text/plain": [
       "  0%|          | 0/60 [00:00<?, ?it/s]"
      ]
     },
     "metadata": {}
    },
    {
     "output_type": "display_data",
     "data": {
      "application/vnd.jupyter.widget-view+json": {
       "version_major": 2,
       "version_minor": 0,
       "model_id": "25e20f3b29864dd4bb39f1ae581c7143"
      },
      "text/plain": [
       "  0%|          | 0/60 [00:00<?, ?it/s]"
      ]
     },
     "metadata": {}
    },
    {
     "output_type": "display_data",
     "data": {
      "application/vnd.jupyter.widget-view+json": {
       "version_major": 2,
       "version_minor": 0,
       "model_id": "fe6e1429c10c4e0ca7a057ef86749e91"
      },
      "text/plain": [
       "  0%|          | 0/60 [00:00<?, ?it/s]"
      ]
     },
     "metadata": {}
    },
    {
     "output_type": "display_data",
     "data": {
      "application/vnd.jupyter.widget-view+json": {
       "version_major": 2,
       "version_minor": 0,
       "model_id": "4216637f20884b819b0fd8367b90c7ed"
      },
      "text/plain": [
       "  0%|          | 0/4 [00:02<?, ?it/s]"
      ]
     },
     "metadata": {}
    }
   ],
   "metadata": {}
  },
  {
   "cell_type": "code",
   "execution_count": 253,
   "source": [
    "result_sql = result_sql.reset_index()\r\n",
    "result_sql.set_index('index', inplace=True)\r\n",
    "result_sql = result_sql.drop_duplicates(subset='title')\r\n",
    "result_sql = result_sql.reset_index()\r\n",
    "result_sql.info()"
   ],
   "outputs": [
    {
     "output_type": "stream",
     "name": "stdout",
     "text": [
      "<class 'pandas.core.frame.DataFrame'>\n",
      "RangeIndex: 357 entries, 0 to 356\n",
      "Data columns (total 5 columns):\n",
      " #   Column     Non-Null Count  Dtype \n",
      "---  ------     --------------  ----- \n",
      " 0   index      357 non-null    int64 \n",
      " 1   title      357 non-null    object\n",
      " 2   publisher  357 non-null    object\n",
      " 3   pubdate    357 non-null    object\n",
      " 4   price      357 non-null    object\n",
      "dtypes: int64(1), object(4)\n",
      "memory usage: 14.1+ KB\n"
     ]
    }
   ],
   "metadata": {}
  },
  {
   "cell_type": "markdown",
   "source": [
    "---"
   ],
   "metadata": {}
  },
  {
   "cell_type": "markdown",
   "source": [
    "## 3. 언어별 출판된 책 양 비교 시각화"
   ],
   "metadata": {}
  },
  {
   "cell_type": "code",
   "execution_count": 204,
   "source": [
    "books_sort = books.sort_values('amount')\r\n",
    "\r\n",
    "fig = plt.figure(figsize=(10, 6)) ## 캔버스 생성\r\n",
    "fig.set_facecolor('white')\r\n",
    "ax1 = fig.add_subplot() ## axes 생성\r\n",
    "\r\n",
    "plt.title('언어별 책 출판 수 & 인기 순위 비교', size=20)\r\n",
    "\r\n",
    "ax1.bar(books_sort['title'], books_sort['amount'],color='#5A62D8')\r\n",
    "plt.ylabel('개수', size=12)\r\n",
    "\r\n",
    "ax2 = ax1.twinx()\r\n",
    "ax2.plot(books_sort['title'], books_sort['rank'],\r\n",
    "        ls='dashed', lw=3, color='yellow',marker='o',markerfacecolor='orange',markersize=10,)\r\n",
    "ax2.set_ylabel('순위', size=12)\r\n",
    "ax2.invert_yaxis()\r\n",
    "plt.xticks(size=15)\r\n",
    "plt.yticks(size=12)\r\n",
    "\r\n",
    "plt.grid()\r\n",
    "plt.show()\r\n",
    "\r\n",
    "\r\n"
   ],
   "outputs": [
    {
     "output_type": "display_data",
     "data": {
      "image/png": "[encoded data removed]",
      "text/plain": [
       "<Figure size 720x432 with 2 Axes>"
      ]
     },
     "metadata": {}
    }
   ],
   "metadata": {}
  },
  {
   "cell_type": "markdown",
   "source": [
    "```\r\n",
    "- 분석\r\n",
    "    - 언어별 책 출판 수량과 언어별 인기 순위의 경향이 비슷한 걸로 보인다.\r\n",
    "    - tiobe에서도, 책 출판 수량을 봐서도, 파이썬이 제일 관심을 많이 받고 있는 언어이다.\r\n",
    "\r\n",
    "- 부족한 점\r\n",
    "    - C의 경우 C / C++ / C# 으로, \r\n",
    "      자바의 경우 java / javascript 로,\r\n",
    "      같은 단어가 들어가 있어, 검색할 때 여러 차례 중복이 될 가능성이 크다.\r\n",
    "    - 셀레니움으로 책 정보를 수집할 때, \r\n",
    "      for문으로 돌렸으나, 책의 타이틀만 제대로 수집되었다.\r\n",
    "      -> xpath 말고, css로 다시 파싱해보자. => 해결\r\n",
    "```"
   ],
   "metadata": {}
  },
  {
   "cell_type": "markdown",
   "source": [
    "---"
   ],
   "metadata": {}
  },
  {
   "cell_type": "markdown",
   "source": [
    "## 4. 컴퓨터 언어 관련 출판사 순위 확인 및 시각화"
   ],
   "metadata": {}
  },
  {
   "cell_type": "code",
   "execution_count": 256,
   "source": [
    "result_r['publisher'].unique()"
   ],
   "outputs": [
    {
     "output_type": "execute_result",
     "data": {
      "text/plain": [
       "array(['부산대학교출판문화원', '한빛아카데미', '인피니티북스', '부산대학교출판부', '서울경제경영', '성안당',\n",
       "       '에이콘출판', '영진닷컴', '비제이퍼블릭', '자유아카데미', '씨엔씨에듀', '한빛미디어', '정보문화사',\n",
       "       '한나래아카데미', '인사이트', '느린생각', '루비페이퍼', '혜지원', '내하출판사', '교학사', '인포북',\n",
       "       '가메', '길벗', '대림', '위키북스', '퍼플', '퍼스트북', '이지스퍼블리싱', '황소걸음아카데미',\n",
       "       '생능출판사', '앤써북', '제이펍', '책만', '골든래빗', '배움터', '21세기사', '에스컴', '씨아이알',\n",
       "       '생능출판', '가메출판사', '보문각', '기한재', '잇플', '고려대학교출판부', '와이북스', '아카데미소프트',\n",
       "       'PEARSONEDUCATIONKOREA', '숨은원리', '케이앤피북스', '휴먼싸이언스', '한경사', '청람',\n",
       "       'McGraw-Hill', '사이텍미디어', '한국방송통신대학교출판문화원', '한울아카데미', '교우사(교재)',\n",
       "       '웰북', '일진사', '교보문고', '정익사', '연두에디션', '오렌지미디어', '기다리', '시대인',\n",
       "       'STORYJOA(스토리조아)', '에스티유니타스', '이모션북스', '한올', '현실문화', '이한미디어',\n",
       "       'ITC', '역락', '지식산업정보원', '커뮤니케이션북스', 'BOOKK(부크크)', '에듀에이지', '랩뷰교육원',\n",
       "       '시그마프레스', '유페이퍼', '한티미디어', '홍릉과학출판사', '은천출판', '시대에듀', '토마토마트',\n",
       "       '한빛미디어(주)', 'e퍼플', '프리렉', '좋은땅', '데이터에듀', '동양북스', '아이리포', '궁리',\n",
       "       '노스보스', '학지사', '지필미디어', '잎파랑', '씨앗을뿌리는사람', '홀인원출판사',\n",
       "       '영진.com(영진닷컴)', '반니', '한빛아카데미(교재)', '서강대학교출판부', '아이세움', '시대고시기획',\n",
       "       '이레테크', '캠퍼스멘토', '데이코', '지앤선', '한국금융연수원', '한국정보화기술', '이정선음악사',\n",
       "       '투마이북', '북이그잼', '배움', '소프트뱅크미디어(월간지)', '마소인터렉티브', '하사랑153', '연학사',\n",
       "       '월송', '유캔맥스', '생능', '(주)마소인터렉티브', '더채움', '메디시언',\n",
       "       '씨에치오얼라이언스(CHOAlliance)', '북스홀릭퍼블리싱', '한솜미디어', '채움북스', '데이코산업연구소',\n",
       "       '씨에치오얼라이언스', '윌비스', '제우미디어', '복두출판사', 'CHOAlliance', '한신대학교출판부',\n",
       "       '전자신문사', '북스홀릭', '텍스트북스', '피어슨에듀케이션코리아', '아진(김근배)'], dtype=object)"
      ]
     },
     "metadata": {},
     "execution_count": 256
    }
   ],
   "metadata": {}
  },
  {
   "cell_type": "code",
   "execution_count": 258,
   "source": [
    "result_r['publisher'].value_counts()"
   ],
   "outputs": [
    {
     "output_type": "execute_result",
     "data": {
      "text/plain": [
       "에이콘출판              47\n",
       "길벗                 21\n",
       "한빛미디어              17\n",
       "성안당                12\n",
       "위키북스               10\n",
       "                   ..\n",
       "역락                  1\n",
       "ITC                 1\n",
       "현실문화                1\n",
       "STORYJOA(스토리조아)     1\n",
       "아진(김근배)             1\n",
       "Name: publisher, Length: 141, dtype: int64"
      ]
     },
     "metadata": {},
     "execution_count": 258
    }
   ],
   "metadata": {}
  },
  {
   "cell_type": "code",
   "execution_count": 263,
   "source": [
    "publisher_r = pd.DataFrame(result_r['publisher'].value_counts())\r\n",
    "publisher_r.head(10)"
   ],
   "outputs": [
    {
     "output_type": "execute_result",
     "data": {
      "text/html": [
       "<div>\n",
       "<style scoped>\n",
       "    .dataframe tbody tr th:only-of-type {\n",
       "        vertical-align: middle;\n",
       "    }\n",
       "\n",
       "    .dataframe tbody tr th {\n",
       "        vertical-align: top;\n",
       "    }\n",
       "\n",
       "    .dataframe thead th {\n",
       "        text-align: right;\n",
       "    }\n",
       "</style>\n",
       "<table border=\"1\" class=\"dataframe\">\n",
       "  <thead>\n",
       "    <tr style=\"text-align: right;\">\n",
       "      <th></th>\n",
       "      <th>publisher</th>\n",
       "    </tr>\n",
       "  </thead>\n",
       "  <tbody>\n",
       "    <tr>\n",
       "      <th>에이콘출판</th>\n",
       "      <td>47</td>\n",
       "    </tr>\n",
       "    <tr>\n",
       "      <th>길벗</th>\n",
       "      <td>21</td>\n",
       "    </tr>\n",
       "    <tr>\n",
       "      <th>한빛미디어</th>\n",
       "      <td>17</td>\n",
       "    </tr>\n",
       "    <tr>\n",
       "      <th>성안당</th>\n",
       "      <td>12</td>\n",
       "    </tr>\n",
       "    <tr>\n",
       "      <th>위키북스</th>\n",
       "      <td>10</td>\n",
       "    </tr>\n",
       "    <tr>\n",
       "      <th>자유아카데미</th>\n",
       "      <td>9</td>\n",
       "    </tr>\n",
       "    <tr>\n",
       "      <th>퍼플</th>\n",
       "      <td>9</td>\n",
       "    </tr>\n",
       "    <tr>\n",
       "      <th>제이펍</th>\n",
       "      <td>8</td>\n",
       "    </tr>\n",
       "    <tr>\n",
       "      <th>정보문화사</th>\n",
       "      <td>8</td>\n",
       "    </tr>\n",
       "    <tr>\n",
       "      <th>씨엔씨에듀</th>\n",
       "      <td>7</td>\n",
       "    </tr>\n",
       "  </tbody>\n",
       "</table>\n",
       "</div>"
      ],
      "text/plain": [
       "        publisher\n",
       "에이콘출판          47\n",
       "길벗             21\n",
       "한빛미디어          17\n",
       "성안당            12\n",
       "위키북스           10\n",
       "자유아카데미          9\n",
       "퍼플              9\n",
       "제이펍             8\n",
       "정보문화사           8\n",
       "씨엔씨에듀           7"
      ]
     },
     "metadata": {},
     "execution_count": 263
    }
   ],
   "metadata": {}
  },
  {
   "cell_type": "code",
   "execution_count": 262,
   "source": [
    "publisher_php = pd.DataFrame(result_php['publisher'].value_counts())\r\n",
    "publisher_javascript = pd.DataFrame(result_javascript['publisher'].value_counts())\r\n",
    "publisher_visual = pd.DataFrame(result_visual['publisher'].value_counts())\r\n",
    "publisher_cplus = pd.DataFrame(result_cplus['publisher'].value_counts())"
   ],
   "outputs": [],
   "metadata": {}
  },
  {
   "cell_type": "code",
   "execution_count": 265,
   "source": [
    "publisher_php.head(10)"
   ],
   "outputs": [
    {
     "output_type": "execute_result",
     "data": {
      "text/html": [
       "<div>\n",
       "<style scoped>\n",
       "    .dataframe tbody tr th:only-of-type {\n",
       "        vertical-align: middle;\n",
       "    }\n",
       "\n",
       "    .dataframe tbody tr th {\n",
       "        vertical-align: top;\n",
       "    }\n",
       "\n",
       "    .dataframe thead th {\n",
       "        text-align: right;\n",
       "    }\n",
       "</style>\n",
       "<table border=\"1\" class=\"dataframe\">\n",
       "  <thead>\n",
       "    <tr style=\"text-align: right;\">\n",
       "      <th></th>\n",
       "      <th>publisher</th>\n",
       "    </tr>\n",
       "  </thead>\n",
       "  <tbody>\n",
       "    <tr>\n",
       "      <th>에이콘출판</th>\n",
       "      <td>30</td>\n",
       "    </tr>\n",
       "    <tr>\n",
       "      <th>한빛미디어</th>\n",
       "      <td>26</td>\n",
       "    </tr>\n",
       "    <tr>\n",
       "      <th>정보문화사</th>\n",
       "      <td>24</td>\n",
       "    </tr>\n",
       "    <tr>\n",
       "      <th>영진닷컴</th>\n",
       "      <td>16</td>\n",
       "    </tr>\n",
       "    <tr>\n",
       "      <th>위키북스</th>\n",
       "      <td>13</td>\n",
       "    </tr>\n",
       "    <tr>\n",
       "      <th>21세기사</th>\n",
       "      <td>12</td>\n",
       "    </tr>\n",
       "    <tr>\n",
       "      <th>소프트뱅크미디어(월간지)</th>\n",
       "      <td>9</td>\n",
       "    </tr>\n",
       "    <tr>\n",
       "      <th>길벗</th>\n",
       "      <td>7</td>\n",
       "    </tr>\n",
       "    <tr>\n",
       "      <th>글로벌</th>\n",
       "      <td>7</td>\n",
       "    </tr>\n",
       "    <tr>\n",
       "      <th>삼양미디어</th>\n",
       "      <td>7</td>\n",
       "    </tr>\n",
       "  </tbody>\n",
       "</table>\n",
       "</div>"
      ],
      "text/plain": [
       "               publisher\n",
       "에이콘출판                 30\n",
       "한빛미디어                 26\n",
       "정보문화사                 24\n",
       "영진닷컴                  16\n",
       "위키북스                  13\n",
       "21세기사                 12\n",
       "소프트뱅크미디어(월간지)          9\n",
       "길벗                     7\n",
       "글로벌                    7\n",
       "삼양미디어                  7"
      ]
     },
     "metadata": {},
     "execution_count": 265
    }
   ],
   "metadata": {}
  },
  {
   "cell_type": "code",
   "execution_count": 266,
   "source": [
    "publisher_javascript.head(10)"
   ],
   "outputs": [
    {
     "output_type": "execute_result",
     "data": {
      "text/html": [
       "<div>\n",
       "<style scoped>\n",
       "    .dataframe tbody tr th:only-of-type {\n",
       "        vertical-align: middle;\n",
       "    }\n",
       "\n",
       "    .dataframe tbody tr th {\n",
       "        vertical-align: top;\n",
       "    }\n",
       "\n",
       "    .dataframe thead th {\n",
       "        text-align: right;\n",
       "    }\n",
       "</style>\n",
       "<table border=\"1\" class=\"dataframe\">\n",
       "  <thead>\n",
       "    <tr style=\"text-align: right;\">\n",
       "      <th></th>\n",
       "      <th>publisher</th>\n",
       "    </tr>\n",
       "  </thead>\n",
       "  <tbody>\n",
       "    <tr>\n",
       "      <th>에이콘출판</th>\n",
       "      <td>119</td>\n",
       "    </tr>\n",
       "    <tr>\n",
       "      <th>한빛미디어</th>\n",
       "      <td>65</td>\n",
       "    </tr>\n",
       "    <tr>\n",
       "      <th>위키북스</th>\n",
       "      <td>50</td>\n",
       "    </tr>\n",
       "    <tr>\n",
       "      <th>정보문화사</th>\n",
       "      <td>38</td>\n",
       "    </tr>\n",
       "    <tr>\n",
       "      <th>영진닷컴</th>\n",
       "      <td>29</td>\n",
       "    </tr>\n",
       "    <tr>\n",
       "      <th>제이펍</th>\n",
       "      <td>27</td>\n",
       "    </tr>\n",
       "    <tr>\n",
       "      <th>길벗</th>\n",
       "      <td>25</td>\n",
       "    </tr>\n",
       "    <tr>\n",
       "      <th>인사이트</th>\n",
       "      <td>23</td>\n",
       "    </tr>\n",
       "    <tr>\n",
       "      <th>대림</th>\n",
       "      <td>20</td>\n",
       "    </tr>\n",
       "    <tr>\n",
       "      <th>비제이퍼블릭</th>\n",
       "      <td>17</td>\n",
       "    </tr>\n",
       "  </tbody>\n",
       "</table>\n",
       "</div>"
      ],
      "text/plain": [
       "        publisher\n",
       "에이콘출판         119\n",
       "한빛미디어          65\n",
       "위키북스           50\n",
       "정보문화사          38\n",
       "영진닷컴           29\n",
       "제이펍            27\n",
       "길벗             25\n",
       "인사이트           23\n",
       "대림             20\n",
       "비제이퍼블릭         17"
      ]
     },
     "metadata": {},
     "execution_count": 266
    }
   ],
   "metadata": {}
  },
  {
   "cell_type": "code",
   "execution_count": 270,
   "source": [
    "publisher_visual = pd.DataFrame(result_visual['publisher'].value_counts())\r\n",
    "publisher_visual.head(10)"
   ],
   "outputs": [
    {
     "output_type": "execute_result",
     "data": {
      "text/html": [
       "<div>\n",
       "<style scoped>\n",
       "    .dataframe tbody tr th:only-of-type {\n",
       "        vertical-align: middle;\n",
       "    }\n",
       "\n",
       "    .dataframe tbody tr th {\n",
       "        vertical-align: top;\n",
       "    }\n",
       "\n",
       "    .dataframe thead th {\n",
       "        text-align: right;\n",
       "    }\n",
       "</style>\n",
       "<table border=\"1\" class=\"dataframe\">\n",
       "  <thead>\n",
       "    <tr style=\"text-align: right;\">\n",
       "      <th></th>\n",
       "      <th>publisher</th>\n",
       "    </tr>\n",
       "  </thead>\n",
       "  <tbody>\n",
       "    <tr>\n",
       "      <th>정보문화사</th>\n",
       "      <td>52</td>\n",
       "    </tr>\n",
       "    <tr>\n",
       "      <th>영진닷컴</th>\n",
       "      <td>49</td>\n",
       "    </tr>\n",
       "    <tr>\n",
       "      <th>성안당</th>\n",
       "      <td>14</td>\n",
       "    </tr>\n",
       "    <tr>\n",
       "      <th>Wrox</th>\n",
       "      <td>13</td>\n",
       "    </tr>\n",
       "    <tr>\n",
       "      <th>삼각형</th>\n",
       "      <td>12</td>\n",
       "    </tr>\n",
       "    <tr>\n",
       "      <th>인포북</th>\n",
       "      <td>11</td>\n",
       "    </tr>\n",
       "    <tr>\n",
       "      <th>가메</th>\n",
       "      <td>11</td>\n",
       "    </tr>\n",
       "    <tr>\n",
       "      <th>사이버출판사</th>\n",
       "      <td>11</td>\n",
       "    </tr>\n",
       "    <tr>\n",
       "      <th>21세기사</th>\n",
       "      <td>11</td>\n",
       "    </tr>\n",
       "    <tr>\n",
       "      <th>글로벌</th>\n",
       "      <td>10</td>\n",
       "    </tr>\n",
       "  </tbody>\n",
       "</table>\n",
       "</div>"
      ],
      "text/plain": [
       "        publisher\n",
       "정보문화사          52\n",
       "영진닷컴           49\n",
       "성안당            14\n",
       "Wrox           13\n",
       "삼각형            12\n",
       "인포북            11\n",
       "가메             11\n",
       "사이버출판사         11\n",
       "21세기사          11\n",
       "글로벌            10"
      ]
     },
     "metadata": {},
     "execution_count": 270
    }
   ],
   "metadata": {}
  },
  {
   "cell_type": "code",
   "execution_count": 271,
   "source": [
    "publisher_cplus.head(10)"
   ],
   "outputs": [
    {
     "output_type": "execute_result",
     "data": {
      "text/html": [
       "<div>\n",
       "<style scoped>\n",
       "    .dataframe tbody tr th:only-of-type {\n",
       "        vertical-align: middle;\n",
       "    }\n",
       "\n",
       "    .dataframe tbody tr th {\n",
       "        vertical-align: top;\n",
       "    }\n",
       "\n",
       "    .dataframe thead th {\n",
       "        text-align: right;\n",
       "    }\n",
       "</style>\n",
       "<table border=\"1\" class=\"dataframe\">\n",
       "  <thead>\n",
       "    <tr style=\"text-align: right;\">\n",
       "      <th></th>\n",
       "      <th>publisher</th>\n",
       "    </tr>\n",
       "  </thead>\n",
       "  <tbody>\n",
       "    <tr>\n",
       "      <th>영진닷컴</th>\n",
       "      <td>38</td>\n",
       "    </tr>\n",
       "    <tr>\n",
       "      <th>도서출판 홍릉(홍릉과학출판사)</th>\n",
       "      <td>29</td>\n",
       "    </tr>\n",
       "    <tr>\n",
       "      <th>크라운출판사</th>\n",
       "      <td>21</td>\n",
       "    </tr>\n",
       "    <tr>\n",
       "      <th>정보문화사</th>\n",
       "      <td>21</td>\n",
       "    </tr>\n",
       "    <tr>\n",
       "      <th>삼각형</th>\n",
       "      <td>19</td>\n",
       "    </tr>\n",
       "    <tr>\n",
       "      <th>한빛미디어</th>\n",
       "      <td>18</td>\n",
       "    </tr>\n",
       "    <tr>\n",
       "      <th>가남사</th>\n",
       "      <td>16</td>\n",
       "    </tr>\n",
       "    <tr>\n",
       "      <th>기전연구사</th>\n",
       "      <td>16</td>\n",
       "    </tr>\n",
       "    <tr>\n",
       "      <th>대림</th>\n",
       "      <td>16</td>\n",
       "    </tr>\n",
       "    <tr>\n",
       "      <th>성안당</th>\n",
       "      <td>13</td>\n",
       "    </tr>\n",
       "  </tbody>\n",
       "</table>\n",
       "</div>"
      ],
      "text/plain": [
       "                  publisher\n",
       "영진닷컴                     38\n",
       "도서출판 홍릉(홍릉과학출판사)         29\n",
       "크라운출판사                   21\n",
       "정보문화사                    21\n",
       "삼각형                      19\n",
       "한빛미디어                    18\n",
       "가남사                      16\n",
       "기전연구사                    16\n",
       "대림                       16\n",
       "성안당                      13"
      ]
     },
     "metadata": {},
     "execution_count": 271
    }
   ],
   "metadata": {}
  },
  {
   "cell_type": "code",
   "execution_count": null,
   "source": [],
   "outputs": [],
   "metadata": {}
  }
 ],
 "metadata": {
  "orig_nbformat": 4,
  "language_info": {
   "name": "python",
   "version": "3.8.11",
   "mimetype": "text/x-python",
   "codemirror_mode": {
    "name": "ipython",
    "version": 3
   },
   "pygments_lexer": "ipython3",
   "nbconvert_exporter": "python",
   "file_extension": ".py"
  },
  "kernelspec": {
   "name": "python3",
   "display_name": "Python 3.8.11 64-bit ('ds_study': conda)"
  },
  "interpreter": {
   "hash": "ac43775a0ee1ce4841e9ed4730f9066fe38fe9ee5e6319d6f89550651fb49a9c"
  }
 },
 "nbformat": 4,
 "nbformat_minor": 2
}